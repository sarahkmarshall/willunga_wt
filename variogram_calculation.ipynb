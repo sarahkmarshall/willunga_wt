{
 "cells": [
  {
   "cell_type": "markdown",
   "id": "19542e4c",
   "metadata": {},
   "source": [
    "# Variogram calculation\n",
    "\n",
    "Script adapted from: https://github.com/GeostatsGuy/PythonNumericalDemos/blob/master/Variogram.ipynb\n"
   ]
  },
  {
   "cell_type": "markdown",
   "id": "fd25c0a4",
   "metadata": {},
   "source": [
    "## Load the required libraries"
   ]
  },
  {
   "cell_type": "code",
   "execution_count": 186,
   "id": "72a4f417",
   "metadata": {},
   "outputs": [],
   "source": [
    "import os                                                 # to set current working directory \n",
    "import numpy as np                                        # arrays and matrix math\n",
    "import pandas as pd                                       # DataFrames\n",
    "import matplotlib.pyplot as plt                           # plotting\n",
    "import geopandas as gpd\n"
   ]
  },
  {
   "cell_type": "markdown",
   "id": "e94c32df",
   "metadata": {},
   "source": [
    "## Declare functions"
   ]
  },
  {
   "cell_type": "code",
   "execution_count": 187,
   "id": "7c8ef9c6",
   "metadata": {},
   "outputs": [],
   "source": [
    "# utility to convert GSLIB Geo-EAS files to a pandas DataFrame for use with Python methods\n",
    "def GSLIB2Dataframe(data_file):\n",
    "    import os\n",
    "    import numpy as np  \n",
    "    import pandas as pd\n",
    "\n",
    "    colArray = []\n",
    "    with open(data_file) as myfile:   # read first two lines\n",
    "        head = [next(myfile) for x in range(2)]\n",
    "        line2 = head[1].split()\n",
    "        ncol = int(line2[0])\n",
    "        for icol in range(0, ncol):\n",
    "            head = [next(myfile) for x in range(1)]\n",
    "            colArray.append(head[0].split()[0])\n",
    "        data = np.loadtxt(myfile, skiprows = 0)\n",
    "        df = pd.DataFrame(data)\n",
    "        df.columns = colArray\n",
    "        return df\n",
    "\n",
    "# utility to convert pandas DataFrame to a GSLIB Geo-EAS file for use with GSLIB methods\n",
    "def Dataframe2GSLIB(data_file,df):\n",
    "    colArray = []\n",
    "    colArray = df.columns\n",
    "    ncol = len(df.columns) \n",
    "    nrow = len(df.index)\n",
    "    file_out = open(data_file, \"w\")\n",
    "    file_out.write(data_file + '\\n')  \n",
    "    file_out.write(str(ncol) + '\\n') \n",
    "    for icol in range(0, ncol): \n",
    "        file_out.write(df.columns[icol]  + '\\n')  \n",
    "    \n",
    "    for irow in range(0, nrow):\n",
    "        for icol in range(0, ncol):\n",
    "            file_out.write(str(df.iloc[irow,icol])+ ' ')  \n",
    "        file_out.write('\\n')\n",
    "\n",
    "    file_out.close()       \n",
    "\n",
    "# utility to convert GSLIB Geo-EAS files to a numpy ndarray for use with Python methods\n",
    "def GSLIB2ndarray(data_file,kcol,nx,ny):\n",
    "    import os\n",
    "    import numpy as np  \n",
    "\n",
    "    colArray = []\n",
    "    if ny > 1:\n",
    "        array = np.ndarray(shape=(ny,nx),dtype=float,order='F')\n",
    "    else:\n",
    "        array = np.zeros(nx)\n",
    "        \n",
    "    with open(data_file) as myfile:   # read first two lines\n",
    "        head = [next(myfile) for x in range(2)]\n",
    "        line2 = head[1].split()\n",
    "        ncol = int(line2[0])          # get the number of columns\n",
    "        for icol in range(0, ncol):   # read over the column names\n",
    "            head = [next(myfile) for x in range(1)]\n",
    "            if icol == kcol:\n",
    "                col_name = head[0].split()[0]\n",
    "        for iy in range(0,ny):\n",
    "            for ix in range(0,nx):\n",
    "                head = [next(myfile) for x in range(1)]\n",
    "                array[ny-1-iy][ix] = head[0].split()[kcol]\n",
    "    return array,col_name\n",
    "\n",
    "# utility to convert numpy ndarray to a GSLIB Geo-EAS file for use with GSLIB methods   \n",
    "def ndarray2GSLIB(array,data_file,col_name):\n",
    "    file_out = open(data_file, \"w\")\n",
    "    file_out.write(data_file + '\\n')  \n",
    "    file_out.write('1 \\n')  \n",
    "    file_out.write(col_name  + '\\n') \n",
    "    if array.ndim == 2:\n",
    "        ny = (array.shape[0])\n",
    "        nx = (array.shape[1])\n",
    "        ncol = 1\n",
    "        for iy in range(0, ny):\n",
    "            for ix in range(0, nx):\n",
    "                file_out.write(str(array[ny-1-iy,ix])+ '\\n')        \n",
    "    elif array.ndim == 1:\n",
    "        nx = len(array)        \n",
    "        for ix in range(0, nx):\n",
    "            file_out.write(str(array[ix])+ '\\n')             \n",
    "    else:       \n",
    "        Print(\"Error: must use a 2D array\")            \n",
    "        file_out.close()\n",
    "        return            \n",
    "    file_out.close()\n",
    "    \n",
    "# histogram, reimplemented in Python of GSLIB hist with MatPlotLib methods\n",
    "def hist(array,xmin,xmax,log,cumul,bins,weights,xlabel,title):\n",
    "    plt.figure(figsize=(8,6))\n",
    "    cs = plt.hist(array, alpha = 0.2, color = 'red', edgecolor = 'black', bins=bins, range = [xmin,xmax], weights = weights, log = log, cumulative = cumul)\n",
    "    plt.title(title)\n",
    "    plt.xlabel(xlabel); plt.ylabel('Frequency')    \n",
    "    plt.show()\n",
    "    return\n",
    "   \n",
    "# pixel plot, reimplemention in Python of GSLIB pixelplt with MatPlotLib methods\n",
    "def pixelplt(array,xmin,xmax,ymin,ymax,step,vmin,vmax,title,xlabel,ylabel,vlabel,cmap):\n",
    "    xx, yy = np.meshgrid(np.arange(xmin, xmax, step),np.arange(ymax, ymin, -1*step))\n",
    "    plt.figure(figsize=(8,6))\n",
    "    im = plt.contourf(xx,yy,array,cmap=cmap,vmin=vmin,vmax=vmax,levels=np.linspace(vmin,vmax,100))\n",
    "    plt.title(title)\n",
    "    plt.xlabel(xlabel)\n",
    "    plt.ylabel(ylabel)\n",
    "    cbar = plt.colorbar(im,orientation = 'vertical',ticks=np.linspace(vmin,vmax,10))\n",
    "    cbar.set_label(vlabel, rotation=270, labelpad=20)\n",
    "    plt.show()\n",
    "    return im\n",
    "\n",
    "# location map, reimplemention in Python of GSLIB locmap with MatPlotLib methods\n",
    "def locmap(df,xcol,ycol,vcol,xmin,xmax,ymin,ymax,vmin,vmax,title,xlabel,ylabel,vlabel,cmap):\n",
    "    ixy = 0 \n",
    "    plt.figure(figsize=(8,6))    \n",
    "    im = plt.scatter(df[xcol],df[ycol],s=None, c=df[vcol], marker=None, cmap=cmap, norm=None, vmin=vmin, vmax=vmax, alpha=0.8, linewidths=0.8, verts=None, edgecolors=\"black\")\n",
    "    plt.title(title)\n",
    "    plt.xlim(xmin,xmax)\n",
    "    plt.ylim(ymin,ymax)    \n",
    "    plt.xlabel(xlabel)\n",
    "    plt.ylabel(ylabel)\n",
    "    cbar = plt.colorbar(im, orientation = 'vertical',ticks=np.linspace(vmin,vmax,10))\n",
    "    cbar.set_label(vlabel, rotation=270, labelpad=20)\n",
    "    plt.show()\n",
    "    return im\n",
    "\n",
    "def vargplt(lag,gamma,npair,vtype,name,xmin,xmax,ymin,ymax,sill,title,cmap):\n",
    "    plt.figure(figsize=(8,6))\n",
    "    marker = [\"o\",\"v\",\"s\",\"h\",\"^\",\">\",\"<\"]\n",
    "    if vtype==0:\n",
    "        im = plt.scatter(lag,gamma,s=None, c=npair, marker=None, label = name,cmap=cmap, norm=None, alpha=0.8, linewidths=0.8, verts=None, edgecolors=\"black\")\n",
    "    else:\n",
    "        plt.plot(lag,gamma,'C3',lw=3,c='black')\n",
    "    ixy = 0 \n",
    "    plt.title(title)\n",
    "    plt.xlim(xmin,xmax)\n",
    "    plt.ylim(ymin,ymax)    \n",
    "    plt.xlabel('Lag Distance (m)')\n",
    "    plt.ylabel('Variogram')\n",
    "    plt.arrow(0,sill,xmax,0,width=0.002,color='red',head_length=0.0,head_width=0.0)\n",
    "    plt.legend(loc = 'lower right')\n",
    "    cbar = plt.colorbar(im, orientation = 'vertical')\n",
    "    cbar.set_label('Number of Pairs', rotation=270, labelpad=20)\n",
    "    plt.show()\n",
    "    return im\n",
    "\n",
    "def vargplts(lag,gamma,npair,vtype,name,xmin,xmax,ymin,ymax,sill,title,cmap):\n",
    "    plt.figure(figsize=(8,6))\n",
    "    marker = [\"o\",\"v\",\"s\",\"h\",\"^\",\">\",\"<\"]\n",
    "    nvar = lags.shape[0]\n",
    "    for ivar in range(0, nvar):\n",
    "        if vtype[ivar]==0:\n",
    "            im = plt.scatter(lag[ivar],gamma[ivar],s=None,label = name[ivar],c=npair[ivar], marker=marker[ivar], cmap=cmap, norm=None, alpha=0.8, linewidths=0.8, verts=None, edgecolors=\"black\")\n",
    "        else:\n",
    "            plt.plot(lag[ivar],gamma[ivar], 'C3', lw=3,c='black')\n",
    "    ixy = 0 \n",
    "    plt.title(title)\n",
    "    plt.xlim(xmin,xmax)\n",
    "    plt.ylim(ymin,ymax)    \n",
    "    plt.xlabel('Lag Distance (m)')\n",
    "    plt.ylabel('Variogram')\n",
    "    plt.arrow(0,sill,xmax,0,width=0.002,color='red',head_length=0.0,head_width=0.0)\n",
    "    plt.legend(loc = 'lower right')\n",
    "    cbar = plt.colorbar(im, orientation = 'vertical')\n",
    "    cbar.set_label('Number of Pairs', rotation=270, labelpad=20)\n",
    "    plt.show()\n",
    "    return im\n",
    "\n",
    "# pixelplt with location map superimposed, reimplementation in Python of a MOD from GSLIB with MatPlotLib methods\n",
    "def locpix(array,xmin,xmax,ymin,ymax,step,vmin,vmax,df,xcol,ycol,vcol,title,xlabel,ylabel,vlabel,cmap):\n",
    "    xx, yy = np.meshgrid(np.arange(xmin, xmax, step),np.arange(ymax, ymin, -1*step)) \n",
    "    plt.figure(figsize=(8,6))\n",
    "    cs = plt.contourf(xx, yy, array, cmap=cmap,vmin=vmin, vmax=vmax, levels=np.linspace(vmin,vmax,100))\n",
    "    im = plt.scatter(df[xcol],df[ycol],s=None, c=df[vcol], marker=None, cmap=cmap, norm=None, vmin=vmin, vmax=vmax, alpha=0.8, linewidths=0.8, verts=None, edgecolors=\"black\")\n",
    "    plt.xlim(xmin,xmax-step)\n",
    "    plt.ylim(ymin+step,ymax) \n",
    "    plt.title(title)\n",
    "    plt.xlabel(xlabel)\n",
    "    plt.ylabel(ylabel)\n",
    "    cbar = plt.colorbar(orientation = 'vertical',ticks=np.linspace(vmin,vmax,10))\n",
    "    cbar.set_label(vlabel, rotation=270, labelpad=20)\n",
    "    plt.show()\n",
    "    return cs\n",
    "\n",
    "# affine distribution correction reimplemented in Python with numpy methods \n",
    "def affine(array,tmean,tstdev):    \n",
    "    if array.ndim != 2:\n",
    "        Print(\"Error: must use a 2D array\")\n",
    "        return\n",
    "    nx = array.shape[0]\n",
    "    ny = array.shape[1]\n",
    "    mean = np.average(array)\n",
    "    stdev = np.std(array)\n",
    "    for iy in range(0,ny):\n",
    "        for ix in range(0,nx):\n",
    "             array[ix,iy]= (tstdev/stdev)*(array[ix,iy] - mean) + tmean  \n",
    "    return(array)            \n",
    "\n",
    "# normal score transform, wrapper for nscore from GSLIB (.exe must be in working directory)(not used in this demo)   \n",
    "def nscore(x):\n",
    "    import os\n",
    "    import numpy as np\n",
    "    file = 'nscore_out.dat'\n",
    "    ndarray2GSLIB(x,\"nscore.dat\",\"value\")\n",
    "    \n",
    "    file = open(\"nscore.par\", \"w\")\n",
    "    file.write(\"                  Parameters for NSCORE                                    \\n\")\n",
    "    file.write(\"                  *********************                                    \\n\")\n",
    "    file.write(\"                                                                           \\n\")\n",
    "    file.write(\"START OF PARAMETERS:                                                       \\n\")\n",
    "    file.write(\"nscore.dat           -file with data                                       \\n\")\n",
    "    file.write(\"1   0                    -  columns for variable and weight                \\n\")\n",
    "    file.write(\"-1.0e21   1.0e21         -  trimming limits                                \\n\")\n",
    "    file.write(\"0                        -1=transform according to specified ref. dist.    \\n\")\n",
    "    file.write(\"../histsmth/histsmth.out -  file with reference dist.                      \\n\")\n",
    "    file.write(\"1   2                    -  columns for variable and weight                \\n\")\n",
    "    file.write(\"nscore.out               -file for output                                  \\n\")\n",
    "    file.write(\"nscore.trn               -file for output transformation table             \\n\")\n",
    "    file.close()\n",
    "\n",
    "    os.system('nscore.exe nscore.par')\n",
    "    file_in = 'nscore.out'\n",
    "    y,name = GSLIB2ndarray('nscore.out',1,nx,ny)\n",
    "    return(y)\n",
    "\n",
    "# cell-based declustering, 2D wrapper for declus from GSLIB (.exe must be in working directory)\n",
    "def declus(df,xcol,ycol,vcol,cmin,cmax,cnum,bmin):\n",
    "    import os\n",
    "    import numpy as np\n",
    "    nrow = len(df)\n",
    "    weights = []\n",
    "    file = 'declus_out.dat'\n",
    "    file_out = open(file, \"w\")\n",
    "    file_out.write('declus_out.dat' + '\\n')  \n",
    "    file_out.write('3' + '\\n')  \n",
    "    file_out.write('x' + '\\n') \n",
    "    file_out.write('y' + '\\n')\n",
    "    file_out.write('value' + '\\n')  \n",
    "    for irow in range(0, nrow):\n",
    "        file_out.write(str(df.iloc[irow][xcol])+' '+str(df.iloc[irow][ycol])+' '+str(df.iloc[irow][vcol])+' \\n')        \n",
    "    file_out.close()\n",
    "    \n",
    "    file = open(\"declus.par\", \"w\")\n",
    "    file.write(\"                  Parameters for DECLUS                                    \\n\")\n",
    "    file.write(\"                  *********************                                    \\n\")\n",
    "    file.write(\"                                                                           \\n\")\n",
    "    file.write(\"START OF PARAMETERS:                                                       \\n\")\n",
    "    file.write(\"declus_out.dat           -file with data                                   \\n\")\n",
    "    file.write(\"1   2   0   3               -  columns for X, Y, Z, and variable           \\n\")\n",
    "    file.write(\"-1.0e21     1.0e21          -  trimming limits                             \\n\")\n",
    "    file.write(\"declus.sum                  -file for summary output                       \\n\") \n",
    "    file.write(\"declus.out                  -file for output with data & weights           \\n\")\n",
    "    file.write(\"1.0   1.0                   -Y and Z cell anisotropy (Ysize=size*Yanis)    \\n\") \n",
    "    file.write(str(bmin) + \"                -0=look for minimum declustered mean (1=max)   \\n\") \n",
    "    file.write(str(cnum) + \" \" + str(cmin) + \" \" + str(cmax) + \" -number of cell sizes, min size, max size      \\n\")\n",
    "    file.write(\"5                           -number of origin offsets                      \\n\")\n",
    "    file.close()\n",
    "    \n",
    "    os.system('declus.exe declus.par')\n",
    "    df = GSLIB2Dataframe(\"declus.out\")\n",
    "    for irow in range(0, nrow):\n",
    "        weights.append(df.iloc[irow,3])    \n",
    "\n",
    "    return(weights)\n",
    " \n",
    "# regular grid variogram, 2D wrapper for gam from GSLIB (.exe must be in working directory)\n",
    "def gam_2d(array,nx,ny,hsiz,nlag,xlag,ylag,bstand):\n",
    "    import os\n",
    "    import numpy as np\n",
    "    \n",
    "    lag = []; gamma = []; npair = []\n",
    "    \n",
    "    ndarray2GSLIB(array,\"gam_out.dat\",\"gam.dat\")\n",
    "    \n",
    "    file = open(\"gam.par\", \"w\")\n",
    "    file.write(\"                  Parameters for GAM                                       \\n\")\n",
    "    file.write(\"                  ******************                                       \\n\")\n",
    "    file.write(\"                                                                           \\n\")\n",
    "    file.write(\"START OF PARAMETERS:                                                       \\n\")\n",
    "    file.write(\"gam_out.dat           -file with data                                      \\n\")\n",
    "    file.write(\"1   1   0             -   number of variables, column numbers              \\n\")\n",
    "    file.write(\"-1.0e21     1.0e21    -   trimming limits                                  \\n\")\n",
    "    file.write(\"gam.out               -file for variogram output                           \\n\")\n",
    "    file.write(\"1                     -grid or realization number                          \\n\")\n",
    "    file.write(str(nx) + \" 0.0 \" + str(hsiz) + \"  -nx, xmn, xsiz                           \\n\")\n",
    "    file.write(str(ny) + \" 0.0 \" + str(hsiz) + \"  -ny, ymn, ysiz                           \\n\")\n",
    "    file.write(\" 1   0.5   1.0        -nz, zmn, zsiz                                       \\n\")\n",
    "    file.write(\"1 \" + str(nlag) + \"   -number of directions, number of lags                \\n\")\n",
    "    file.write(str(xlag) + \" \" + str(ylag) + \" 0 -ixd(1),iyd(1),izd(1)                     \\n\")\n",
    "    file.write(\"1                     -standardize sill? (0=no, 1=yes)                     \\n\")\n",
    "    file.write(\"1                     -number of variograms                                \\n\")\n",
    "    file.write(\"1   1   1             -tail variable, head variable, variogram type        \\n\") \n",
    "    file.close()\n",
    "    \n",
    "    os.system('gam.exe gam.par')\n",
    "    reading = True\n",
    "    with open(\"gam.out\") as myfile:   \n",
    "        head = [next(myfile) for x in range(1)] # skip the first line\n",
    "        iline = 0\n",
    "        while reading:\n",
    "            try:\n",
    "                head = [next(myfile) for x in range(1)]\n",
    "                lag.append(float(head[0].split()[1]))\n",
    "                gamma.append(float(head[0].split()[2]))\n",
    "                npair.append(float(head[0].split()[3]))\n",
    "                iline = iline + 1\n",
    "            except StopIteration:\n",
    "                reading = False   \n",
    "    \n",
    "    return(lag,gamma,npair)    \n",
    "\n",
    "# regular grid variogram, 2D wrapper for gam from GSLIB (.exe must be in working directory)\n",
    "def gamv_2d(df,xcol,ycol,vcol,nlag,lagdist,azi,atol,bstand):\n",
    "    import os\n",
    "    import numpy as np\n",
    "    \n",
    "    lag = []; gamma = []; npair = []\n",
    "    \n",
    "    df_ext = pd.DataFrame({'X':df[xcol],'Y':df[ycol],'Z':df[vcol]})\n",
    "    Dataframe2GSLIB(\"gamv_out.dat\",df_ext)\n",
    "    \n",
    "    file = open(\"gamv.par\", \"w\")\n",
    "    \n",
    "    file.write(\"                  Parameters for GAMV                                      \\n\")\n",
    "    file.write(\"                  *******************                                      \\n\")\n",
    "    file.write(\"                                                                           \\n\")\n",
    "    file.write(\"START OF PARAMETERS:                                                       \\n\")\n",
    "    file.write(\"gamv_out.dat                    -file with data                            \\n\") \n",
    "    file.write(\"1   2   0                         -   columns for X, Y, Z coordinates      \\n\")\n",
    "    file.write(\"1   3   0                         -   number of variables,col numbers      \\n\")\n",
    "    file.write(\"-1.0e21     1.0e21                -   trimming limits                      \\n\")\n",
    "    file.write(\"gamv.out                          -file for variogram output               \\n\")\n",
    "    file.write(str(nlag) + \"                      -number of lags                          \\n\")\n",
    "    file.write(str(lagdist) + \"                       -lag separation distance                 \\n\")\n",
    "    file.write(str(lagdist*0.5) + \"                   -lag tolerance                           \\n\")\n",
    "    file.write(\"1                                 -number of directions                    \\n\")\n",
    "    file.write(str(azi) + \" \" + str(atol) + \" 99999.9 0.0  90.0  50.0  -azm,atol,bandh,dip,dtol,bandv \\n\")\n",
    "    file.write(str(bstand) + \"                    -standardize sills? (0=no, 1=yes)        \\n\")\n",
    "    file.write(\"1                                 -number of variograms                    \\n\")\n",
    "    file.write(\"1   1   1                         -tail var., head var., variogram type    \\n\")\n",
    "    file.close()\n",
    "    \n",
    "    os.system('gamv.exe gamv.par')\n",
    "    reading = True\n",
    "    with open(\"gamv.out\") as myfile:   \n",
    "        head = [next(myfile) for x in range(1)] # skip the first line\n",
    "        iline = 0\n",
    "        while reading:\n",
    "            try:\n",
    "                head = [next(myfile) for x in range(1)]\n",
    "                lag.append(float(head[0].split()[1]))\n",
    "                gamma.append(float(head[0].split()[2]))\n",
    "                npair.append(float(head[0].split()[3]))\n",
    "                iline = iline + 1\n",
    "            except StopIteration:\n",
    "                reading = False   \n",
    "    \n",
    "    return(lag,gamma,npair)    \n",
    "\n",
    "# irregular spaced data, 2D wrapper for varmap from GSLIB (.exe must be in working directory)\n",
    "def varmapv_2d(df,xcol,ycol,vcol,nx,ny,lagdist,minpairs,vmax,bstand,title,vlabel):\n",
    "    import os\n",
    "    import numpy as np\n",
    "    \n",
    "    lag = []; gamma = []; npair = []\n",
    "    \n",
    "    df_ext = pd.DataFrame({'X':df[xcol],'Y':df[ycol],'Z':df[vcol]})\n",
    "    Dataframe2GSLIB(\"varmap_out.dat\",df_ext)\n",
    "    \n",
    "    file = open(\"varmap.par\", \"w\")\n",
    "    \n",
    "    file.write(\"              Parameters for VARMAP                                        \\n\")\n",
    "    file.write(\"              *********************                                        \\n\")\n",
    "    file.write(\"                                                                           \\n\")\n",
    "    file.write(\"START OF PARAMETERS:                                                       \\n\")\n",
    "    file.write(\"varmap_out.dat          -file with data                                    \\n\")\n",
    "    file.write(\"1   3                        -   number of variables: column numbers       \\n\")\n",
    "    file.write(\"-1.0e21     1.0e21           -   trimming limits                           \\n\")\n",
    "    file.write(\"0                            -1=regular grid, 0=scattered values           \\n\")\n",
    "    file.write(\" 50   50    1                -if =1: nx,     ny,   nz                      \\n\")\n",
    "    file.write(\"1.0  1.0  1.0                -       xsiz, ysiz, zsiz                      \\n\") \n",
    "    file.write(\"1   2   0                    -if =0: columns for x,y, z coordinates        \\n\") \n",
    "    file.write(\"varmap.out                   -file for variogram output                    \\n\")\n",
    "    file.write(str(nx) + \" \" + str(ny) + \" 0 \" + \"-nxlag, nylag, nzlag                     \\n\")\n",
    "    file.write(str(lagdist) + \" \" + str(lagdist) + \" 1.0              -dxlag, dylag, dzlag \\n\")\n",
    "    file.write(str(minpairs) + \"             -minimum number of pairs                      \\n\")\n",
    "    file.write(str(bstand) + \"               -standardize sill? (0=no, 1=yes)              \\n\")\n",
    "    file.write(\"1                            -number of variograms                         \\n\") \n",
    "    file.write(\"1   1   1                    -tail, head, variogram type                   \\n\")\n",
    "    file.close()\n",
    "    \n",
    "    os.system('varmap.exe varmap.par')\n",
    "    nnx = nx*2+1; nny = ny*2+1\n",
    "    varmap, name = GSLIB2ndarray(\"varmap.out\",0,nnx,nny)               \n",
    "          \n",
    "    xmax = ((float(nx)+0.5)*lagdist); xmin = -1*xmax; \n",
    "    ymax = ((float(ny)+0.5)*lagdist); ymin = -1*ymax; \n",
    "    pixelplt(varmap,xmin,xmax,ymin,ymax,lagdist,0,vmax,title,'X','Y',vlabel,cmap)\n",
    "    return(varmap)  \n",
    "\n",
    "# regular spaced data, 2D wrapper for varmap from GSLIB (.exe must be in working directory)\n",
    "def varmap_2d(array,nx,ny,hsiz,nlagx,nlagy,minpairs,vmax,bstand,title,vlabel):\n",
    "    import os\n",
    "    import numpy as np\n",
    "     \n",
    "    ndarray2GSLIB(array,\"varmap_out.dat\",\"gam.dat\")\n",
    "    \n",
    "    file = open(\"varmap.par\", \"w\")\n",
    "    \n",
    "    file.write(\"              Parameters for VARMAP                                        \\n\")\n",
    "    file.write(\"              *********************                                        \\n\")\n",
    "    file.write(\"                                                                           \\n\")\n",
    "    file.write(\"START OF PARAMETERS:                                                       \\n\")\n",
    "    file.write(\"varmap_out.dat          -file with data                                    \\n\")\n",
    "    file.write(\"1   1                        -   number of variables: column numbers       \\n\")\n",
    "    file.write(\"-1.0e21     1.0e21           -   trimming limits                           \\n\")\n",
    "    file.write(\"1                            -1=regular grid, 0=scattered values           \\n\")\n",
    "    file.write(str(nx) + \" \" + str(ny) + \" 1  -if =1: nx,     ny,   nz                     \\n\")\n",
    "    file.write(str(hsiz) + \" \" + str(hsiz) + \" 1.0  - xsiz, ysiz, zsiz                     \\n\") \n",
    "    file.write(\"1   2   0                    -if =0: columns for x,y, z coordinates        \\n\") \n",
    "    file.write(\"varmap.out                   -file for variogram output                    \\n\")\n",
    "    file.write(str(nlagx) + \" \" + str(nlagy) + \" 0 \" + \"-nxlag, nylag, nzlag               \\n\")\n",
    "    file.write(str(hsiz) + \" \" + str(hsiz) + \" 1.0              -dxlag, dylag, dzlag       \\n\")\n",
    "    file.write(str(minpairs) + \"             -minimum number of pairs                      \\n\")\n",
    "    file.write(str(bstand) + \"               -standardize sill? (0=no, 1=yes)              \\n\")\n",
    "    file.write(\"1                            -number of variograms                         \\n\") \n",
    "    file.write(\"1   1   1                    -tail, head, variogram type                   \\n\")\n",
    "    file.close()\n",
    "    \n",
    "    os.system('varmap.exe varmap.par')\n",
    "    nnx = nlagx*2+1; nny = nlagy*2+1\n",
    "    varmap, name = GSLIB2ndarray(\"varmap.out\",0,nnx,nny)               \n",
    "          \n",
    "    xmax = ((float(nlagx)+0.5)*hsiz); xmin = -1*xmax; \n",
    "    ymax = ((float(nlagy)+0.5)*hsiz); ymin = -1*ymax; \n",
    "    pixelplt(varmap,xmin,xmax,ymin,ymax,hsiz,0,vmax,title,'X','Y',vlabel,cmap)\n",
    "    return(varmap)  \n",
    "\n",
    "# variogram model, 2D wrapper for vmodel from GSLIB (.exe must be in working directory)\n",
    "def vmodel_2d(nlag,step,azi,nug,nst,tstr1,c1,azi1,rmaj1,rmin1,tstr2=1,c2=0,azi2=0,rmaj2=0,rmin2=0):\n",
    "    import os\n",
    "    import numpy as np\n",
    "\n",
    "    lag = []; gamma = []\n",
    "    \n",
    "    file = open(\"vmodel.par\", \"w\")\n",
    "    file.write(\"                                                                           \\n\")\n",
    "    file.write(\"                  Parameters for VMODEL                                    \\n\")\n",
    "    file.write(\"                  *********************                                    \\n\")\n",
    "    file.write(\"                                                                           \\n\")\n",
    "    file.write(\"START OF PARAMETERS:                                                       \\n\")\n",
    "    file.write(\"vmodel.var                   -file for variogram output                    \\n\")\n",
    "    file.write(\"1 \" + str(nlag) + \"          -number of directions and lags                \\n\")\n",
    "    file.write(str(azi) + \" 0.0 \" + str(step) + \" -azm, dip, lag distance                  \\n\")\n",
    "    file.write(str(nst) + \" \" + str(nug) + \" -nst, nugget effect                           \\n\")\n",
    "    file.write(str(tstr1) + \" \" + str(c1) + \" \" + str(azi1) + \" 0.0   0.0   0.0 -it,cc,ang1,ang2,ang3 \\n\")\n",
    "    file.write(str(rmaj1) + \" \" + str(rmin1) + \" 0.0 -a_hmax, a_hmin, a_vert               \\n\")\n",
    "    file.write(str(tstr2) + \" \" + str(c2) + \" \" + str(azi2) + \" 0.0   0.0   0.0 -it,cc,ang1,ang2,ang3 \\n\")\n",
    "    file.write(str(rmaj2) + \" \" + str(rmin2) + \" 0.0 -a_hmax, a_hmin, a_vert               \\n\")\n",
    "    file.close()\n",
    "    \n",
    "    os.system('vmodel.exe vmodel.par')\n",
    "    reading = True\n",
    "    with open(\"vmodel.var\") as myfile:   \n",
    "        head = [next(myfile) for x in range(1)] # skip the first line\n",
    "        iline = 0\n",
    "        while reading:\n",
    "            try:\n",
    "                head = [next(myfile) for x in range(1)]\n",
    "                lag.append(float(head[0].split()[1]))\n",
    "                gamma.append(float(head[0].split()[2]))\n",
    "                iline = iline + 1\n",
    "            except StopIteration:\n",
    "                reading = False   \n",
    "    \n",
    "    return(lag,gamma)               \n",
    "               \n",
    "# sequential Gaussian simulation, 2D unconditional wrapper for sgsim from GSLIB (.exe must be in working directory)\n",
    "def GSLIB_sgsim_2d_uncond(nreal,nx,ny,hsiz,seed,hrange1,hrange2,azi,output_file):\n",
    "    import os\n",
    "    import numpy as np \n",
    "    \n",
    "    hmn = hsiz * 0.5   \n",
    "    hctab = int(hrange1/hsiz)*2 + 1\n",
    "    \n",
    "    sim_array = np.random.rand(nx,ny)\n",
    "  \n",
    "    file = open(\"sgsim.par\", \"w\")\n",
    "    file.write(\"              Parameters for SGSIM                                         \\n\")\n",
    "    file.write(\"              ********************                                         \\n\")\n",
    "    file.write(\"                                                                           \\n\")\n",
    "    file.write(\"START OF PARAMETER:                                                        \\n\")\n",
    "    file.write(\"none                          -file with data                              \\n\")\n",
    "    file.write(\"1  2  0  3  5  0              -  columns for X,Y,Z,vr,wt,sec.var.          \\n\")\n",
    "    file.write(\"-1.0e21 1.0e21                -  trimming limits                           \\n\")\n",
    "    file.write(\"0                             -transform the data (0=no, 1=yes)            \\n\")\n",
    "    file.write(\"none.trn                      -  file for output trans table               \\n\")\n",
    "    file.write(\"1                             -  consider ref. dist (0=no, 1=yes)          \\n\")\n",
    "    file.write(\"none.dat                      -  file with ref. dist distribution          \\n\")\n",
    "    file.write(\"1  0                          -  columns for vr and wt                     \\n\")\n",
    "    file.write(\"-4.0    4.0                   -  zmin,zmax(tail extrapolation)             \\n\")\n",
    "    file.write(\"1      -4.0                   -  lower tail option, parameter              \\n\")\n",
    "    file.write(\"1       4.0                   -  upper tail option, parameter              \\n\")\n",
    "    file.write(\"0                             -debugging level: 0,1,2,3                    \\n\")\n",
    "    file.write(\"nonw.dbg                      -file for debugging output                   \\n\")\n",
    "    file.write(str(output_file) + \"           -file for simulation output                  \\n\")\n",
    "    file.write(str(nreal) + \"                 -number of realizations to generate          \\n\")\n",
    "    file.write(str(nx) + \" \" + str(hmn) + \" \" + str(hsiz) + \"                              \\n\")\n",
    "    file.write(str(ny) + \" \" + str(hmn) + \" \" + str(hsiz) + \"                              \\n\")\n",
    "    file.write(\"1 0.0 1.0                     - nz zmn zsiz                                \\n\")\n",
    "    file.write(str(seed) + \"                  -random number seed                          \\n\")\n",
    "    file.write(\"0     8                       -min and max original data for sim           \\n\")\n",
    "    file.write(\"12                            -number of simulated nodes to use            \\n\")\n",
    "    file.write(\"0                             -assign data to nodes (0=no, 1=yes)          \\n\")\n",
    "    file.write(\"1     3                       -multiple grid search (0=no, 1=yes),num      \\n\")\n",
    "    file.write(\"0                             -maximum data per octant (0=not used)        \\n\")\n",
    "    file.write(str(hrange1) + \" \" + str(hrange2) + \" 1.0 -maximum search  (hmax,hmin,vert) \\n\")\n",
    "    file.write(str(azi) + \"   0.0   0.0       -angles for search ellipsoid                 \\n\")\n",
    "    file.write(str(hctab) + \" \" + str(hctab) + \" 1 -size of covariance lookup table        \\n\")\n",
    "    file.write(\"0     0.60   1.0              -ktype: 0=SK,1=OK,2=LVM,3=EXDR,4=COLC        \\n\")\n",
    "    file.write(\"none.dat                      -  file with LVM, EXDR, or COLC variable     \\n\")\n",
    "    file.write(\"4                             -  column for secondary variable             \\n\")\n",
    "    file.write(\"1    0.0                      -nst, nugget effect                          \\n\")\n",
    "    file.write(\"1    1.0 \" + str(azi) + \" 0.0 0.0 -it,cc,ang1,ang2,ang3                    \\n\")\n",
    "    file.write(\" \" + str(hrange1) + \" \" + str(hrange2) + \" 1.0 -a_hmax, a_hmin, a_vert     \\n\")\n",
    "    file.close()\n",
    "\n",
    "    os.system('\"sgsim.exe sgsim.par\"')       \n",
    "    sim_array = GSLIB2ndarray(output_file,0,nx,ny)         \n",
    "    return(sim_array)\n",
    "\n",
    "# extract regular spaced samples from a model   \n",
    "def regular_sample(array,xmin,xmax,ymin,ymax,step,mx,my,name):\n",
    "    x = []; y = []; v = []; iix = 0; iiy = 0;\n",
    "    xx, yy = np.meshgrid(np.arange(xmin, xmax, step),np.arange(ymax, ymin, -1*step))\n",
    "    iiy = 0\n",
    "    for iy in range(0,ny):\n",
    "        if iiy >= my:\n",
    "            iix = 0\n",
    "            for ix in range(0,nx):\n",
    "                if iix >= mx:\n",
    "                    x.append(xx[ix,iy]);y.append(yy[ix,iy]); v.append(array[ix,iy])\n",
    "                    iix = 0; iiy = 0\n",
    "                iix = iix + 1\n",
    "        iiy = iiy + 1\n",
    "    df = pd.DataFrame(np.c_[x,y,v],columns=['X', 'Y', name])\n",
    "    return(df)\n",
    "\n",
    "# extract random set of samples from a model   \n",
    "def random_sample(array,xmin,xmax,ymin,ymax,step,nsamp,name):\n",
    "    import random as rand\n",
    "    x = []; y = []; v = []; iix = 0; iiy = 0;\n",
    "    xx, yy = np.meshgrid(np.arange(xmin, xmax, step),np.arange(ymax-1, ymin-1, -1*step))\n",
    "    nx = xx.shape[0]\n",
    "    ny = xx.shape[1]\n",
    "    sample_index = rand.sample(range((nx)*(ny)), nsamp)\n",
    "    for isamp in range(0,nsamp):\n",
    "        iy = int(sample_index[isamp]/ny)\n",
    "        ix = sample_index[isamp] - iy*nx\n",
    "        x.append(xx[ix,iy])\n",
    "        y.append(yy[ix,iy])\n",
    "        v.append(array[ix,iy])\n",
    "   \n",
    "    df = pd.DataFrame(np.c_[x,y,v],columns=['X', 'Y', name])\n",
    "    return(df)  "
   ]
  },
  {
   "cell_type": "markdown",
   "id": "1f02483a",
   "metadata": {},
   "source": [
    "## Set the working directory"
   ]
  },
  {
   "cell_type": "code",
   "execution_count": 188,
   "id": "e0ae9090",
   "metadata": {},
   "outputs": [],
   "source": [
    "os.chdir(r\"C:\\Users\\mar886\\WaterTableProject\\Willunga\\willunga_wt\\variogram\")   "
   ]
  },
  {
   "cell_type": "markdown",
   "id": "b063a3ed",
   "metadata": {},
   "source": [
    "## Load the Willunga water level data"
   ]
  },
  {
   "cell_type": "code",
   "execution_count": 218,
   "id": "e367441e",
   "metadata": {},
   "outputs": [
    {
     "data": {
      "text/html": [
       "<div>\n",
       "<style scoped>\n",
       "    .dataframe tbody tr th:only-of-type {\n",
       "        vertical-align: middle;\n",
       "    }\n",
       "\n",
       "    .dataframe tbody tr th {\n",
       "        vertical-align: top;\n",
       "    }\n",
       "\n",
       "    .dataframe thead th {\n",
       "        text-align: right;\n",
       "    }\n",
       "</style>\n",
       "<table border=\"1\" class=\"dataframe\">\n",
       "  <thead>\n",
       "    <tr style=\"text-align: right;\">\n",
       "      <th></th>\n",
       "      <th>DHNO</th>\n",
       "      <th>DHNO.1</th>\n",
       "      <th>Unit_No</th>\n",
       "      <th>Unit_Number</th>\n",
       "      <th>dh_name</th>\n",
       "      <th>network</th>\n",
       "      <th>Obs_No</th>\n",
       "      <th>drillhole_class</th>\n",
       "      <th>water_point_type_code</th>\n",
       "      <th>Aquifer</th>\n",
       "      <th>...</th>\n",
       "      <th>map_2_5k</th>\n",
       "      <th>map_1k</th>\n",
       "      <th>water_info</th>\n",
       "      <th>salinity</th>\n",
       "      <th>water_chemistry</th>\n",
       "      <th>geophys_log</th>\n",
       "      <th>drill_log</th>\n",
       "      <th>lith_log</th>\n",
       "      <th>geometry</th>\n",
       "      <th>Datetime</th>\n",
       "    </tr>\n",
       "  </thead>\n",
       "  <tbody>\n",
       "    <tr>\n",
       "      <th>0</th>\n",
       "      <td>26558</td>\n",
       "      <td>26558</td>\n",
       "      <td>6527-562</td>\n",
       "      <td>652700562</td>\n",
       "      <td>WLG 40</td>\n",
       "      <td>MCL_VALE</td>\n",
       "      <td>WLG040</td>\n",
       "      <td>WW</td>\n",
       "      <td>NaN</td>\n",
       "      <td>Te2</td>\n",
       "      <td>...</td>\n",
       "      <td>l</td>\n",
       "      <td>2</td>\n",
       "      <td>Y</td>\n",
       "      <td>Y</td>\n",
       "      <td>Y</td>\n",
       "      <td>Y</td>\n",
       "      <td>Y</td>\n",
       "      <td>Y</td>\n",
       "      <td>POINT (268941.81 6093083.52)</td>\n",
       "      <td>2021-08-09</td>\n",
       "    </tr>\n",
       "    <tr>\n",
       "      <th>1</th>\n",
       "      <td>26565</td>\n",
       "      <td>26565</td>\n",
       "      <td>6527-569</td>\n",
       "      <td>652700569</td>\n",
       "      <td>NaN</td>\n",
       "      <td>MCL_VALE</td>\n",
       "      <td>WLG044</td>\n",
       "      <td>WW</td>\n",
       "      <td>NaN</td>\n",
       "      <td>Te2</td>\n",
       "      <td>...</td>\n",
       "      <td>d</td>\n",
       "      <td>1</td>\n",
       "      <td>Y</td>\n",
       "      <td>Y</td>\n",
       "      <td>Y</td>\n",
       "      <td>Y</td>\n",
       "      <td>Y</td>\n",
       "      <td>Y</td>\n",
       "      <td>POINT (270906.82 6096136.56)</td>\n",
       "      <td>2021-10-09</td>\n",
       "    </tr>\n",
       "    <tr>\n",
       "      <th>2</th>\n",
       "      <td>26585</td>\n",
       "      <td>26585</td>\n",
       "      <td>6527-589</td>\n",
       "      <td>652700589</td>\n",
       "      <td>NaN</td>\n",
       "      <td>MCL_VALE</td>\n",
       "      <td>WLG019</td>\n",
       "      <td>WW</td>\n",
       "      <td>NaN</td>\n",
       "      <td>Qpa</td>\n",
       "      <td>...</td>\n",
       "      <td>n</td>\n",
       "      <td>3</td>\n",
       "      <td>Y</td>\n",
       "      <td>Y</td>\n",
       "      <td>N</td>\n",
       "      <td>Y</td>\n",
       "      <td>N</td>\n",
       "      <td>N</td>\n",
       "      <td>POINT (272506.29 6097255.78)</td>\n",
       "      <td>2021-10-09</td>\n",
       "    </tr>\n",
       "    <tr>\n",
       "      <th>3</th>\n",
       "      <td>27050</td>\n",
       "      <td>27050</td>\n",
       "      <td>6527-1054</td>\n",
       "      <td>652701054</td>\n",
       "      <td>MAR SITE 12</td>\n",
       "      <td>MCL_VALE</td>\n",
       "      <td>WLG049</td>\n",
       "      <td>WW</td>\n",
       "      <td>NaN</td>\n",
       "      <td>Tomw</td>\n",
       "      <td>...</td>\n",
       "      <td>n</td>\n",
       "      <td>3</td>\n",
       "      <td>Y</td>\n",
       "      <td>Y</td>\n",
       "      <td>Y</td>\n",
       "      <td>N</td>\n",
       "      <td>Y</td>\n",
       "      <td>N</td>\n",
       "      <td>POINT (271897.13 6092138.11)</td>\n",
       "      <td>2021-11-19</td>\n",
       "    </tr>\n",
       "    <tr>\n",
       "      <th>4</th>\n",
       "      <td>27063</td>\n",
       "      <td>27063</td>\n",
       "      <td>6527-1067</td>\n",
       "      <td>652701067</td>\n",
       "      <td>NaN</td>\n",
       "      <td>MCL_VALE</td>\n",
       "      <td>WLG057</td>\n",
       "      <td>WW</td>\n",
       "      <td>NaN</td>\n",
       "      <td>Qpa</td>\n",
       "      <td>...</td>\n",
       "      <td>d</td>\n",
       "      <td>6</td>\n",
       "      <td>Y</td>\n",
       "      <td>Y</td>\n",
       "      <td>Y</td>\n",
       "      <td>Y</td>\n",
       "      <td>Y</td>\n",
       "      <td>Y</td>\n",
       "      <td>POINT (270438.32 6089954.64)</td>\n",
       "      <td>2021-10-09</td>\n",
       "    </tr>\n",
       "  </tbody>\n",
       "</table>\n",
       "<p>5 rows × 63 columns</p>\n",
       "</div>"
      ],
      "text/plain": [
       "    DHNO  DHNO.1    Unit_No  Unit_Number      dh_name   network  Obs_No  \\\n",
       "0  26558   26558   6527-562    652700562       WLG 40  MCL_VALE  WLG040   \n",
       "1  26565   26565   6527-569    652700569          NaN  MCL_VALE  WLG044   \n",
       "2  26585   26585   6527-589    652700589          NaN  MCL_VALE  WLG019   \n",
       "3  27050   27050  6527-1054    652701054  MAR SITE 12  MCL_VALE  WLG049   \n",
       "4  27063   27063  6527-1067    652701067          NaN  MCL_VALE  WLG057   \n",
       "\n",
       "  drillhole_class  water_point_type_code Aquifer  ...  map_2_5k map_1k  \\\n",
       "0              WW                    NaN     Te2  ...         l      2   \n",
       "1              WW                    NaN     Te2  ...         d      1   \n",
       "2              WW                    NaN     Qpa  ...         n      3   \n",
       "3              WW                    NaN    Tomw  ...         n      3   \n",
       "4              WW                    NaN     Qpa  ...         d      6   \n",
       "\n",
       "   water_info salinity  water_chemistry geophys_log  drill_log  lith_log  \\\n",
       "0           Y        Y                Y           Y          Y         Y   \n",
       "1           Y        Y                Y           Y          Y         Y   \n",
       "2           Y        Y                N           Y          N         N   \n",
       "3           Y        Y                Y           N          Y         N   \n",
       "4           Y        Y                Y           Y          Y         Y   \n",
       "\n",
       "                       geometry    Datetime  \n",
       "0  POINT (268941.81 6093083.52)  2021-08-09  \n",
       "1  POINT (270906.82 6096136.56)  2021-10-09  \n",
       "2  POINT (272506.29 6097255.78)  2021-10-09  \n",
       "3  POINT (271897.13 6092138.11)  2021-11-19  \n",
       "4  POINT (270438.32 6089954.64)  2021-10-09  \n",
       "\n",
       "[5 rows x 63 columns]"
      ]
     },
     "execution_count": 218,
     "metadata": {},
     "output_type": "execute_result"
    }
   ],
   "source": [
    "outputdatapath = r'C:\\Users\\mar886\\WaterTableProject\\Willunga\\willunga_wt\\output_data'\n",
    "\n",
    "df = pd.read_csv(os.path.join(outputdatapath, \"well_summary_gdf_ss_a.csv\"))\n",
    "df.head()"
   ]
  },
  {
   "cell_type": "code",
   "execution_count": 219,
   "id": "e04bb837",
   "metadata": {},
   "outputs": [
    {
     "data": {
      "text/plain": [
       "Text(0, 0.5, 'Latitude')"
      ]
     },
     "execution_count": 219,
     "metadata": {},
     "output_type": "execute_result"
    },
    {
     "data": {
      "image/png": "[encoded data removed]",
      "text/plain": [
       "<Figure size 432x288 with 2 Axes>"
      ]
     },
     "metadata": {
      "needs_background": "light"
     },
     "output_type": "display_data"
    }
   ],
   "source": [
    "fig = plt.figure()\n",
    "ax = fig.add_subplot(111)\n",
    "\n",
    "s = ax.scatter(df.decimal_long, df.neg_decimal_lat, c=df.rswl, cmap=\"coolwarm\")\n",
    "cb = plt.colorbar(s)\n",
    "cb.set_label('Water level (m)')\n",
    "\n",
    "plt.xlabel(\"Longitude\")\n",
    "plt.ylabel(\"Latitude\")"
   ]
  },
  {
   "cell_type": "markdown",
   "id": "fda8b089",
   "metadata": {},
   "source": [
    "## Change format of df with water level data \n",
    "\n",
    "To make it more useable for this script"
   ]
  },
  {
   "cell_type": "code",
   "execution_count": 220,
   "id": "8895c1d2",
   "metadata": {},
   "outputs": [
    {
     "data": {
      "text/plain": [
       "Index(['DHNO', 'DHNO.1', 'Unit_No', 'Unit_Number', 'dh_name', 'network',\n",
       "       'Obs_No', 'drillhole_class', 'water_point_type_code', 'Aquifer',\n",
       "       'Orig_drilled_depth', 'Orig_drilled_date', 'max_drill_depth',\n",
       "       'max_drill_date', 'late_open_depth', 'late_open_date', 'late_permit_no',\n",
       "       'cased_to', 'case_min_diam', 'purpose', 'latest_status',\n",
       "       'latest_status_date', 'dtw', 'swl', 'rswl', 'water_level_date', 'TDS',\n",
       "       'EC', 'salinity_date', 'pH', 'pH_date', 'yield', 'yield_date',\n",
       "       'mga_easting', 'mga_northing', 'mga_zone', 'long_degrees',\n",
       "       'long_minutes', 'long_seconds', 'lat_degrees', 'lat_minutes',\n",
       "       'lat_seconds', 'decimal_long', 'decimal_lat', 'neg_decimal_lat',\n",
       "       'hundred', 'plan', 'parcel', 'Title', 'map_250k', 'map_100k', 'map_50k',\n",
       "       'map_10k', 'map_2_5k', 'map_1k', 'water_info', 'salinity',\n",
       "       'water_chemistry', 'geophys_log', 'drill_log', 'lith_log', 'geometry',\n",
       "       'Datetime'],\n",
       "      dtype='object')"
      ]
     },
     "execution_count": 220,
     "metadata": {},
     "output_type": "execute_result"
    }
   ],
   "source": [
    "df.head()\n",
    "\n",
    "df.columns"
   ]
  },
  {
   "cell_type": "code",
   "execution_count": 222,
   "id": "feaf5930",
   "metadata": {},
   "outputs": [],
   "source": [
    "df = df.drop(columns=['DHNO', 'DHNO.1', 'Unit_No', 'Unit_Number', 'dh_name', 'network',\n",
    "       'Obs_No', 'drillhole_class', 'water_point_type_code', 'Aquifer',\n",
    "       'Orig_drilled_depth', 'Orig_drilled_date', 'max_drill_depth',\n",
    "       'max_drill_date', 'late_open_depth', 'late_open_date', 'late_permit_no',\n",
    "       'cased_to', 'case_min_diam', 'purpose', 'latest_status',\n",
    "       'latest_status_date', 'dtw', 'swl', 'water_level_date', 'TDS',\n",
    "       'EC', 'salinity_date', 'pH', 'pH_date', 'yield', 'yield_date',\n",
    "       'mga_easting', 'mga_northing', 'mga_zone', 'long_degrees',\n",
    "       'long_minutes', 'long_seconds', 'lat_degrees', 'lat_minutes',\n",
    "       'lat_seconds', 'decimal_lat', 'hundred', 'plan', 'parcel', 'Title', 'map_250k', 'map_100k', 'map_50k',\n",
    "       'map_10k', 'map_2_5k', 'map_1k', 'water_info', 'salinity',\n",
    "       'water_chemistry', 'geophys_log', 'drill_log', 'lith_log', 'geometry',\n",
    "       'Datetime'])"
   ]
  },
  {
   "cell_type": "code",
   "execution_count": 221,
   "id": "a802eb62",
   "metadata": {},
   "outputs": [],
   "source": [
    "df_utm = df.drop(columns=['DHNO', 'DHNO.1', 'Unit_No', 'Unit_Number', 'dh_name', 'network',\n",
    "       'Obs_No', 'drillhole_class', 'water_point_type_code', 'Aquifer',\n",
    "       'Orig_drilled_depth', 'Orig_drilled_date', 'max_drill_depth',\n",
    "       'max_drill_date', 'late_open_depth', 'late_open_date', 'late_permit_no',\n",
    "       'cased_to', 'case_min_diam', 'purpose', 'latest_status',\n",
    "       'latest_status_date', 'dtw', 'swl', 'water_level_date', 'TDS',\n",
    "       'EC', 'salinity_date', 'pH', 'pH_date', 'yield', 'yield_date',\n",
    "       'mga_zone', 'long_degrees',\n",
    "       'long_minutes', 'long_seconds', 'lat_degrees', 'lat_minutes',\n",
    "       'lat_seconds', 'decimal_lat', 'hundred', 'plan', 'parcel', 'Title', 'map_250k', 'map_100k', 'map_50k',\n",
    "       'map_10k', 'map_2_5k', 'map_1k', 'water_info', 'salinity',\n",
    "       'water_chemistry', 'geophys_log', 'drill_log', 'lith_log', 'geometry',\n",
    "       'Datetime'])"
   ]
  },
  {
   "cell_type": "code",
   "execution_count": 223,
   "id": "12ea2b41",
   "metadata": {},
   "outputs": [
    {
     "data": {
      "text/html": [
       "<div>\n",
       "<style scoped>\n",
       "    .dataframe tbody tr th:only-of-type {\n",
       "        vertical-align: middle;\n",
       "    }\n",
       "\n",
       "    .dataframe tbody tr th {\n",
       "        vertical-align: top;\n",
       "    }\n",
       "\n",
       "    .dataframe thead th {\n",
       "        text-align: right;\n",
       "    }\n",
       "</style>\n",
       "<table border=\"1\" class=\"dataframe\">\n",
       "  <thead>\n",
       "    <tr style=\"text-align: right;\">\n",
       "      <th></th>\n",
       "      <th>Z</th>\n",
       "      <th>X</th>\n",
       "      <th>Y</th>\n",
       "    </tr>\n",
       "  </thead>\n",
       "  <tbody>\n",
       "    <tr>\n",
       "      <th>0</th>\n",
       "      <td>4.09</td>\n",
       "      <td>138.459534</td>\n",
       "      <td>-35.278757</td>\n",
       "    </tr>\n",
       "    <tr>\n",
       "      <th>1</th>\n",
       "      <td>4.33</td>\n",
       "      <td>138.481972</td>\n",
       "      <td>-35.251705</td>\n",
       "    </tr>\n",
       "    <tr>\n",
       "      <th>2</th>\n",
       "      <td>18.22</td>\n",
       "      <td>138.499847</td>\n",
       "      <td>-35.241988</td>\n",
       "    </tr>\n",
       "    <tr>\n",
       "      <th>3</th>\n",
       "      <td>5.54</td>\n",
       "      <td>138.491737</td>\n",
       "      <td>-35.287951</td>\n",
       "    </tr>\n",
       "    <tr>\n",
       "      <th>4</th>\n",
       "      <td>15.90</td>\n",
       "      <td>138.475098</td>\n",
       "      <td>-35.307286</td>\n",
       "    </tr>\n",
       "  </tbody>\n",
       "</table>\n",
       "</div>"
      ],
      "text/plain": [
       "       Z           X          Y\n",
       "0   4.09  138.459534 -35.278757\n",
       "1   4.33  138.481972 -35.251705\n",
       "2  18.22  138.499847 -35.241988\n",
       "3   5.54  138.491737 -35.287951\n",
       "4  15.90  138.475098 -35.307286"
      ]
     },
     "execution_count": 223,
     "metadata": {},
     "output_type": "execute_result"
    }
   ],
   "source": [
    "df = df.rename(columns={'rswl':'Z', 'decimal_long':'X', 'neg_decimal_lat':'Y'})\n",
    "df.head()"
   ]
  },
  {
   "cell_type": "code",
   "execution_count": 224,
   "id": "11f01d6c",
   "metadata": {},
   "outputs": [
    {
     "data": {
      "text/html": [
       "<div>\n",
       "<style scoped>\n",
       "    .dataframe tbody tr th:only-of-type {\n",
       "        vertical-align: middle;\n",
       "    }\n",
       "\n",
       "    .dataframe tbody tr th {\n",
       "        vertical-align: top;\n",
       "    }\n",
       "\n",
       "    .dataframe thead th {\n",
       "        text-align: right;\n",
       "    }\n",
       "</style>\n",
       "<table border=\"1\" class=\"dataframe\">\n",
       "  <thead>\n",
       "    <tr style=\"text-align: right;\">\n",
       "      <th></th>\n",
       "      <th>Z</th>\n",
       "      <th>X</th>\n",
       "      <th>Y</th>\n",
       "      <th>decimal_long</th>\n",
       "      <th>neg_decimal_lat</th>\n",
       "    </tr>\n",
       "  </thead>\n",
       "  <tbody>\n",
       "    <tr>\n",
       "      <th>0</th>\n",
       "      <td>4.09</td>\n",
       "      <td>268941.81</td>\n",
       "      <td>6093083.52</td>\n",
       "      <td>138.459534</td>\n",
       "      <td>-35.278757</td>\n",
       "    </tr>\n",
       "    <tr>\n",
       "      <th>1</th>\n",
       "      <td>4.33</td>\n",
       "      <td>270906.82</td>\n",
       "      <td>6096136.56</td>\n",
       "      <td>138.481972</td>\n",
       "      <td>-35.251705</td>\n",
       "    </tr>\n",
       "    <tr>\n",
       "      <th>2</th>\n",
       "      <td>18.22</td>\n",
       "      <td>272506.29</td>\n",
       "      <td>6097255.78</td>\n",
       "      <td>138.499847</td>\n",
       "      <td>-35.241988</td>\n",
       "    </tr>\n",
       "    <tr>\n",
       "      <th>3</th>\n",
       "      <td>5.54</td>\n",
       "      <td>271897.13</td>\n",
       "      <td>6092138.11</td>\n",
       "      <td>138.491737</td>\n",
       "      <td>-35.287951</td>\n",
       "    </tr>\n",
       "    <tr>\n",
       "      <th>4</th>\n",
       "      <td>15.90</td>\n",
       "      <td>270438.32</td>\n",
       "      <td>6089954.64</td>\n",
       "      <td>138.475098</td>\n",
       "      <td>-35.307286</td>\n",
       "    </tr>\n",
       "  </tbody>\n",
       "</table>\n",
       "</div>"
      ],
      "text/plain": [
       "       Z          X           Y  decimal_long  neg_decimal_lat\n",
       "0   4.09  268941.81  6093083.52    138.459534       -35.278757\n",
       "1   4.33  270906.82  6096136.56    138.481972       -35.251705\n",
       "2  18.22  272506.29  6097255.78    138.499847       -35.241988\n",
       "3   5.54  271897.13  6092138.11    138.491737       -35.287951\n",
       "4  15.90  270438.32  6089954.64    138.475098       -35.307286"
      ]
     },
     "execution_count": 224,
     "metadata": {},
     "output_type": "execute_result"
    }
   ],
   "source": [
    "df_utm = df_utm.rename(columns={'rswl':'Z', 'mga_easting':'X', 'mga_northing':'Y'})\n",
    "df_utm.head()"
   ]
  },
  {
   "cell_type": "markdown",
   "id": "e93cce21",
   "metadata": {},
   "source": [
    "## Load the Willunga regular grid\n",
    "\n",
    "This is what I want to interpolate onto\n",
    "\n",
    "I made it in this script: http://localhost:8889/notebooks/willunga_wt_kriging.ipynb "
   ]
  },
  {
   "cell_type": "code",
   "execution_count": 225,
   "id": "85b02228",
   "metadata": {},
   "outputs": [
    {
     "data": {
      "text/plain": [
       "<AxesSubplot:>"
      ]
     },
     "execution_count": 225,
     "metadata": {},
     "output_type": "execute_result"
    },
    {
     "data": {
      "image/png": "[encoded data removed]",
      "text/plain": [
       "<Figure size 432x288 with 1 Axes>"
      ]
     },
     "metadata": {
      "needs_background": "light"
     },
     "output_type": "display_data"
    }
   ],
   "source": [
    "\n",
    "grid_file = os.path.join(outputdatapath,\n",
    "                               \"willunga_regular_grid.shp\")\n",
    "\n",
    "willunga_grid = gpd.read_file(grid_file)\n",
    "\n",
    "willunga_grid.plot(markersize=1)"
   ]
  },
  {
   "cell_type": "markdown",
   "id": "b98f8979",
   "metadata": {},
   "source": [
    "## Create a variogram map for the Willunga data"
   ]
  },
  {
   "cell_type": "markdown",
   "id": "9121ab61",
   "metadata": {},
   "source": [
    "First, define the parameters to use"
   ]
  },
  {
   "cell_type": "code",
   "execution_count": 227,
   "id": "888afc33",
   "metadata": {},
   "outputs": [],
   "source": [
    "lagdist = 1000 \n",
    "nlagx = 7 \n",
    "nlagy= 7\n",
    "minpairs=5\n",
    "vmax=1.2\n",
    "bstand=1"
   ]
  },
  {
   "cell_type": "code",
   "execution_count": 228,
   "id": "63aba3c3",
   "metadata": {},
   "outputs": [
    {
     "name": "stdout",
     "output_type": "stream",
     "text": [
      "Help on function varmapv_2d in module __main__:\n",
      "\n",
      "varmapv_2d(df, xcol, ycol, vcol, nx, ny, lagdist, minpairs, vmax, bstand, title, vlabel)\n",
      "    # irregular spaced data, 2D wrapper for varmap from GSLIB (.exe must be in working directory)\n",
      "\n"
     ]
    }
   ],
   "source": [
    "help(varmapv_2d)"
   ]
  },
  {
   "cell_type": "code",
   "execution_count": 229,
   "id": "2b6413e6",
   "metadata": {},
   "outputs": [
    {
     "data": {
      "text/plain": [
       "0       4.09\n",
       "1       4.33\n",
       "2      18.22\n",
       "3       5.54\n",
       "4      15.90\n",
       "       ...  \n",
       "68    129.42\n",
       "69    184.26\n",
       "70    131.49\n",
       "71    131.85\n",
       "72    128.99\n",
       "Name: Z, Length: 73, dtype: float64"
      ]
     },
     "execution_count": 229,
     "metadata": {},
     "output_type": "execute_result"
    }
   ],
   "source": [
    "df['Z']"
   ]
  },
  {
   "cell_type": "markdown",
   "id": "3c1bd2ca",
   "metadata": {},
   "source": [
    "### To try and find out where I am going wrong, I am going to slowly convert their dataframe to mine"
   ]
  },
  {
   "cell_type": "code",
   "execution_count": 230,
   "id": "2d55043b",
   "metadata": {},
   "outputs": [
    {
     "name": "stdout",
     "output_type": "stream",
     "text": [
      "73\n",
      "73\n"
     ]
    },
    {
     "data": {
      "text/html": [
       "<div>\n",
       "<style scoped>\n",
       "    .dataframe tbody tr th:only-of-type {\n",
       "        vertical-align: middle;\n",
       "    }\n",
       "\n",
       "    .dataframe tbody tr th {\n",
       "        vertical-align: top;\n",
       "    }\n",
       "\n",
       "    .dataframe thead th {\n",
       "        text-align: right;\n",
       "    }\n",
       "</style>\n",
       "<table border=\"1\" class=\"dataframe\">\n",
       "  <thead>\n",
       "    <tr style=\"text-align: right;\">\n",
       "      <th></th>\n",
       "      <th>X</th>\n",
       "      <th>Y</th>\n",
       "      <th>Porosity</th>\n",
       "    </tr>\n",
       "  </thead>\n",
       "  <tbody>\n",
       "    <tr>\n",
       "      <th>0</th>\n",
       "      <td>50.0</td>\n",
       "      <td>549.0</td>\n",
       "      <td>0.10636</td>\n",
       "    </tr>\n",
       "    <tr>\n",
       "      <th>1</th>\n",
       "      <td>240.0</td>\n",
       "      <td>679.0</td>\n",
       "      <td>1.60953</td>\n",
       "    </tr>\n",
       "    <tr>\n",
       "      <th>2</th>\n",
       "      <td>530.0</td>\n",
       "      <td>539.0</td>\n",
       "      <td>0.93673</td>\n",
       "    </tr>\n",
       "    <tr>\n",
       "      <th>3</th>\n",
       "      <td>370.0</td>\n",
       "      <td>369.0</td>\n",
       "      <td>0.31166</td>\n",
       "    </tr>\n",
       "    <tr>\n",
       "      <th>4</th>\n",
       "      <td>610.0</td>\n",
       "      <td>649.0</td>\n",
       "      <td>-0.85149</td>\n",
       "    </tr>\n",
       "  </tbody>\n",
       "</table>\n",
       "</div>"
      ],
      "text/plain": [
       "       X      Y  Porosity\n",
       "0   50.0  549.0   0.10636\n",
       "1  240.0  679.0   1.60953\n",
       "2  530.0  539.0   0.93673\n",
       "3  370.0  369.0   0.31166\n",
       "4  610.0  649.0  -0.85149"
      ]
     },
     "execution_count": 230,
     "metadata": {},
     "output_type": "execute_result"
    }
   ],
   "source": [
    "rand_df = rand_sample.copy()\n",
    "len(rand_df)\n",
    "\n",
    "rows_to_drop = list(range(73,100))\n",
    "# Make the same length as mind\n",
    "rand_df = rand_df.drop(rows_to_drop, axis=0)\n",
    "print(len(rand_df))\n",
    "print(len(df))\n",
    "\n",
    "rand_df.head()"
   ]
  },
  {
   "cell_type": "code",
   "execution_count": 204,
   "id": "063c1691",
   "metadata": {},
   "outputs": [
    {
     "data": {
      "text/html": [
       "<div>\n",
       "<style scoped>\n",
       "    .dataframe tbody tr th:only-of-type {\n",
       "        vertical-align: middle;\n",
       "    }\n",
       "\n",
       "    .dataframe tbody tr th {\n",
       "        vertical-align: top;\n",
       "    }\n",
       "\n",
       "    .dataframe thead th {\n",
       "        text-align: right;\n",
       "    }\n",
       "</style>\n",
       "<table border=\"1\" class=\"dataframe\">\n",
       "  <thead>\n",
       "    <tr style=\"text-align: right;\">\n",
       "      <th></th>\n",
       "      <th>X</th>\n",
       "      <th>Y</th>\n",
       "      <th>Porosity</th>\n",
       "    </tr>\n",
       "  </thead>\n",
       "  <tbody>\n",
       "    <tr>\n",
       "      <th>0</th>\n",
       "      <td>138.459534</td>\n",
       "      <td>-35.278757</td>\n",
       "      <td>4.09</td>\n",
       "    </tr>\n",
       "    <tr>\n",
       "      <th>1</th>\n",
       "      <td>138.481972</td>\n",
       "      <td>-35.251705</td>\n",
       "      <td>4.33</td>\n",
       "    </tr>\n",
       "    <tr>\n",
       "      <th>2</th>\n",
       "      <td>138.499847</td>\n",
       "      <td>-35.241988</td>\n",
       "      <td>18.22</td>\n",
       "    </tr>\n",
       "    <tr>\n",
       "      <th>3</th>\n",
       "      <td>138.491737</td>\n",
       "      <td>-35.287951</td>\n",
       "      <td>5.54</td>\n",
       "    </tr>\n",
       "    <tr>\n",
       "      <th>4</th>\n",
       "      <td>138.475098</td>\n",
       "      <td>-35.307286</td>\n",
       "      <td>15.90</td>\n",
       "    </tr>\n",
       "  </tbody>\n",
       "</table>\n",
       "</div>"
      ],
      "text/plain": [
       "            X          Y  Porosity\n",
       "0  138.459534 -35.278757      4.09\n",
       "1  138.481972 -35.251705      4.33\n",
       "2  138.499847 -35.241988     18.22\n",
       "3  138.491737 -35.287951      5.54\n",
       "4  138.475098 -35.307286     15.90"
      ]
     },
     "execution_count": 204,
     "metadata": {},
     "output_type": "execute_result"
    }
   ],
   "source": [
    "rand_df['Y'] = df['Y']\n",
    "rand_df['X'] = df['X']\n",
    "rand_df['Porosity'] = df['Z']\n",
    "rand_df.head()\n"
   ]
  },
  {
   "cell_type": "code",
   "execution_count": 205,
   "id": "480df223",
   "metadata": {},
   "outputs": [
    {
     "data": {
      "text/plain": [
       "Text(56.60283422097024, 0.5, 'Latitude')"
      ]
     },
     "execution_count": 205,
     "metadata": {},
     "output_type": "execute_result"
    },
    {
     "data": {
      "image/png": "[encoded data removed]",
      "text/plain": [
       "<Figure size 432x288 with 2 Axes>"
      ]
     },
     "metadata": {
      "needs_background": "light"
     },
     "output_type": "display_data"
    }
   ],
   "source": [
    "fig = plt.figure()\n",
    "ax = fig.add_subplot(111)\n",
    "\n",
    "willunga_grid.plot(markersize=1, ax=ax)\n",
    "s = ax.scatter(rand_df.X, rand_df.Y, c=rand_df.Porosity, cmap=\"coolwarm\")\n",
    "cb = plt.colorbar(s)\n",
    "cb.set_label('Water level (m)')\n",
    "\n",
    "plt.xlabel(\"Longitude\")\n",
    "plt.ylabel(\"Latitude\")\n",
    "\n"
   ]
  },
  {
   "cell_type": "markdown",
   "id": "dc3b26a8",
   "metadata": {},
   "source": [
    "## I am going to convert from lat long to x y values because maybe this is what is stuffing everything up"
   ]
  },
  {
   "cell_type": "code",
   "execution_count": 206,
   "id": "a0e8e0e5",
   "metadata": {},
   "outputs": [],
   "source": [
    "rand_df_xy = rand_df.copy()\n",
    "rand_df_save = rand_df.copy() # so that I can just usethe rand_df as the name for the df I use since it's all set up"
   ]
  },
  {
   "cell_type": "code",
   "execution_count": 207,
   "id": "ce5fab90",
   "metadata": {},
   "outputs": [
    {
     "name": "stdout",
     "output_type": "stream",
     "text": [
      "count    73.000000\n",
      "mean     56.120449\n",
      "std       5.801817\n",
      "min      45.076220\n",
      "25%      52.974120\n",
      "50%      55.961820\n",
      "75%      59.816120\n",
      "max      66.151820\n",
      "Name: Xx, dtype: float64\n"
     ]
    }
   ],
   "source": [
    "rand_df_xy[\"Xx\"] = (rand_df[\"X\"]*100)-13800\n",
    "#print(rand_df_xy[\"Xx\"])\n",
    "print(rand_df_xy[\"Xx\"].describe())"
   ]
  },
  {
   "cell_type": "code",
   "execution_count": 208,
   "id": "e2459887",
   "metadata": {},
   "outputs": [
    {
     "name": "stdout",
     "output_type": "stream",
     "text": [
      "count    73.000000\n",
      "mean     77.816213\n",
      "std       4.942405\n",
      "min      68.112450\n",
      "25%      74.759440\n",
      "50%      78.138350\n",
      "75%      81.794150\n",
      "max      86.989050\n",
      "Name: Yy, dtype: float64\n"
     ]
    }
   ],
   "source": [
    "rand_df_xy[\"Yy\"] = (rand_df[\"Y\"]*100)+3600\n",
    "#print(rand_df_xy[\"Yy\"])\n",
    "print(rand_df_xy[\"Yy\"].describe())"
   ]
  },
  {
   "cell_type": "code",
   "execution_count": 209,
   "id": "51e98810",
   "metadata": {},
   "outputs": [
    {
     "data": {
      "text/plain": [
       "Text(0, 0.5, 'Latitude')"
      ]
     },
     "execution_count": 209,
     "metadata": {},
     "output_type": "execute_result"
    },
    {
     "data": {
      "image/png": "[encoded data removed]",
      "text/plain": [
       "<Figure size 432x288 with 2 Axes>"
      ]
     },
     "metadata": {
      "needs_background": "light"
     },
     "output_type": "display_data"
    }
   ],
   "source": [
    "fig = plt.figure()\n",
    "ax = fig.add_subplot(111)\n",
    "\n",
    "#willunga_grid.plot(markersize=1, ax=ax)\n",
    "s = ax.scatter(rand_df_xy.Xx, rand_df_xy.Yy, c=rand_df.Porosity, cmap=\"coolwarm\")\n",
    "cb = plt.colorbar(s)\n",
    "cb.set_label('Water level (m)')\n",
    "\n",
    "plt.xlabel(\"Longitude\")\n",
    "plt.ylabel(\"Latitude\")"
   ]
  },
  {
   "cell_type": "code",
   "execution_count": 210,
   "id": "16814314",
   "metadata": {},
   "outputs": [
    {
     "data": {
      "text/plain": [
       "pandas.core.frame.DataFrame"
      ]
     },
     "execution_count": 210,
     "metadata": {},
     "output_type": "execute_result"
    }
   ],
   "source": [
    "type(rand_df_xy)"
   ]
  },
  {
   "cell_type": "markdown",
   "id": "ed4add87",
   "metadata": {},
   "source": [
    "## For just a test I am going change my x and y measurements and see if the variogram map changes"
   ]
  },
  {
   "cell_type": "code",
   "execution_count": 128,
   "id": "53d5dbef",
   "metadata": {},
   "outputs": [],
   "source": [
    "rand_df1 = rand_df_xy.copy()\n",
    "rand_df1 = rand_df_xy.sort_values(by=['Yy'])"
   ]
  },
  {
   "cell_type": "code",
   "execution_count": 129,
   "id": "615288d4",
   "metadata": {},
   "outputs": [
    {
     "name": "stdout",
     "output_type": "stream",
     "text": [
      "11\n",
      "138.4595342\n",
      "98.45953420000001\n"
     ]
    }
   ],
   "source": [
    "i=0\n",
    "print(rand_df1.index[i])\n",
    "print(rand_df1.loc[i, \"X\"])\n",
    "add = np.linspace(-40, 40, 81)\n",
    "\n",
    "print(rand_df1.loc[i, \"X\"] + add[i])"
   ]
  },
  {
   "cell_type": "code",
   "execution_count": 130,
   "id": "84b66f11",
   "metadata": {},
   "outputs": [
    {
     "name": "stdout",
     "output_type": "stream",
     "text": [
      "[-40. -39. -38. -37. -36. -35. -34. -33. -32. -31. -30. -29. -28. -27.\n",
      " -26. -25. -24. -23. -22. -21. -20. -19. -18. -17. -16. -15. -14. -13.\n",
      " -12. -11. -10.  -9.  -8.  -7.  -6.  -5.  -4.  -3.  -2.  -1.   0.   1.\n",
      "   2.   3.   4.   5.   6.   7.   8.   9.  10.  11.  12.  13.  14.  15.\n",
      "  16.  17.  18.  19.  20.  21.  22.  23.  24.  25.  26.  27.  28.  29.\n",
      "  30.  31.  32.  33.  34.  35.  36.  37.  38.  39.  40.]\n"
     ]
    }
   ],
   "source": [
    "print(add)\n",
    "new_x = []"
   ]
  },
  {
   "cell_type": "code",
   "execution_count": 131,
   "id": "0df84505",
   "metadata": {},
   "outputs": [
    {
     "name": "stdout",
     "output_type": "stream",
     "text": [
      "[98.45953420000001, 99.48197219999997, 100.49984719999998, 101.491737, 102.47509819999999, 103.46562119999999, 104.45143920000001, 105.45076219999999, 106.45202419999998, 107.4560372, 108.45937119999999, 109.4525712, 110.4566002, 111.50853620000001, 112.55694319999998, 113.5793112, 114.57125919999999, 115.52974119999999, 116.58002919999998, 117.60654819999999, 118.66151819999999, 119.64254419999997, 120.6479262, 121.54013710000001, 122.52655019999997, 123.56664419999998, 124.6259532, 125.65380919999998, 126.65064019999997, 127.53807519999998, 128.6304602, 129.54951819999997, 130.5529504, 131.57842119999998, 132.57867119999997, 133.5936342, 134.5830202, 135.5837292, 136.5538202, 137.6073802, 138.55531919999999, 139.63322419999997, 140.6061082, 141.58370119999998, 142.62535119999998, 143.5931412, 144.63859219999998, 145.5247662, 146.51097819999998, 147.60489819999998, 148.63737460000002, 149.58274719999997, 150.6345692, 151.5581312, 152.5596172, 153.5580982, 154.5580982, 155.5580982, 156.5580982, 157.5596182, 158.5596182, 159.5596182, 160.5596182, 161.53511919999997, 162.4975092, 163.55506519999997, 164.58299419999997, 165.6404142, 166.5632422, 167.62996719999998, 168.5981612, 169.5980052, 170.5976782]\n"
     ]
    }
   ],
   "source": [
    "for i in range(len(rand_df1)):\n",
    "    #print(i)\n",
    "    new_x.append(rand_df1.loc[i, \"X\"] + add[i])\n",
    "    rand_df1.loc[i, \"Y\"] = rand_df1.loc[i, \"Y\"] + add[i]\n",
    "    #rand_df1.loc[i, \"Y\"] = rand_df1.loc[i, \"Y\"] + add[i]\n",
    "\n",
    "print(new_x)  "
   ]
  },
  {
   "cell_type": "code",
   "execution_count": 132,
   "id": "4bb3defd",
   "metadata": {},
   "outputs": [
    {
     "data": {
      "text/plain": [
       "Text(0, 0.5, 'Latitude')"
      ]
     },
     "execution_count": 132,
     "metadata": {},
     "output_type": "execute_result"
    },
    {
     "data": {
      "image/png": "[encoded data removed]",
      "text/plain": [
       "<Figure size 432x288 with 2 Axes>"
      ]
     },
     "metadata": {
      "needs_background": "light"
     },
     "output_type": "display_data"
    }
   ],
   "source": [
    "fig = plt.figure()\n",
    "ax = fig.add_subplot(111)\n",
    "\n",
    "#willunga_grid.plot(markersize=1, ax=ax)\n",
    "s = ax.scatter(rand_df1.X, rand_df1.Y, c=rand_df1.Porosity, cmap=\"coolwarm\")\n",
    "cb = plt.colorbar(s)\n",
    "cb.set_label('Water level (m)')\n",
    "\n",
    "plt.xlabel(\"Longitude\")\n",
    "plt.ylabel(\"Latitude\")\n",
    "\n",
    "\n"
   ]
  },
  {
   "cell_type": "code",
   "execution_count": 231,
   "id": "9ab809bd",
   "metadata": {},
   "outputs": [
    {
     "data": {
      "text/html": [
       "<div>\n",
       "<style scoped>\n",
       "    .dataframe tbody tr th:only-of-type {\n",
       "        vertical-align: middle;\n",
       "    }\n",
       "\n",
       "    .dataframe tbody tr th {\n",
       "        vertical-align: top;\n",
       "    }\n",
       "\n",
       "    .dataframe thead th {\n",
       "        text-align: right;\n",
       "    }\n",
       "</style>\n",
       "<table border=\"1\" class=\"dataframe\">\n",
       "  <thead>\n",
       "    <tr style=\"text-align: right;\">\n",
       "      <th></th>\n",
       "      <th>Z</th>\n",
       "      <th>X</th>\n",
       "      <th>Y</th>\n",
       "      <th>decimal_long</th>\n",
       "      <th>neg_decimal_lat</th>\n",
       "    </tr>\n",
       "  </thead>\n",
       "  <tbody>\n",
       "    <tr>\n",
       "      <th>0</th>\n",
       "      <td>4.09</td>\n",
       "      <td>268941.81</td>\n",
       "      <td>6093083.52</td>\n",
       "      <td>138.459534</td>\n",
       "      <td>-35.278757</td>\n",
       "    </tr>\n",
       "    <tr>\n",
       "      <th>1</th>\n",
       "      <td>4.33</td>\n",
       "      <td>270906.82</td>\n",
       "      <td>6096136.56</td>\n",
       "      <td>138.481972</td>\n",
       "      <td>-35.251705</td>\n",
       "    </tr>\n",
       "    <tr>\n",
       "      <th>2</th>\n",
       "      <td>18.22</td>\n",
       "      <td>272506.29</td>\n",
       "      <td>6097255.78</td>\n",
       "      <td>138.499847</td>\n",
       "      <td>-35.241988</td>\n",
       "    </tr>\n",
       "    <tr>\n",
       "      <th>3</th>\n",
       "      <td>5.54</td>\n",
       "      <td>271897.13</td>\n",
       "      <td>6092138.11</td>\n",
       "      <td>138.491737</td>\n",
       "      <td>-35.287951</td>\n",
       "    </tr>\n",
       "    <tr>\n",
       "      <th>4</th>\n",
       "      <td>15.90</td>\n",
       "      <td>270438.32</td>\n",
       "      <td>6089954.64</td>\n",
       "      <td>138.475098</td>\n",
       "      <td>-35.307286</td>\n",
       "    </tr>\n",
       "  </tbody>\n",
       "</table>\n",
       "</div>"
      ],
      "text/plain": [
       "       Z          X           Y  decimal_long  neg_decimal_lat\n",
       "0   4.09  268941.81  6093083.52    138.459534       -35.278757\n",
       "1   4.33  270906.82  6096136.56    138.481972       -35.251705\n",
       "2  18.22  272506.29  6097255.78    138.499847       -35.241988\n",
       "3   5.54  271897.13  6092138.11    138.491737       -35.287951\n",
       "4  15.90  270438.32  6089954.64    138.475098       -35.307286"
      ]
     },
     "execution_count": 231,
     "metadata": {},
     "output_type": "execute_result"
    }
   ],
   "source": [
    "df_utm.head()"
   ]
  },
  {
   "cell_type": "code",
   "execution_count": 232,
   "id": "deb514b6",
   "metadata": {},
   "outputs": [
    {
     "data": {
      "image/png": "[encoded data removed]",
      "text/plain": [
       "<Figure size 576x432 with 2 Axes>"
      ]
     },
     "metadata": {
      "needs_background": "light"
     },
     "output_type": "display_data"
    }
   ],
   "source": [
    "varmap_irregular = varmapv_2d(df_utm,'X','Y','Z',nlagx, nlagy, lagdist,\n",
    "                              minpairs,\n",
    "                              vmax,\n",
    "                              bstand,'Variogram Map for N[Head] Random Sample','Variogram')"
   ]
  },
  {
   "cell_type": "markdown",
   "id": "0734cdf4",
   "metadata": {},
   "source": [
    "### For some reason my X column has to be called porosity, it isn't working if I change the name!! \n",
    "\n",
    "I think I have fixed this - in the fuction above he used his dataframe title for the name (not just df which as set up in the function description)\n",
    "\n",
    "varmapv_2d(df,xcol,ycol,vcol,nx,ny,lagdist,minpairs,vmax,bstand,title,vlabel)\n",
    "\n",
    "nx and ny are parameters but they haven't been defined "
   ]
  },
  {
   "cell_type": "code",
   "execution_count": 133,
   "id": "ea838e7f",
   "metadata": {},
   "outputs": [
    {
     "name": "stdout",
     "output_type": "stream",
     "text": [
      "Index(['X', 'Y', 'Porosity'], dtype='object')\n",
      "nlagx: 3\n",
      "nlagy: 2\n",
      "lag distance: 30\n",
      "min pairs: 1\n",
      "vmax: 2200\n",
      "0\n",
      "nx: 73\n",
      "ny: 73\n"
     ]
    }
   ],
   "source": [
    "print(rand_df.columns)\n",
    "nlagx = 3#7\n",
    "print(\"nlagx: %s\" %nlagx)\n",
    "nlagy = 2 #7\n",
    "print(\"nlagy: %s\" %nlagy)\n",
    "lagdist = 30#3\n",
    "print(\"lag distance: %s\" %lagdist)\n",
    "minpairs = 1#5\n",
    "print(\"min pairs: %s\" %minpairs)\n",
    "vmax = 2200#1.2\n",
    "print(\"vmax: %s\" %vmax)\n",
    "bstand = 0#0\n",
    "print(bstand)\n",
    "nx = len(rand_df) #100\n",
    "print(\"nx: %s\" %nx)\n",
    "ny = nx\n",
    "print(\"ny: %s\" %ny)"
   ]
  },
  {
   "cell_type": "code",
   "execution_count": 134,
   "id": "7cecc785",
   "metadata": {},
   "outputs": [
    {
     "data": {
      "image/png": "[encoded data removed]",
      "text/plain": [
       "<Figure size 576x432 with 2 Axes>"
      ]
     },
     "metadata": {
      "needs_background": "light"
     },
     "output_type": "display_data"
    }
   ],
   "source": [
    "varmap_irregular = varmapv_2d(rand_df_xy,'Xx','Yy','Porosity',nlagx, nlagy, lagdist,\n",
    "                              minpairs,\n",
    "                              vmax,\n",
    "                              bstand,'Variogram Map for N[Head] Random Sample','Variogram')"
   ]
  },
  {
   "cell_type": "markdown",
   "id": "3232a528",
   "metadata": {},
   "source": [
    "gamv_2d(df,xcol,ycol,vcol,nlag,lagdist,azi,atol,bstand)"
   ]
  },
  {
   "cell_type": "code",
   "execution_count": 170,
   "id": "84bd246d",
   "metadata": {},
   "outputs": [],
   "source": [
    "nlag = 10; lag = 5; azi = 90; atol = 90; standardize = 1#0        # set the variogram calculation parameters\n",
    "# calculate the isotropic variogram\n",
    "lag_iso,gamma_iso,npair_iso = gamv_2d(rand_df_xy,'Xx','Yy','Porosity',nlag,lag,azi,atol,standardize)  "
   ]
  },
  {
   "cell_type": "markdown",
   "id": "753d8233",
   "metadata": {},
   "source": [
    "### Let's visualise this variogram"
   ]
  },
  {
   "cell_type": "code",
   "execution_count": 148,
   "id": "198447b3",
   "metadata": {},
   "outputs": [
    {
     "name": "stdout",
     "output_type": "stream",
     "text": [
      "Help on function vargplt in module __main__:\n",
      "\n",
      "vargplt(lag, gamma, npair, vtype, name, xmin, xmax, ymin, ymax, sill, title, cmap)\n",
      "\n"
     ]
    }
   ],
   "source": [
    "help(vargplt)"
   ]
  },
  {
   "cell_type": "code",
   "execution_count": 156,
   "id": "0b46f263",
   "metadata": {},
   "outputs": [
    {
     "name": "stderr",
     "output_type": "stream",
     "text": [
      "C:\\Users\\mar886\\Anaconda3\\envs\\geostats_env\\lib\\site-packages\\ipykernel_launcher.py:128: MatplotlibDeprecationWarning: \n",
      "The 'verts' parameter of scatter() was deprecated in Matplotlib 3.2 and will be removed two minor releases later. If any parameter follows 'verts', they should be passed as keyword, not positionally.\n"
     ]
    },
    {
     "data": {
      "image/png": "[encoded data removed]",
      "text/plain": [
       "<Figure size 576x432 with 2 Axes>"
      ]
     },
     "metadata": {
      "needs_background": "light"
     },
     "output_type": "display_data"
    },
    {
     "data": {
      "text/plain": [
       "<matplotlib.collections.PathCollection at 0x203e0b7c5c0>"
      ]
     },
     "execution_count": 156,
     "metadata": {},
     "output_type": "execute_result"
    }
   ],
   "source": [
    "vtype_iso = 0\n",
    "name_iso = 'Iso'\n",
    "vargplt(lag_iso,gamma_iso,npair_iso,vtype_iso,name_iso,0,40,0,8,1,\n",
    "        \"Anisotropic Porosity Variogram: Experimental and Model\",cmap)\n"
   ]
  },
  {
   "cell_type": "markdown",
   "id": "a9b42221",
   "metadata": {},
   "source": [
    "The isotropic variogram is quite well behaved. Let's try to calculate directional variograms. We know the major direction should be 090 azimuth, along the X axis.\n",
    "\n"
   ]
  },
  {
   "cell_type": "code",
   "execution_count": 174,
   "id": "aab1cb18",
   "metadata": {},
   "outputs": [],
   "source": [
    "azi = 45; atol = 45; standardize = 1#0        # set the variogram parameters\n",
    "# calculate the isotropic variogram\n",
    "lag_000,gamma_000,npair_000 = gamv_2d(rand_df_xy,'Xx','Yy','Porosity',nlag,lag,azi,atol,standardize)  \n",
    "azi = 135; atol = 45; standardize = 1#0        # set the variogram parameters\n",
    "# calculate the isotropic variogram\n",
    "lag_090,gamma_090,npair_090 = gamv_2d(rand_df_xy,'Xx','Yy','Porosity',nlag,lag,azi,atol,standardize) "
   ]
  },
  {
   "cell_type": "code",
   "execution_count": null,
   "id": "c41b0598",
   "metadata": {},
   "outputs": [],
   "source": [
    "rand_df.head()"
   ]
  },
  {
   "cell_type": "markdown",
   "id": "dd5a4fcb",
   "metadata": {},
   "source": [
    "Now let's visualize the 090 and 000 azimuth variograms. We need to once again put the arrays into lists to send to vargplt.\n",
    "\n"
   ]
  },
  {
   "cell_type": "code",
   "execution_count": 164,
   "id": "5ddf6a09",
   "metadata": {},
   "outputs": [
    {
     "name": "stdout",
     "output_type": "stream",
     "text": [
      "Help on function vargplts in module __main__:\n",
      "\n",
      "vargplts(lag, gamma, npair, vtype, name, xmin, xmax, ymin, ymax, sill, title, cmap)\n",
      "\n"
     ]
    }
   ],
   "source": [
    "help(vargplts)"
   ]
  },
  {
   "cell_type": "code",
   "execution_count": 180,
   "id": "0cd6b041",
   "metadata": {},
   "outputs": [
    {
     "name": "stderr",
     "output_type": "stream",
     "text": [
      "C:\\Users\\mar886\\Anaconda3\\envs\\geostats_env\\lib\\site-packages\\ipykernel_launcher.py:150: MatplotlibDeprecationWarning: \n",
      "The 'verts' parameter of scatter() was deprecated in Matplotlib 3.2 and will be removed two minor releases later. If any parameter follows 'verts', they should be passed as keyword, not positionally.\n"
     ]
    },
    {
     "data": {
      "image/png": "[encoded data removed]",
      "text/plain": [
       "<Figure size 576x432 with 2 Axes>"
      ]
     },
     "metadata": {
      "needs_background": "light"
     },
     "output_type": "display_data"
    },
    {
     "data": {
      "text/plain": [
       "<matplotlib.collections.PathCollection at 0x203e23fb668>"
      ]
     },
     "execution_count": 180,
     "metadata": {},
     "output_type": "execute_result"
    }
   ],
   "source": [
    "lags = np.array([lag_000,lag_090])\n",
    "gammas = np.array([gamma_000,gamma_090])\n",
    "npairs = np.array([npair_000,npair_090])\n",
    "vtypes = [0,0]\n",
    "names = ['Azi 045','Azi 135']\n",
    "vargplts(lags,gammas,npairs,vtypes,names,0,100,0,6,1,\"Anisotropic Porosity Variogram: Experimental and Model\",cmap)"
   ]
  },
  {
   "cell_type": "markdown",
   "id": "ad76d093",
   "metadata": {},
   "source": [
    "Now we can fit an anisotropic spatial continuity model,\n",
    "\n"
   ]
  },
  {
   "cell_type": "code",
   "execution_count": 182,
   "id": "9b184e64",
   "metadata": {},
   "outputs": [],
   "source": [
    "azi = 45; rmaj = 400; rmin = 250\n",
    "\n",
    "lag_000_mod,gamma_000_mod = vmodel_2d(nlag=7,azi=45,step=10,nug=0,nst=1,tstr1=1,c1=1.0,azi1=azi,rmaj1=rmaj,rmin1=rmin)\n"
   ]
  },
  {
   "cell_type": "markdown",
   "id": "e2928d5a",
   "metadata": {},
   "source": [
    "and visualize the resulting anisotropic variogram model with the experiemental variogram points.\n",
    "\n"
   ]
  },
  {
   "cell_type": "code",
   "execution_count": 183,
   "id": "8d2863b9",
   "metadata": {},
   "outputs": [
    {
     "name": "stderr",
     "output_type": "stream",
     "text": [
      "C:\\Users\\mar886\\Anaconda3\\envs\\geostats_env\\lib\\site-packages\\ipykernel_launcher.py:1: VisibleDeprecationWarning: Creating an ndarray from ragged nested sequences (which is a list-or-tuple of lists-or-tuples-or ndarrays with different lengths or shapes) is deprecated. If you meant to do this, you must specify 'dtype=object' when creating the ndarray\n",
      "  \"\"\"Entry point for launching an IPython kernel.\n",
      "C:\\Users\\mar886\\Anaconda3\\envs\\geostats_env\\lib\\site-packages\\ipykernel_launcher.py:2: VisibleDeprecationWarning: Creating an ndarray from ragged nested sequences (which is a list-or-tuple of lists-or-tuples-or ndarrays with different lengths or shapes) is deprecated. If you meant to do this, you must specify 'dtype=object' when creating the ndarray\n",
      "  \n",
      "C:\\Users\\mar886\\Anaconda3\\envs\\geostats_env\\lib\\site-packages\\ipykernel_launcher.py:150: MatplotlibDeprecationWarning: \n",
      "The 'verts' parameter of scatter() was deprecated in Matplotlib 3.2 and will be removed two minor releases later. If any parameter follows 'verts', they should be passed as keyword, not positionally.\n"
     ]
    },
    {
     "data": {
      "image/png": "[encoded data removed]",
      "text/plain": [
       "<Figure size 576x432 with 2 Axes>"
      ]
     },
     "metadata": {
      "needs_background": "light"
     },
     "output_type": "display_data"
    },
    {
     "data": {
      "text/plain": [
       "<matplotlib.collections.PathCollection at 0x203e24b6c88>"
      ]
     },
     "execution_count": 183,
     "metadata": {},
     "output_type": "execute_result"
    }
   ],
   "source": [
    "lags = np.array([lag_000,lag_000_mod])\n",
    "gammas = np.array([gamma_000,gamma_000_mod])\n",
    "npairs = np.array([npair_000])\n",
    "vtypes = [0,1]\n",
    "names = ['Azi 045','Azi 000']\n",
    "vargplts(lags,gammas,npairs,vtypes,names,0,700,0,1.2,1,\"Anisotropic Porosity Variogram: Experimental and Model\",cmap)"
   ]
  },
  {
   "cell_type": "markdown",
   "id": "62ca7ab2",
   "metadata": {},
   "source": [
    "## UP TO HERE - above is my data, in the name 'rand_df'!"
   ]
  },
  {
   "cell_type": "markdown",
   "id": "be1bffea",
   "metadata": {},
   "source": [
    "### BELOW THIS IS JUST A COPY FROM GEOSTATSGUY SCRIPT"
   ]
  },
  {
   "cell_type": "code",
   "execution_count": null,
   "id": "855b7f43",
   "metadata": {},
   "outputs": [],
   "source": [
    "varmap_irregular = varmapv_2d(df,\n",
    "                              'X','Y','Z',\n",
    "                              nlagx,nlagy,lagdist,\n",
    "                              minpairs,vmax,bstand,\n",
    "                              'Variogram Map for Head',\n",
    "                              'Variogram')"
   ]
  },
  {
   "cell_type": "markdown",
   "id": "be3c1b2d",
   "metadata": {},
   "source": [
    "## Data quality control and preprocessing"
   ]
  },
  {
   "cell_type": "code",
   "execution_count": null,
   "id": "d87894ee",
   "metadata": {},
   "outputs": [],
   "source": [
    "hist(sim.flatten(),vmin,vmax,log=False,cumul=False,bins=20,weights=None,xlabel=\"Porosity (%)\",title=\"Porosity Dataset\")\n",
    "hist(nscore_sim.flatten(),-3,+3,log=False,cumul=False,bins=20,weights=None,xlabel=\"Porosity (%)\",title=\"Porosity Nscore Transformed\")\n",
    "ex_mean = np.average(sim)\n",
    "ex_var = np.var(sim)\n",
    "ex_nscore_mean = np.average(nscore_sim)\n",
    "ex_nscore_var = np.var(nscore_sim)\n",
    "print('Exhastive Mean = ',round(ex_mean,2),', Exhaustive Variance = ',round(ex_var,2))\n",
    "print('Exhastive Nscore Mean = ',round(ex_nscore_mean,2),', Exhaustive Nscore Variance = ',round(ex_nscore_var,2))\n"
   ]
  },
  {
   "cell_type": "code",
   "execution_count": null,
   "id": "725b4ef8",
   "metadata": {},
   "outputs": [],
   "source": [
    "pixelplt(sim,xmin,xmax,ymin,ymax,cell_size,vmin,vmax,\"Porosity Realization\",\"X(m)\",\"Y(m)\",\"Porosity (%)\",cmap)\n",
    "pixelplt(nscore_sim,xmin,xmax,ymin,ymax,cell_size,-3,+3,\"NScore Porosity Realization\",\"X(m)\",\"Y(m)\",\"N[Porosity]\",cmap)"
   ]
  },
  {
   "cell_type": "markdown",
   "id": "f7abd035",
   "metadata": {},
   "source": [
    "## Directions of continuity"
   ]
  },
  {
   "cell_type": "code",
   "execution_count": null,
   "id": "20e98ab0",
   "metadata": {},
   "outputs": [],
   "source": [
    "nlagx = 50; nlagy = 50; minpairs = 5;vmax = 1.2;bstand = 1\n",
    "varmap_regular = varmap_2d(nscore_sim,nx,ny,cell_size,nlagx,nlagy,minpairs,vmax,bstand,'Variogram Map for N[Porosity] Model','Variogram')"
   ]
  },
  {
   "cell_type": "markdown",
   "id": "0a79e435",
   "metadata": {},
   "source": [
    "## Irregularly sampled data variogram \n",
    "\n",
    "Note that I skipped the part on regularly sampled data"
   ]
  },
  {
   "cell_type": "code",
   "execution_count": null,
   "id": "db73b603",
   "metadata": {},
   "outputs": [],
   "source": [
    "rand_sample = random_sample(nscore_sim,xmin,xmax,ymin,ymax,cell_size,100,\"Porosity\")"
   ]
  },
  {
   "cell_type": "code",
   "execution_count": null,
   "id": "8ace1eaa",
   "metadata": {},
   "outputs": [],
   "source": [
    "locpix(nscore_sim,0,1000,ymin,ymax,cell_size,-3,3,rand_sample,'X','Y','Porosity','Porosity Realization and Regular Samples','X(m)','Y(m)','Porosity (%)',cmap)\n"
   ]
  },
  {
   "cell_type": "code",
   "execution_count": null,
   "id": "477dd8ed",
   "metadata": {},
   "outputs": [],
   "source": [
    "locmap(rand_sample,'X','Y','Porosity',xmin,xmax,ymin,ymax,-3,3,'Porosity Samples','X(m)','Y(m)','Porosity (%)',cmap)\n"
   ]
  },
  {
   "cell_type": "code",
   "execution_count": null,
   "id": "6ecbd31e",
   "metadata": {},
   "outputs": [],
   "source": [
    "nlag = 70; lag = 50; azi = 90; atol = 90; standardize = 0        # set the variogram calculation parameters\n",
    "# calculate the isotropic variogram\n",
    "lag_iso,gamma_iso,npair_iso = gamv_2d(rand_sample,'X','Y','Porosity',nlag,lag,azi,atol,standardize)  "
   ]
  },
  {
   "cell_type": "code",
   "execution_count": null,
   "id": "bf116f6e",
   "metadata": {},
   "outputs": [],
   "source": [
    "vtype_iso = 0\n",
    "name_iso = 'Iso'\n",
    "vargplt(lag_iso,gamma_iso,npair_iso,vtype_iso,name_iso,0,1000,0,1.5,1,\"Anisotropic Porosity Variogram: Experimental and Model\",cmap)"
   ]
  },
  {
   "cell_type": "markdown",
   "id": "06b99603",
   "metadata": {},
   "source": [
    "## THERE IS MORE CODE BELOW - CALCULATE DIRECTIONALITY\n",
    "\n",
    "But now let's see if I can get up to here with my own data"
   ]
  },
  {
   "cell_type": "markdown",
   "id": "2949b6de",
   "metadata": {},
   "source": [
    "## Make a 2D spatial model"
   ]
  },
  {
   "cell_type": "code",
   "execution_count": 226,
   "id": "5736009a",
   "metadata": {},
   "outputs": [],
   "source": [
    "nx = 100; ny = 100; cell_size = 10                               # grid number of cells and cell size\n",
    "xmin = 0.0; ymin = 0.0;                                          # grid origin\n",
    "xmax = xmin + nx * cell_size; ymax = ymin + ny * cell_size       # calculate the extent of model\n",
    "seed = 74074                                                     # random number seed  for stochastic simulation    \n",
    "range_max = 500; range_min = 200; azimuth = 90                   # Porosity variogram ranges and azimuth\n",
    "mean = 10.0; stdev = 2.0                                         # Porosity mean and standard deviation\n",
    "#cmap = plt.cm.RdYlBu\n",
    "vmin = 4; vmax = 16; cmap = plt.cm.plasma                        # color min and max and using the plasma color map"
   ]
  },
  {
   "cell_type": "code",
   "execution_count": 196,
   "id": "b65fa7c2",
   "metadata": {},
   "outputs": [],
   "source": [
    "# calculate a stochastic realization with standard normal distribution\n",
    "sim,value = GSLIB_sgsim_2d_uncond(1,nx,ny,cell_size,seed,range_max,range_min,azimuth,\"simulation\")"
   ]
  },
  {
   "cell_type": "code",
   "execution_count": 197,
   "id": "2a499c72",
   "metadata": {},
   "outputs": [],
   "source": [
    "sim = affine(sim,mean,stdev)                                     # correct the distributi"
   ]
  },
  {
   "cell_type": "code",
   "execution_count": 198,
   "id": "1991e892",
   "metadata": {},
   "outputs": [],
   "source": [
    "nscore_sim = nscore(sim)"
   ]
  },
  {
   "cell_type": "code",
   "execution_count": 199,
   "id": "352feaaa",
   "metadata": {},
   "outputs": [
    {
     "name": "stdout",
     "output_type": "stream",
     "text": [
      "<class 'pandas.core.frame.DataFrame'>\n"
     ]
    },
    {
     "data": {
      "text/html": [
       "<div>\n",
       "<style scoped>\n",
       "    .dataframe tbody tr th:only-of-type {\n",
       "        vertical-align: middle;\n",
       "    }\n",
       "\n",
       "    .dataframe tbody tr th {\n",
       "        vertical-align: top;\n",
       "    }\n",
       "\n",
       "    .dataframe thead th {\n",
       "        text-align: right;\n",
       "    }\n",
       "</style>\n",
       "<table border=\"1\" class=\"dataframe\">\n",
       "  <thead>\n",
       "    <tr style=\"text-align: right;\">\n",
       "      <th></th>\n",
       "      <th>X</th>\n",
       "      <th>Y</th>\n",
       "      <th>Porosity</th>\n",
       "    </tr>\n",
       "  </thead>\n",
       "  <tbody>\n",
       "    <tr>\n",
       "      <th>0</th>\n",
       "      <td>50.0</td>\n",
       "      <td>549.0</td>\n",
       "      <td>0.10636</td>\n",
       "    </tr>\n",
       "    <tr>\n",
       "      <th>1</th>\n",
       "      <td>240.0</td>\n",
       "      <td>679.0</td>\n",
       "      <td>1.60953</td>\n",
       "    </tr>\n",
       "    <tr>\n",
       "      <th>2</th>\n",
       "      <td>530.0</td>\n",
       "      <td>539.0</td>\n",
       "      <td>0.93673</td>\n",
       "    </tr>\n",
       "    <tr>\n",
       "      <th>3</th>\n",
       "      <td>370.0</td>\n",
       "      <td>369.0</td>\n",
       "      <td>0.31166</td>\n",
       "    </tr>\n",
       "    <tr>\n",
       "      <th>4</th>\n",
       "      <td>610.0</td>\n",
       "      <td>649.0</td>\n",
       "      <td>-0.85149</td>\n",
       "    </tr>\n",
       "  </tbody>\n",
       "</table>\n",
       "</div>"
      ],
      "text/plain": [
       "       X      Y  Porosity\n",
       "0   50.0  549.0   0.10636\n",
       "1  240.0  679.0   1.60953\n",
       "2  530.0  539.0   0.93673\n",
       "3  370.0  369.0   0.31166\n",
       "4  610.0  649.0  -0.85149"
      ]
     },
     "execution_count": 199,
     "metadata": {},
     "output_type": "execute_result"
    }
   ],
   "source": [
    "## Can delete this cell later\n",
    "\n",
    "rand_sample = random_sample(nscore_sim,xmin,xmax,ymin,ymax,cell_size,100,\"Porosity\")\n",
    "\n",
    "print(type(rand_sample))\n",
    "rand_sample.head()"
   ]
  }
 ],
 "metadata": {
  "kernelspec": {
   "display_name": "Python 3",
   "language": "python",
   "name": "python3"
  },
  "language_info": {
   "codemirror_mode": {
    "name": "ipython",
    "version": 3
   },
   "file_extension": ".py",
   "mimetype": "text/x-python",
   "name": "python",
   "nbconvert_exporter": "python",
   "pygments_lexer": "ipython3",
   "version": "3.6.13"
  }
 },
 "nbformat": 4,
 "nbformat_minor": 5
}
