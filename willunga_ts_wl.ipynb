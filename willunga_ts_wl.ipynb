{
 "cells": [
  {
   "cell_type": "markdown",
   "id": "173c4b31",
   "metadata": {},
   "source": [
    "# Aims of this script\n",
    "\n",
    "1. Time-series visualisation of water levels\n",
    "2. Calculating single value to use for interpolation approach\n",
    "3. Any other time series analysis\n",
    "4. Select data for water table mapping exercise\n",
    "5. Variogram generation"
   ]
  },
  {
   "cell_type": "code",
   "execution_count": 1,
   "id": "74f62239",
   "metadata": {},
   "outputs": [],
   "source": [
    "import os\n",
    "import numpy as np\n",
    "import matplotlib.pyplot as plt\n",
    "import pandas as pd\n",
    "import geopandas as gpd\n",
    "from shapely.geometry import Point"
   ]
  },
  {
   "cell_type": "code",
   "execution_count": 2,
   "id": "b7a9b642",
   "metadata": {},
   "outputs": [],
   "source": [
    "figures_directory = r'C:\\Users\\mar886\\WaterTableProject\\Willunga\\willunga_wt\\figures'"
   ]
  },
  {
   "cell_type": "markdown",
   "id": "db71b1d9",
   "metadata": {},
   "source": [
    "## Set up data"
   ]
  },
  {
   "cell_type": "code",
   "execution_count": 3,
   "id": "d05ecff0",
   "metadata": {},
   "outputs": [],
   "source": [
    "SAWaCoFolder = r'C:\\Users\\mar886\\WaterTableProject\\Willunga\\willunga_wt\\input_data\\McLaren_SAWaterConnect'\n",
    "constr_details_df = pd.read_csv(os.path.join(SAWaCoFolder, 'constructiondetails.csv'))\n",
    "water_level_df = pd.read_csv(os.path.join(SAWaCoFolder, 'waterlevel.csv'))\n",
    "well_summary_df = pd.read_csv(os.path.join(SAWaCoFolder, 'wellsummary.csv'))\n",
    "\n",
    "outputdatapath = r'C:\\Users\\mar886\\WaterTableProject\\Willunga\\willunga_wt\\output_data'"
   ]
  },
  {
   "cell_type": "markdown",
   "id": "37e7daaf",
   "metadata": {},
   "source": [
    "## Have a look at the well summary data and change index"
   ]
  },
  {
   "cell_type": "code",
   "execution_count": 4,
   "id": "945c0d72",
   "metadata": {},
   "outputs": [
    {
     "name": "stdout",
     "output_type": "stream",
     "text": [
      "Index(['DHNO', 'Unit_No', 'Unit_Number', 'dh_name', 'network', 'Obs_No',\n",
      "       'drillhole_class', 'water_point_type_code', 'Aquifer',\n",
      "       'Orig_drilled_depth', 'Orig_drilled_date', 'max_drill_depth',\n",
      "       'max_drill_date', 'late_open_depth', 'late_open_date', 'late_permit_no',\n",
      "       'cased_to', 'case_min_diam', 'purpose', 'latest_status',\n",
      "       'latest_status_date', 'dtw', 'swl', 'rswl', 'water_level_date', 'TDS',\n",
      "       'EC', 'salinity_date', 'pH', 'pH_date', 'yield', 'yield_date',\n",
      "       'mga_easting', 'mga_northing', 'mga_zone', 'long_degrees',\n",
      "       'long_minutes', 'long_seconds', 'lat_degrees', 'lat_minutes',\n",
      "       'lat_seconds', 'decimal_long', 'decimal_lat', 'neg_decimal_lat',\n",
      "       'hundred', 'plan', 'parcel', 'Title', 'map_250k', 'map_100k', 'map_50k',\n",
      "       'map_10k', 'map_2_5k', 'map_1k', 'water_info', 'salinity',\n",
      "       'water_chemistry', 'geophys_log', 'drill_log', 'lith_log'],\n",
      "      dtype='object')\n",
      "Int64Index([ 26532,  26542,  26547,  26548,  26558,  26565,  26567,  26568,\n",
      "             26585,  26588,\n",
      "            ...\n",
      "            190885, 195701, 196280, 196571, 196608, 196609, 200676, 200677,\n",
      "            200678, 200679],\n",
      "           dtype='int64', name='DHNO', length=148)\n"
     ]
    }
   ],
   "source": [
    "well_summary_df.head(2)\n",
    "print(well_summary_df.columns)\n",
    "well_summary_df.index = well_summary_df.DHNO\n",
    "print(well_summary_df.index)"
   ]
  },
  {
   "cell_type": "markdown",
   "id": "8276404a",
   "metadata": {},
   "source": [
    "## Make the well summary into a geodataframe \n",
    "\n",
    "This allows for spatial plotting"
   ]
  },
  {
   "cell_type": "code",
   "execution_count": 5,
   "id": "ed7f9c3d",
   "metadata": {},
   "outputs": [
    {
     "name": "stderr",
     "output_type": "stream",
     "text": [
      "C:\\Users\\mar886\\Anaconda3\\envs\\geo_env\\lib\\site-packages\\pandas\\core\\dtypes\\cast.py:118: ShapelyDeprecationWarning: The array interface is deprecated and will no longer work in Shapely 2.0. Convert the '.coords' to a numpy array instead.\n",
      "  arr = construct_1d_object_array_from_listlike(values)\n"
     ]
    }
   ],
   "source": [
    "well_summary_df[\"geometry\"] = [Point(x, y) for x, y in zip(well_summary_df.mga_easting, well_summary_df.mga_northing)]\n",
    "\n",
    "well_summary_gdf = gpd.GeoDataFrame(well_summary_df, geometry='geometry', crs= 'epsg:32754')\n",
    "\n",
    "#print(well_summary_gdf.head(2))"
   ]
  },
  {
   "cell_type": "markdown",
   "id": "07d41a70",
   "metadata": {},
   "source": [
    "## Have a look at the water level data and change the index \n",
    "\n",
    "Also change the format of the date time column for time-series analysis"
   ]
  },
  {
   "cell_type": "code",
   "execution_count": 6,
   "id": "9c1e17eb",
   "metadata": {},
   "outputs": [
    {
     "name": "stdout",
     "output_type": "stream",
     "text": [
      "Int64Index([ 26532,  26532,  26532,  26532,  26532,  26532,  26532,  26532,\n",
      "             26532,  26532,\n",
      "            ...\n",
      "            200678, 200678, 200678, 200678, 200678, 200678, 200678, 200678,\n",
      "            200678, 200679],\n",
      "           dtype='int64', name='DHNO', length=24347)\n"
     ]
    }
   ],
   "source": [
    "water_level_df.head(1)\n",
    "\n",
    "water_level_df.index = water_level_df.DHNO\n",
    "\n",
    "print(water_level_df.index)\n",
    "\n",
    "water_level_df[\"Datetime\"] = pd.to_datetime(water_level_df[\"obs_date\"])\n",
    "#print(water_level_df[\"Datetime\"])"
   ]
  },
  {
   "cell_type": "markdown",
   "id": "5864ed09",
   "metadata": {},
   "source": [
    "## Create plots of water levels\n",
    "\n",
    "Ensure only plotting where there are data - some of the wells there are no time series water level data available.\n",
    "\n",
    "Save the plots in the figures directory."
   ]
  },
  {
   "cell_type": "code",
   "execution_count": 8,
   "id": "ea37060c",
   "metadata": {},
   "outputs": [],
   "source": [
    "idx = well_summary_df.index[0]\n",
    "\n",
    "for idx in well_summary_df.index:\n",
    "    #print(idx)\n",
    "\n",
    "    df = water_level_df.copy()\n",
    "    df = df[df[\"DHNO\"]==idx]\n",
    "    #print(df[\"rswl\"])\n",
    "    #print(df[\"rswl\"].isnull())\n",
    "\n",
    "    if (len(df) > 0) and (sum(~df[\"rswl\"].isnull())>0):\n",
    "        #print(\"Some data exist\")\n",
    "        #print(len(df))\n",
    "        fig, axes = plt.subplots(1,1)\n",
    "        df.plot(\"Datetime\", \"rswl\", ax=axes, marker='+', ls=\"--\",\n",
    "                        markeredgecolor=\"0.1\", label = idx) \n",
    "        #ax1.set_xlim(pd.Timestamp('2014-01-01'), pd.Timestamp('2020-01-01'))\n",
    "        axes.set_ylabel(\"RSWL (m AHD)\")\n",
    "        nm = \"wl_%s\" %idx\n",
    "        plt.savefig(os.path.join(figures_directory, nm))\n",
    "        plt.close()\n",
    "    else:\n",
    "        #print(\"No data available for well: %s\" %idx)\n",
    "        pass"
   ]
  },
  {
   "cell_type": "markdown",
   "id": "3daf19d5",
   "metadata": {},
   "source": [
    "## Plot location of wells"
   ]
  },
  {
   "cell_type": "code",
   "execution_count": 9,
   "id": "12121a1c",
   "metadata": {},
   "outputs": [
    {
     "data": {
      "text/plain": [
       "Text(84.43555954403271, 0.5, 'Northing')"
      ]
     },
     "execution_count": 9,
     "metadata": {},
     "output_type": "execute_result"
    },
    {
     "data": {
      "image/png": "[encoded data removed]",
      "text/plain": [
       "<Figure size 432x288 with 2 Axes>"
      ]
     },
     "metadata": {
      "needs_background": "light"
     },
     "output_type": "display_data"
    }
   ],
   "source": [
    "well_summary_gdf.plot(column=\"rswl\", legend=True)\n",
    "plt.xlabel(\"Easting\")\n",
    "plt.ylabel(\"Northing\")"
   ]
  },
  {
   "cell_type": "markdown",
   "id": "f5db2bbb",
   "metadata": {},
   "source": [
    "## Need to change the obs date to date time format \n",
    "\n",
    "This allows me to easily select samples only at/after/between specific time periods.  \n",
    "First I need to first remove NAN values.  \n",
    "ss = \"sub-set\" this is the subset of values corresponding to the time period I choose for the map."
   ]
  },
  {
   "cell_type": "code",
   "execution_count": 10,
   "id": "3813177d",
   "metadata": {},
   "outputs": [
    {
     "name": "stdout",
     "output_type": "stream",
     "text": [
      "Number of samples including nan values:148\n",
      "Number of samples exlcuding nan values:140\n"
     ]
    }
   ],
   "source": [
    "well_summary_gdf_ss = well_summary_gdf.copy()\n",
    "\n",
    "well_summary_gdf_ss = well_summary_gdf_ss[well_summary_gdf_ss['water_level_date'].notna()]\n",
    "\n",
    "print(\"Number of samples including nan values:\" + str(len(well_summary_gdf)))\n",
    "print(\"Number of samples exlcuding nan values:\" + str(len(well_summary_gdf_ss)))\n",
    "\n",
    "well_summary_gdf_ss[\"Datetime\"] = pd.to_datetime(well_summary_gdf_ss[\"water_level_date\"])"
   ]
  },
  {
   "cell_type": "markdown",
   "id": "214f6337",
   "metadata": {},
   "source": [
    "## Only get dates that are this year - so that they are consistent\n"
   ]
  },
  {
   "cell_type": "code",
   "execution_count": 11,
   "id": "bce5122d",
   "metadata": {},
   "outputs": [
    {
     "name": "stdout",
     "output_type": "stream",
     "text": [
      "Total number of measurements, any time period 140\n",
      "Number of measurements after 2021-01-01: 85\n"
     ]
    }
   ],
   "source": [
    "startdate = '2021-01-01 00:00:00'\n",
    "\n",
    "print(\"Total number of measurements, any time period %i\" %(len(well_summary_gdf_ss)))\n",
    "well_summary_gdf_ss = well_summary_gdf_ss[well_summary_gdf_ss['Datetime'] > startdate]\n",
    "print(\"Number of measurements after %s: %i\" %(startdate[0:10], len(well_summary_gdf_ss)))"
   ]
  },
  {
   "cell_type": "markdown",
   "id": "1357ba98",
   "metadata": {},
   "source": [
    "## Filter out empty values that don't have a rswl"
   ]
  },
  {
   "cell_type": "code",
   "execution_count": 12,
   "id": "bf9a15d6",
   "metadata": {},
   "outputs": [
    {
     "name": "stdout",
     "output_type": "stream",
     "text": [
      "Number of measurements after 2021-01-01 & with a rswl measurement: 81\n"
     ]
    }
   ],
   "source": [
    "well_summary_gdf_ss = well_summary_gdf_ss[well_summary_gdf_ss['rswl'].isnull() == False]\n",
    "\n",
    "print(\"Number of measurements after %s & with a rswl measurement: %i\" %(startdate[0:10], len(well_summary_gdf_ss)))"
   ]
  },
  {
   "cell_type": "markdown",
   "id": "73c7ad90",
   "metadata": {},
   "source": [
    "### Plot the location of wells in 2021 with data for rswl"
   ]
  },
  {
   "cell_type": "code",
   "execution_count": 13,
   "id": "edf9c0a0",
   "metadata": {},
   "outputs": [
    {
     "data": {
      "image/png": "[encoded data removed]",
      "text/plain": [
       "<Figure size 432x288 with 2 Axes>"
      ]
     },
     "metadata": {
      "needs_background": "light"
     },
     "output_type": "display_data"
    }
   ],
   "source": [
    "well_summary_gdf_ss.plot(column=\"rswl\", legend=True)\n",
    "\n",
    "plt.savefig(os.path.join(figures_directory, \"2021_data\"), dpi=300)"
   ]
  },
  {
   "cell_type": "markdown",
   "id": "3ec0f992",
   "metadata": {},
   "source": [
    "## Look at the aquifers that these wells are in \n",
    "\n",
    "N = Neoproterozoic\n",
    "Qpa = Pleistocene alluvial/fluvial sediments\n",
    "Qpam = Pirramimma Sandstone\n",
    "Te2 = Eocene unit 2\n",
    "Teb = Blanche Point Formation\n",
    "Toc = Chinaman Gully Formation\n",
    "Tomw =  Port Willunga Formation\n",
    "\n",
    "McCallum et al (2018) - \"The Port Willunga formation is the collective name given to the stratigraphic units that comprise the upper tertiary aqufier of the Willunga Embayment and includes the Aldinga, Ruwarung and Pirramimma Sand Members\""
   ]
  },
  {
   "cell_type": "code",
   "execution_count": 14,
   "id": "ae05a456",
   "metadata": {},
   "outputs": [
    {
     "data": {
      "text/plain": [
       "Te2     18\n",
       "Qpam    18\n",
       "N       18\n",
       "Qpa     14\n",
       "Tomw     9\n",
       "Teb      3\n",
       "Toc      1\n",
       "Name: Aquifer, dtype: int64"
      ]
     },
     "execution_count": 14,
     "metadata": {},
     "output_type": "execute_result"
    },
    {
     "data": {
      "image/png": "[encoded data removed]",
      "text/plain": [
       "<Figure size 432x288 with 1 Axes>"
      ]
     },
     "metadata": {
      "needs_background": "light"
     },
     "output_type": "display_data"
    }
   ],
   "source": [
    "well_summary_gdf_ss.plot(column=\"Aquifer\", legend=True)\n",
    "well_summary_gdf_ss[\"Aquifer\"].value_counts()"
   ]
  },
  {
   "cell_type": "markdown",
   "id": "9666fde5",
   "metadata": {},
   "source": [
    "## Filter samples to only have data from particular aquifers\n",
    "\n",
    "I only want to sample the water table - not the pot surface for deeper/confined aquifers. \n",
    "\n",
    "Exclude:\n",
    "N (too old)\n",
    "Te2 (assume part of Maslin Sand, confined aquifer)\n",
    "Teb (this is aquftard between Maslin Sand Aq and Port Willunga Fm)\n",
    "Toc (this is aquftard between Maslin Sand Aq and Port Willunga Fm)\n",
    "\n",
    "\n",
    "Include:\n",
    "Qpa (assume unconfined)\n",
    "\n",
    "Unsure:\n",
    "Qpam (Pirramimma Sst is part of Port Willunga Fm)\n",
    "Tomw (Port Willunga Fm - this is confined, I'm pretty sure it is anyway)"
   ]
  },
  {
   "cell_type": "markdown",
   "id": "d4a07a5d",
   "metadata": {},
   "source": [
    "### Quaternary data only"
   ]
  },
  {
   "cell_type": "code",
   "execution_count": 15,
   "id": "f5601c05",
   "metadata": {},
   "outputs": [
    {
     "name": "stdout",
     "output_type": "stream",
     "text": [
      "Number of remaining measurements: 14\n"
     ]
    },
    {
     "data": {
      "image/png": "[encoded data removed]",
      "text/plain": [
       "<Figure size 432x288 with 2 Axes>"
      ]
     },
     "metadata": {
      "needs_background": "light"
     },
     "output_type": "display_data"
    }
   ],
   "source": [
    "well_summary_gdf_ss2 = well_summary_gdf_ss[well_summary_gdf_ss['Aquifer'] == \"Qpa\"]\n",
    "\n",
    "print(\"Number of remaining measurements: %i\" %len(well_summary_gdf_ss2))\n",
    "\n",
    "well_summary_gdf_ss2.plot(column=\"rswl\", legend=True)\n",
    "\n",
    "plt.savefig(os.path.join(figures_directory, \"2021_data_Qpa\"), dpi=300)"
   ]
  },
  {
   "cell_type": "markdown",
   "id": "9ec9eb3f",
   "metadata": {},
   "source": [
    "### Quaternary + Olig-Miocene data only"
   ]
  },
  {
   "cell_type": "code",
   "execution_count": 16,
   "id": "1956a8bb",
   "metadata": {},
   "outputs": [
    {
     "name": "stdout",
     "output_type": "stream",
     "text": [
      "Number of remaining measurements: 41\n"
     ]
    },
    {
     "data": {
      "image/png": "[encoded data removed]",
      "text/plain": [
       "<Figure size 432x288 with 2 Axes>"
      ]
     },
     "metadata": {
      "needs_background": "light"
     },
     "output_type": "display_data"
    }
   ],
   "source": [
    "well_summary_gdf_ss3 = well_summary_gdf_ss[(well_summary_gdf_ss['Aquifer'] == \"Qpa\") | \n",
    "                                           (well_summary_gdf_ss['Aquifer'] == \"Qpam\") |\n",
    "                                           (well_summary_gdf_ss['Aquifer'] == \"Tomw\")]\n",
    "\n",
    "print(\"Number of remaining measurements: %i\" %len(well_summary_gdf_ss3))\n",
    "\n",
    "well_summary_gdf_ss3.plot(column=\"rswl\", legend=True)\n",
    "\n",
    "plt.savefig(os.path.join(figures_directory, \"2021_data_Q_PtW\"), dpi=300)"
   ]
  },
  {
   "cell_type": "markdown",
   "id": "8e276299",
   "metadata": {},
   "source": [
    "### Export this dataframe for future reference"
   ]
  },
  {
   "cell_type": "code",
   "execution_count": 17,
   "id": "36e1b0fc",
   "metadata": {},
   "outputs": [],
   "source": [
    "well_summary_gdf_ss.to_csv(os.path.join(outputdatapath, \"well_summary_gdf_ss.csv\"))\n",
    "well_summary_gdf_ss2.to_csv(os.path.join(outputdatapath, \"well_summary_gdf_ss2.csv\"))\n",
    "well_summary_gdf_ss3.to_csv(os.path.join(outputdatapath, \"well_summary_gdf_ss3.csv\"))"
   ]
  },
  {
   "cell_type": "markdown",
   "id": "11578ec9",
   "metadata": {},
   "source": [
    "# Remove measurements that look like the aquifers overlap\n",
    "These wells have been chosen via visual inspection only, this is not idea.\n",
    "Sites were chosen where there were contradictory deep/shallow values and then I am removing the deep values. This is so that the map is of the unconfined water table aqufier only. \n",
    "\n",
    "Also I am working with all of the data - well_summary_gdf_ss"
   ]
  },
  {
   "cell_type": "code",
   "execution_count": 18,
   "id": "baa97f4a",
   "metadata": {},
   "outputs": [
    {
     "name": "stdout",
     "output_type": "stream",
     "text": [
      "Int64Index([ 26548,  26558,  26565,  26585,  27050,  27063,  27099,  27107,\n",
      "             27108,  27112,  27113,  27116,  27117,  27118,  27119,  27121,\n",
      "             27125,  39875,  39932,  40002,  40495,  40740,  40794,  42029,\n",
      "             42104,  42108,  42117,  42173,  42190,  42279,  43439,  43470,\n",
      "             43490,  44644,  45105,  45276,  45418,  45475,  45807,  46069,\n",
      "             46129,  46196,  46212,  46229,  46232,  46299,  46548,  46552,\n",
      "             46725,  46726,  46734,  46736, 131933, 142342, 156132, 166221,\n",
      "            166224, 166767, 166769, 167241, 177637, 179079, 179080, 180819,\n",
      "            180820, 180821, 180822, 180835, 180836, 180837, 180838, 182233,\n",
      "            186362, 195701, 196280, 196571, 196608, 196609, 200676, 200677,\n",
      "            200678],\n",
      "           dtype='int64', name='DHNO')\n"
     ]
    }
   ],
   "source": [
    "print(well_summary_gdf_ss.index)\n",
    "wells_to_drop = [27116, 26548, 27099, 27108, 46548, 45807, 166224, 167241]\n",
    "well_summary_gdf_ss_a = well_summary_gdf_ss.drop(index=wells_to_drop)"
   ]
  },
  {
   "cell_type": "code",
   "execution_count": 19,
   "id": "1cd8b600",
   "metadata": {},
   "outputs": [
    {
     "name": "stdout",
     "output_type": "stream",
     "text": [
      "Number of remaining measurements: 73\n"
     ]
    },
    {
     "data": {
      "text/plain": [
       "<AxesSubplot:>"
      ]
     },
     "execution_count": 19,
     "metadata": {},
     "output_type": "execute_result"
    },
    {
     "data": {
      "image/png": "[encoded data removed]",
      "text/plain": [
       "<Figure size 432x288 with 2 Axes>"
      ]
     },
     "metadata": {
      "needs_background": "light"
     },
     "output_type": "display_data"
    }
   ],
   "source": [
    "print(\"Number of remaining measurements: %i\" %len(well_summary_gdf_ss_a))\n",
    "\n",
    "well_summary_gdf_ss_a.plot(column=\"rswl\", legend=True)"
   ]
  },
  {
   "cell_type": "markdown",
   "id": "7b80a7f9",
   "metadata": {},
   "source": [
    "## Remove measurements where there are nested wells\n",
    "\n",
    "First find the duplicates"
   ]
  },
  {
   "cell_type": "code",
   "execution_count": 20,
   "id": "720362b5",
   "metadata": {},
   "outputs": [
    {
     "name": "stdout",
     "output_type": "stream",
     "text": [
      "8\n",
      "DHNO\n",
      "180819    277727.79\n",
      "180820    277727.79\n",
      "180821    277727.79\n",
      "180822    277727.79\n",
      "180835    277896.78\n",
      "180836    277896.78\n",
      "180837    277896.78\n",
      "180838    277896.78\n",
      "Name: mga_easting, dtype: float64\n",
      "DHNO\n",
      "180819    6100638.50\n",
      "180820    6100638.50\n",
      "180821    6100638.50\n",
      "180822    6100638.50\n",
      "180835    6099396.56\n",
      "180836    6099396.56\n",
      "180837    6099396.56\n",
      "180838    6099396.56\n",
      "Name: mga_northing, dtype: float64\n",
      "DHNO\n",
      "180819    36.0\n",
      "180820    20.8\n",
      "180821     9.2\n",
      "180822     3.2\n",
      "180835    37.0\n",
      "180836    31.0\n",
      "180837    21.8\n",
      "180838     6.6\n",
      "Name: cased_to, dtype: float64\n",
      "DHNO\n",
      "180819    55.69\n",
      "180820    55.63\n",
      "180821    55.59\n",
      "180822    55.58\n",
      "180835    54.78\n",
      "180836    54.72\n",
      "180837    54.32\n",
      "180838    54.34\n",
      "Name: rswl, dtype: float64\n"
     ]
    }
   ],
   "source": [
    "df_duplicates = well_summary_gdf_ss_a[well_summary_gdf_ss_a.duplicated(subset=['mga_easting','mga_northing'], keep=False)]\n",
    "\n",
    "print(len(df_duplicates))\n",
    "\n",
    "print(df_duplicates.mga_easting)\n",
    "print(df_duplicates.mga_northing)\n",
    "print(df_duplicates.cased_to)\n",
    "print(df_duplicates.rswl)"
   ]
  },
  {
   "cell_type": "markdown",
   "id": "7afa49e0",
   "metadata": {},
   "source": [
    "### Remove duplicates and leave the shallowest wells"
   ]
  },
  {
   "cell_type": "code",
   "execution_count": 21,
   "id": "85c2d298",
   "metadata": {},
   "outputs": [
    {
     "data": {
      "text/plain": [
       "numpy.int64"
      ]
     },
     "execution_count": 21,
     "metadata": {},
     "output_type": "execute_result"
    }
   ],
   "source": [
    "type(well_summary_gdf_ss_a.index[0])"
   ]
  },
  {
   "cell_type": "code",
   "execution_count": 22,
   "id": "85d84a4d",
   "metadata": {},
   "outputs": [
    {
     "name": "stdout",
     "output_type": "stream",
     "text": [
      "67\n"
     ]
    }
   ],
   "source": [
    "well_summary_gdf_ss_a1 = well_summary_gdf_ss_a.drop(labels=[180819, 180820, 180821, 180837, 180836, 180835])\n",
    "print(len(well_summary_gdf_ss_a1))"
   ]
  },
  {
   "cell_type": "markdown",
   "id": "a4a2213e",
   "metadata": {},
   "source": [
    "Save this data frame"
   ]
  },
  {
   "cell_type": "code",
   "execution_count": 23,
   "id": "7ab6412e",
   "metadata": {},
   "outputs": [],
   "source": [
    "filenm = os.path.join(\"output_data\", \"well_summary_gdf_ss_a1.csv\")\n",
    "well_summary_gdf_ss_a1.to_csv(filenm)"
   ]
  },
  {
   "cell_type": "markdown",
   "id": "8cc23997",
   "metadata": {},
   "source": [
    "# Choose some wells at random to remove\n",
    "Then the practitioner has to guess the head at these values and we can compare with the real value"
   ]
  },
  {
   "cell_type": "code",
   "execution_count": 19,
   "id": "1df9a544",
   "metadata": {},
   "outputs": [
    {
     "name": "stdout",
     "output_type": "stream",
     "text": [
      "[7, 34, 41, 4, 24, 42, 33]\n"
     ]
    }
   ],
   "source": [
    "import random\n",
    "\n",
    "n_wells_to_remove = 7\n",
    "\n",
    "wells_to_guess_i = random.sample(range(0, len(well_summary_gdf_ss_a1)), n_wells_to_remove)\n",
    "    \n",
    "print(wells_to_guess_i)\n",
    "\n",
    "#wells_to_guess_i.append(int(random.uniform(0.0, len(well_summary_gdf_ss_a1)))) - this method can end up with repetition"
   ]
  },
  {
   "cell_type": "markdown",
   "id": "f15114a9",
   "metadata": {},
   "source": [
    "# Set the hydraulic head value as empty for these values.\n",
    "So that I can still have them on the map but not to label wiht the head value"
   ]
  },
  {
   "cell_type": "code",
   "execution_count": 29,
   "id": "a3d70776",
   "metadata": {},
   "outputs": [
    {
     "name": "stdout",
     "output_type": "stream",
     "text": [
      "[39875, 42108, 180822, 27125, 46069, 46232, 42104]\n"
     ]
    }
   ],
   "source": [
    "# Because I have already run I just want to keep using these ones\n",
    "#wells_to_guess_i = [13, 21, 58, 12, 34, 39, 20]\n",
    "wells_to_guess_idx  = [39875, 42108, 180822, 27125, 46069, 46232, 42104]\n",
    "\n",
    "well_summary_gdf_ss_b = well_summary_gdf_ss_a1.copy()\n",
    "\n",
    "idx = well_summary_gdf_ss_b.index\n",
    "\n",
    "wells_dropped = []\n",
    "\n",
    "for i in wells_to_guess_idx:\n",
    "    well_dhno = i\n",
    "    #print(well_dhno)\n",
    "    #well_summary_gdf_ss_b = well_summary_gdf_ss_a1.drop(index=well_dhno)\n",
    "    wells_dropped.append(well_dhno)\n",
    "\n",
    "print(wells_dropped)"
   ]
  },
  {
   "cell_type": "markdown",
   "id": "370480d0",
   "metadata": {},
   "source": [
    "For the wells I have dropped, set their value to equal a letter"
   ]
  },
  {
   "cell_type": "code",
   "execution_count": 30,
   "id": "1cf4b212",
   "metadata": {},
   "outputs": [],
   "source": [
    "import string\n",
    "alphabet = string.ascii_lowercase\n",
    "\n",
    "for idx, i in zip(wells_dropped, range(len(wells_dropped))):\n",
    "    well_summary_gdf_ss_b.loc[idx, 'rswl'] = alphabet[i]"
   ]
  },
  {
   "cell_type": "code",
   "execution_count": 31,
   "id": "5816a9ce",
   "metadata": {},
   "outputs": [
    {
     "name": "stdout",
     "output_type": "stream",
     "text": [
      "1\n"
     ]
    }
   ],
   "source": [
    "#print(len(wells_dropped))\n",
    "#print(well_summary_gdf_ss_b.rswl)\n",
    "print(well_summary_gdf_ss_b['rswl'].value_counts()['a'])"
   ]
  },
  {
   "cell_type": "markdown",
   "id": "1ed648fe",
   "metadata": {},
   "source": [
    "# Add column to original data frame\n",
    "\n",
    "So I can \"track\" which columns I have dropped - for guessing, these have been dropped so I can compare the manual interpolation with the true value."
   ]
  },
  {
   "cell_type": "code",
   "execution_count": 32,
   "id": "be4f2beb",
   "metadata": {},
   "outputs": [
    {
     "name": "stdout",
     "output_type": "stream",
     "text": [
      "['N', 'N', 'N', 'N', 'N', 'N', 'N', 'N', 'N', 'N', 'N', 'N', 'Y', 'Y', 'N', 'N', 'N', 'N', 'N', 'N', 'Y', 'Y', 'N', 'N', 'N', 'N', 'N', 'N', 'N', 'N', 'N', 'N', 'N', 'N', 'Y', 'N', 'N', 'N', 'N', 'Y', 'N', 'N', 'N', 'N', 'N', 'N', 'N', 'N', 'N', 'N', 'N', 'N', 'N', 'N', 'N', 'Y', 'N', 'N', 'N', 'N', 'N', 'N', 'N', 'N', 'N', 'N', 'N']\n"
     ]
    }
   ],
   "source": [
    "dropped = []\n",
    "for i in well_summary_gdf_ss_b.index:\n",
    "    #print(i)\n",
    "    if i in wells_dropped:\n",
    "        dropped.append(\"Y\")\n",
    "    else:\n",
    "        dropped.append(\"N\")\n",
    "        \n",
    "print(dropped)"
   ]
  },
  {
   "cell_type": "code",
   "execution_count": 33,
   "id": "dd6c0a22",
   "metadata": {},
   "outputs": [],
   "source": [
    "well_summary_gdf_ss_b[\"dropped\"] = dropped"
   ]
  },
  {
   "cell_type": "code",
   "execution_count": 34,
   "id": "dc651826",
   "metadata": {},
   "outputs": [
    {
     "data": {
      "text/plain": [
       "<AxesSubplot:>"
      ]
     },
     "execution_count": 34,
     "metadata": {},
     "output_type": "execute_result"
    },
    {
     "data": {
      "image/png": "[encoded data removed]",
      "text/plain": [
       "<Figure size 432x288 with 2 Axes>"
      ]
     },
     "metadata": {
      "needs_background": "light"
     },
     "output_type": "display_data"
    },
    {
     "data": {
      "image/png": "[encoded data removed]",
      "text/plain": [
       "<Figure size 432x288 with 1 Axes>"
      ]
     },
     "metadata": {
      "needs_background": "light"
     },
     "output_type": "display_data"
    },
    {
     "data": {
      "image/png": "[encoded data removed]",
      "text/plain": [
       "<Figure size 432x288 with 1 Axes>"
      ]
     },
     "metadata": {
      "needs_background": "light"
     },
     "output_type": "display_data"
    }
   ],
   "source": [
    "well_summary_gdf_ss_a1.plot(column=\"rswl\", legend=True)\n",
    "well_summary_gdf_ss_b.plot(column=\"dropped\", legend=True)\n",
    "well_summary_gdf_ss_b[well_summary_gdf_ss_b[\"dropped\"]==\"Y\"].plot(column=\"rswl\", legend=True)"
   ]
  },
  {
   "cell_type": "markdown",
   "id": "7156400c",
   "metadata": {},
   "source": [
    "### Save the dataframe\n"
   ]
  },
  {
   "cell_type": "code",
   "execution_count": 35,
   "id": "d8f57844",
   "metadata": {},
   "outputs": [
    {
     "data": {
      "text/plain": [
       "'C:\\\\Users\\\\mar886\\\\WaterTableProject\\\\Willunga\\\\willunga_wt'"
      ]
     },
     "execution_count": 35,
     "metadata": {},
     "output_type": "execute_result"
    }
   ],
   "source": [
    "os.getcwd()"
   ]
  },
  {
   "cell_type": "code",
   "execution_count": 36,
   "id": "e2cf2342",
   "metadata": {},
   "outputs": [],
   "source": [
    "filenm = os.path.join(\"output_data\", \"well_summary_gdf_ss_b.csv\")\n",
    "well_summary_gdf_ss_b.to_csv(filenm)"
   ]
  },
  {
   "cell_type": "markdown",
   "id": "9ef3c4f6",
   "metadata": {},
   "source": [
    "# Add three or so new measurements\n",
    "At these points, I will ask people to guess the height of water table but we don't actually know the truth"
   ]
  },
  {
   "cell_type": "code",
   "execution_count": 37,
   "id": "0cb29cb4",
   "metadata": {},
   "outputs": [
    {
     "data": {
      "text/plain": [
       "Index(['DHNO', 'Unit_No', 'Unit_Number', 'dh_name', 'network', 'Obs_No',\n",
       "       'drillhole_class', 'water_point_type_code', 'Aquifer',\n",
       "       'Orig_drilled_depth', 'Orig_drilled_date', 'max_drill_depth',\n",
       "       'max_drill_date', 'late_open_depth', 'late_open_date', 'late_permit_no',\n",
       "       'cased_to', 'case_min_diam', 'purpose', 'latest_status',\n",
       "       'latest_status_date', 'dtw', 'swl', 'rswl', 'water_level_date', 'TDS',\n",
       "       'EC', 'salinity_date', 'pH', 'pH_date', 'yield', 'yield_date',\n",
       "       'mga_easting', 'mga_northing', 'mga_zone', 'long_degrees',\n",
       "       'long_minutes', 'long_seconds', 'lat_degrees', 'lat_minutes',\n",
       "       'lat_seconds', 'decimal_long', 'decimal_lat', 'neg_decimal_lat',\n",
       "       'hundred', 'plan', 'parcel', 'Title', 'map_250k', 'map_100k', 'map_50k',\n",
       "       'map_10k', 'map_2_5k', 'map_1k', 'water_info', 'salinity',\n",
       "       'water_chemistry', 'geophys_log', 'drill_log', 'lith_log', 'geometry',\n",
       "       'Datetime', 'dropped'],\n",
       "      dtype='object')"
      ]
     },
     "execution_count": 37,
     "metadata": {},
     "output_type": "execute_result"
    }
   ],
   "source": [
    "well_summary_gdf_ss_b.columns"
   ]
  },
  {
   "cell_type": "code",
   "execution_count": 38,
   "id": "9832757d",
   "metadata": {},
   "outputs": [],
   "source": [
    "df = pd.DataFrame({'DHNO':['new1', 'new2', 'new3'], \n",
    "                  'neg_decimal_lat':[-35.276, -35.222, -35.174],\n",
    "                  'decimal_long':[138.477, 138.609, 138.478],\n",
    "                  'mga_easting':[270522.908, 282386.889, 270326.409],\n",
    "                  'mga_northing':[6093429.894, 6099717.867, 6104747.739],\n",
    "                  'rswl':['h','i','j']})\n",
    "\n",
    "gdf = gpd.GeoDataFrame(\n",
    "    df, geometry=gpd.points_from_xy(df.mga_easting, df.mga_northing))"
   ]
  },
  {
   "cell_type": "code",
   "execution_count": 39,
   "id": "0110aa57",
   "metadata": {},
   "outputs": [
    {
     "name": "stdout",
     "output_type": "stream",
     "text": [
      "67\n",
      "70\n"
     ]
    }
   ],
   "source": [
    "well_summary_gdf_ss_c = well_summary_gdf_ss_b.append(gdf)\n",
    "print(len(well_summary_gdf_ss_b))\n",
    "print(len(well_summary_gdf_ss_c))"
   ]
  },
  {
   "cell_type": "code",
   "execution_count": 42,
   "id": "3675751c",
   "metadata": {},
   "outputs": [
    {
     "name": "stdout",
     "output_type": "stream",
     "text": [
      "['N', 'N', 'N', 'N', 'N', 'N', 'N', 'N', 'N', 'N', 'N', 'N', 'N', 'N', 'N', 'N', 'N', 'N', 'N', 'N', 'N', 'N', 'N', 'N', 'N', 'N', 'N', 'N', 'N', 'N', 'N', 'N', 'N', 'N', 'N', 'N', 'N', 'N', 'N', 'N', 'N', 'N', 'N', 'N', 'N', 'N', 'N', 'N', 'N', 'N', 'N', 'N', 'N', 'N', 'N', 'N', 'N', 'N', 'N', 'N', 'N', 'N', 'N', 'N', 'N', 'N', 'N', 'Y', 'Y', 'Y']\n"
     ]
    }
   ],
   "source": [
    "a = [\"N\"]*(len(well_summary_gdf_ss_b)) + [\"Y\"]*3\n",
    "print(a)"
   ]
  },
  {
   "cell_type": "code",
   "execution_count": 43,
   "id": "3a60a625",
   "metadata": {},
   "outputs": [],
   "source": [
    "well_summary_gdf_ss_c[\"new_well_locations\"] = a"
   ]
  },
  {
   "cell_type": "code",
   "execution_count": 44,
   "id": "f5a02db6",
   "metadata": {},
   "outputs": [
    {
     "data": {
      "text/plain": [
       "<AxesSubplot:>"
      ]
     },
     "execution_count": 44,
     "metadata": {},
     "output_type": "execute_result"
    },
    {
     "data": {
      "image/png": "[encoded data removed]",
      "text/plain": [
       "<Figure size 432x288 with 1 Axes>"
      ]
     },
     "metadata": {
      "needs_background": "light"
     },
     "output_type": "display_data"
    }
   ],
   "source": [
    "#well_summary_gdf_ss_c.plot(column=\"rswl\", legend=True)\n",
    "well_summary_gdf_ss_c.plot(column=\"new_well_locations\", legend=True)"
   ]
  },
  {
   "cell_type": "markdown",
   "id": "75575fe5",
   "metadata": {},
   "source": [
    "### Save the dataframe \n",
    "\n",
    "This is the one that I will use for the plotting exercise"
   ]
  },
  {
   "cell_type": "code",
   "execution_count": 45,
   "id": "8090dc65",
   "metadata": {},
   "outputs": [],
   "source": [
    "filenm = os.path.join(\"output_data\", \"well_summary_gdf_ss_c.csv\")\n",
    "well_summary_gdf_ss_c.to_csv(filenm)"
   ]
  },
  {
   "cell_type": "markdown",
   "id": "73660f57",
   "metadata": {},
   "source": [
    "## Create experimental variogram\n",
    "\n",
    "This is going to be to help us to do some form of interpolation with the data."
   ]
  },
  {
   "cell_type": "markdown",
   "id": "5ae7f5aa",
   "metadata": {},
   "source": [
    "### Define the function"
   ]
  },
  {
   "cell_type": "code",
   "execution_count": 41,
   "id": "06c92eca",
   "metadata": {},
   "outputs": [],
   "source": [
    "def make_variogram_wells(df, nbin):\n",
    "\n",
    "    ### Matrix of the difference between distances \n",
    "\n",
    "    xx, xy = np.meshgrid(df[\"mga_easting\"].to_numpy(), \n",
    "                        df[\"mga_easting\"].to_numpy())\n",
    "\n",
    "    dist_x = (xx - xy)**2\n",
    "\n",
    "    #print(dist_x[:10, :10])\n",
    "\n",
    "\n",
    "    yx, yy = np.meshgrid(df[\"mga_northing\"].to_numpy(), \n",
    "                        df[\"mga_northing\"].to_numpy())\n",
    "\n",
    "    dist_y = (yx - yy)**2\n",
    "\n",
    "    dxy = np.tril(np.sqrt(dist_x + dist_y)) \n",
    "\n",
    "    ### Matrix of the difference between values\n",
    "\n",
    "    xv,yv = np.meshgrid(df[\"rswl\"].to_numpy(), \n",
    "                        df[\"rswl\"].to_numpy())\n",
    "\n",
    "    dkv = np.tril(np.sqrt((xv-yv)**2)/2)\n",
    "    #print(dkv[0:3, 0:3])\n",
    "\n",
    "    ### Filter non-zero values and flatten array\n",
    "\n",
    "    mask = np.nonzero(dxy*dkv) # All values in dxy and dkv that are not zero \n",
    "    dxy_masked = dxy[mask]\n",
    "    dkv_masked = dkv[mask]\n",
    "\n",
    "    ### Sort arrays (together)\n",
    "\n",
    "    sort_ix = dxy_masked.argsort()\n",
    "    dxy_sort = dxy_masked[sort_ix]\n",
    "    dkv_sort = dkv_masked[sort_ix]\n",
    "    ssz = int(dxy_masked.size/nbin)\n",
    "\n",
    "    ### Create x and y values for semivariogram\n",
    "\n",
    "    L,x,y = [0.],[],[]\n",
    "    for i in range(int(len(dxy_sort)/ssz)):\n",
    "\n",
    "        x_all = dxy_sort[i*ssz:(i+1)*ssz]    \n",
    "        y_all = dkv_sort[i*ssz:(i+1)*ssz]\n",
    "\n",
    "        x.append( np.sum(x_all)/len(x_all) )\n",
    "        y.append( np.sum(y_all)/len(y_all) )\n",
    "        L.append( x_all[-1] )\n",
    "\n",
    "    x,y = np.array(x),np.array(y)\n",
    "\n",
    "    return x, y, ssz, L"
   ]
  },
  {
   "cell_type": "markdown",
   "id": "422acbd3",
   "metadata": {},
   "source": [
    "### Make the variogram by running the function"
   ]
  },
  {
   "cell_type": "code",
   "execution_count": 43,
   "id": "2366e796",
   "metadata": {},
   "outputs": [],
   "source": [
    "nbin = 100\n",
    "x_wt, y_wt, ssz_wt, L_wt = make_variogram_wells(well_summary_gdf_ss_a1, nbin)"
   ]
  },
  {
   "cell_type": "markdown",
   "id": "ba31eb81",
   "metadata": {},
   "source": [
    "## Calculate the variance\n",
    "\n",
    "This equals the sill - past this there should be no correlation"
   ]
  },
  {
   "cell_type": "code",
   "execution_count": 47,
   "id": "a3cc0f1f",
   "metadata": {},
   "outputs": [
    {
     "name": "stdout",
     "output_type": "stream",
     "text": [
      "3619.6227852880465\n"
     ]
    }
   ],
   "source": [
    "variance = np.var(well_summary_gdf_ss_a1.rswl)\n",
    "print(variance)"
   ]
  },
  {
   "cell_type": "markdown",
   "id": "49ef1a50",
   "metadata": {},
   "source": [
    "### Plot the experimental variogram\n"
   ]
  },
  {
   "cell_type": "code",
   "execution_count": 45,
   "id": "24847199",
   "metadata": {},
   "outputs": [
    {
     "data": {
      "image/png": "[encoded data removed]",
      "text/plain": [
       "<Figure size 453.543x226.772 with 2 Axes>"
      ]
     },
     "metadata": {
      "needs_background": "light"
     },
     "output_type": "display_data"
    }
   ],
   "source": [
    "x = x_wt\n",
    "y = y_wt\n",
    "ssz = ssz_wt\n",
    "L = L_wt\n",
    "\n",
    "figx = 16.\n",
    "f = plt.figure( figsize=[figx/2.54, figx/2.54/2.00] )\n",
    "s = f.add_subplot(1,1,1)\n",
    "s.xaxis.set_ticks_position('bottom')\n",
    "s.yaxis.set_ticks_position('left')\n",
    "\n",
    "# Plot semi-variance\n",
    "s.plot( x, y, 'o-', c='k', ms=2, mec='k', mfc='k' )\n",
    "\n",
    "# Plot autocorrelation, COVATIANCE FUNCTIO\n",
    "# BUT NOTE THAT THIS IS ASSUMING STATIONARITY - NOT SURE THAT I SHOULD BOTHER PLOTTING COVARIANCE.\n",
    "#s2 = s.twinx()\n",
    "s2.plot( x, 1.-(y/np.var(y)), 'o-', c='b', ms=2, mec='b', mfc='b' )\n",
    "\n",
    "# Plot set up\n",
    "s.xaxis.grid(color='k', linestyle='-', lw=0.2)\n",
    "s.set_xlim( -.001, L[-1]+0.001 ) \n",
    "s.set_xlabel('Lag distance (m)')\n",
    "s.set_ylabel('Semivariance (${\\gamma}$)', color='k')\n",
    "\n",
    "s2.set_ylabel('Autocorrelation', color='b')\n",
    "\n",
    "plt.savefig(os.path.join(figures_directory, \"exp_variogram\"))"
   ]
  },
  {
   "cell_type": "markdown",
   "id": "6eaca8b3",
   "metadata": {},
   "source": [
    "## Model the theoretical variogram\n",
    "\n",
    "Need to know variogram for all possible lags, distances and directions.\n",
    "We can incorporate additional geological knowledge at this point.\n",
    "The variogram model must be positive definite.\n",
    "\n",
    "This variogram will be used as the basis for kriging. \n",
    "\n",
    "What is the nugget effect? Minor variation (smaller than spacing between points). Could be attributed to measurement error. \n",
    "\n",
    "Spherical: (add plot). Commonly used. Need parameter to describe the range. "
   ]
  },
  {
   "cell_type": "code",
   "execution_count": null,
   "id": "c44b21b3",
   "metadata": {},
   "outputs": [],
   "source": []
  }
 ],
 "metadata": {
  "kernelspec": {
   "display_name": "Python 3",
   "language": "python",
   "name": "python3"
  },
  "language_info": {
   "codemirror_mode": {
    "name": "ipython",
    "version": 3
   },
   "file_extension": ".py",
   "mimetype": "text/x-python",
   "name": "python",
   "nbconvert_exporter": "python",
   "pygments_lexer": "ipython3",
   "version": "3.6.13"
  }
 },
 "nbformat": 4,
 "nbformat_minor": 5
}
