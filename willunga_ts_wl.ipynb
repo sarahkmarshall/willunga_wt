{
 "cells": [
  {
   "cell_type": "markdown",
   "id": "173c4b31",
   "metadata": {},
   "source": [
    "# Aims of this script\n",
    "\n",
    "1. Time-series visualisation of water levels\n",
    "2. Calculating single value to use for interpolation approach\n",
    "3. Any other time series analysis"
   ]
  },
  {
   "cell_type": "code",
   "execution_count": 1,
   "id": "74f62239",
   "metadata": {},
   "outputs": [],
   "source": [
    "import os\n",
    "import numpy as np\n",
    "import matplotlib.pyplot as plt\n",
    "import pandas as pd\n",
    "import geopandas as gpd\n",
    "from shapely.geometry import Point"
   ]
  },
  {
   "cell_type": "code",
   "execution_count": 2,
   "id": "b7a9b642",
   "metadata": {},
   "outputs": [],
   "source": [
    "figures_directory = r'C:\\Users\\mar886\\WaterTableProject\\Willunga\\willunga_wt\\figures'"
   ]
  },
  {
   "cell_type": "markdown",
   "id": "db71b1d9",
   "metadata": {},
   "source": [
    "## Set up data"
   ]
  },
  {
   "cell_type": "code",
   "execution_count": 54,
   "id": "d05ecff0",
   "metadata": {},
   "outputs": [],
   "source": [
    "SAWaCoFolder = r'C:\\Users\\mar886\\WaterTableProject\\Willunga\\willunga_wt\\input_data\\McLaren_SAWaterConnect'\n",
    "constr_details_df = pd.read_csv(os.path.join(SAWaCoFolder, 'constructiondetails.csv'))\n",
    "water_level_df = pd.read_csv(os.path.join(SAWaCoFolder, 'waterlevel.csv'))\n",
    "well_summary_df = pd.read_csv(os.path.join(SAWaCoFolder, 'wellsummary.csv'))\n",
    "\n",
    "outputdatapath = r'C:\\Users\\mar886\\WaterTableProject\\Willunga\\willunga_wt\\output_data'"
   ]
  },
  {
   "cell_type": "markdown",
   "id": "37e7daaf",
   "metadata": {},
   "source": [
    "## Have a look at the well summary data and change index"
   ]
  },
  {
   "cell_type": "code",
   "execution_count": 4,
   "id": "945c0d72",
   "metadata": {},
   "outputs": [
    {
     "name": "stdout",
     "output_type": "stream",
     "text": [
      "Index(['DHNO', 'Unit_No', 'Unit_Number', 'dh_name', 'network', 'Obs_No',\n",
      "       'drillhole_class', 'water_point_type_code', 'Aquifer',\n",
      "       'Orig_drilled_depth', 'Orig_drilled_date', 'max_drill_depth',\n",
      "       'max_drill_date', 'late_open_depth', 'late_open_date', 'late_permit_no',\n",
      "       'cased_to', 'case_min_diam', 'purpose', 'latest_status',\n",
      "       'latest_status_date', 'dtw', 'swl', 'rswl', 'water_level_date', 'TDS',\n",
      "       'EC', 'salinity_date', 'pH', 'pH_date', 'yield', 'yield_date',\n",
      "       'mga_easting', 'mga_northing', 'mga_zone', 'long_degrees',\n",
      "       'long_minutes', 'long_seconds', 'lat_degrees', 'lat_minutes',\n",
      "       'lat_seconds', 'decimal_long', 'decimal_lat', 'neg_decimal_lat',\n",
      "       'hundred', 'plan', 'parcel', 'Title', 'map_250k', 'map_100k', 'map_50k',\n",
      "       'map_10k', 'map_2_5k', 'map_1k', 'water_info', 'salinity',\n",
      "       'water_chemistry', 'geophys_log', 'drill_log', 'lith_log'],\n",
      "      dtype='object')\n",
      "Int64Index([ 26532,  26542,  26547,  26548,  26558,  26565,  26567,  26568,\n",
      "             26585,  26588,\n",
      "            ...\n",
      "            190885, 195701, 196280, 196571, 196608, 196609, 200676, 200677,\n",
      "            200678, 200679],\n",
      "           dtype='int64', name='DHNO', length=148)\n"
     ]
    }
   ],
   "source": [
    "well_summary_df.head(2)\n",
    "print(well_summary_df.columns)\n",
    "well_summary_df.index = well_summary_df.DHNO\n",
    "print(well_summary_df.index)"
   ]
  },
  {
   "cell_type": "markdown",
   "id": "8276404a",
   "metadata": {},
   "source": [
    "## Make the well summary into a geodataframe \n",
    "\n",
    "This allows for spatial plotting"
   ]
  },
  {
   "cell_type": "code",
   "execution_count": 5,
   "id": "ed7f9c3d",
   "metadata": {},
   "outputs": [
    {
     "name": "stderr",
     "output_type": "stream",
     "text": [
      "C:\\Users\\mar886\\Anaconda3\\envs\\geo_env\\lib\\site-packages\\pandas\\core\\dtypes\\cast.py:118: ShapelyDeprecationWarning: The array interface is deprecated and will no longer work in Shapely 2.0. Convert the '.coords' to a numpy array instead.\n",
      "  arr = construct_1d_object_array_from_listlike(values)\n"
     ]
    }
   ],
   "source": [
    "well_summary_df[\"geometry\"] = [Point(x, y) for x, y in zip(well_summary_df.mga_easting, well_summary_df.mga_northing)]\n",
    "\n",
    "well_summary_gdf = gpd.GeoDataFrame(well_summary_df, geometry='geometry', crs= 'epsg:32754')\n",
    "\n",
    "#print(well_summary_gdf.head(2))"
   ]
  },
  {
   "cell_type": "markdown",
   "id": "07d41a70",
   "metadata": {},
   "source": [
    "## Have a look at the water level data and change the index \n",
    "\n",
    "Also change the format of the date time column for time-series analysis"
   ]
  },
  {
   "cell_type": "code",
   "execution_count": 6,
   "id": "9c1e17eb",
   "metadata": {},
   "outputs": [
    {
     "name": "stdout",
     "output_type": "stream",
     "text": [
      "Int64Index([ 26532,  26532,  26532,  26532,  26532,  26532,  26532,  26532,\n",
      "             26532,  26532,\n",
      "            ...\n",
      "            200678, 200678, 200678, 200678, 200678, 200678, 200678, 200678,\n",
      "            200678, 200679],\n",
      "           dtype='int64', name='DHNO', length=24347)\n"
     ]
    }
   ],
   "source": [
    "water_level_df.head(1)\n",
    "\n",
    "water_level_df.index = water_level_df.DHNO\n",
    "\n",
    "print(water_level_df.index)\n",
    "\n",
    "water_level_df[\"Datetime\"] = pd.to_datetime(water_level_df[\"obs_date\"])\n",
    "#print(water_level_df[\"Datetime\"])"
   ]
  },
  {
   "cell_type": "markdown",
   "id": "5864ed09",
   "metadata": {},
   "source": [
    "## Create plots of water levels\n",
    "\n",
    "Ensure only plotting where there are data - some of the wells there are no time series water level data available.\n",
    "\n",
    "Save the plots in the figures directory."
   ]
  },
  {
   "cell_type": "code",
   "execution_count": 7,
   "id": "ea37060c",
   "metadata": {},
   "outputs": [],
   "source": [
    "idx = well_summary_df.index[0]\n",
    "\n",
    "for idx in well_summary_df.index:\n",
    "    #print(idx)\n",
    "\n",
    "    df = water_level_df.copy()\n",
    "    df = df[df[\"DHNO\"]==idx]\n",
    "    #print(df[\"rswl\"])\n",
    "    #print(df[\"rswl\"].isnull())\n",
    "\n",
    "    if (len(df) > 0) and (sum(~df[\"rswl\"].isnull())>0):\n",
    "        #print(\"Some data exist\")\n",
    "        #print(len(df))\n",
    "        fig, axes = plt.subplots(1,1)\n",
    "        df.plot(\"Datetime\", \"rswl\", ax=axes, marker='+', ls=\"--\",\n",
    "                        markeredgecolor=\"0.1\", label = idx) \n",
    "        #ax1.set_xlim(pd.Timestamp('2014-01-01'), pd.Timestamp('2020-01-01'))\n",
    "        axes.set_ylabel(\"RSWL (m AHD)\")\n",
    "        nm = \"wl_%s\" %idx\n",
    "        plt.savefig(os.path.join(figures_directory, nm))\n",
    "        plt.close()\n",
    "    else:\n",
    "        #print(\"No data available for well: %s\" %idx)\n",
    "        pass"
   ]
  },
  {
   "cell_type": "markdown",
   "id": "3daf19d5",
   "metadata": {},
   "source": [
    "## Plot location of wells"
   ]
  },
  {
   "cell_type": "code",
   "execution_count": 8,
   "id": "12121a1c",
   "metadata": {},
   "outputs": [
    {
     "data": {
      "text/plain": [
       "Text(84.43555954403271, 0.5, 'Northing')"
      ]
     },
     "execution_count": 8,
     "metadata": {},
     "output_type": "execute_result"
    },
    {
     "data": {
      "image/png": "[encoded data removed]",
      "text/plain": [
       "<Figure size 432x288 with 2 Axes>"
      ]
     },
     "metadata": {
      "needs_background": "light"
     },
     "output_type": "display_data"
    }
   ],
   "source": [
    "well_summary_gdf.plot(column=\"rswl\", legend=True)\n",
    "plt.xlabel(\"Easting\")\n",
    "plt.ylabel(\"Northing\")"
   ]
  },
  {
   "cell_type": "markdown",
   "id": "f5db2bbb",
   "metadata": {},
   "source": [
    "## Need to change the obs date to date time format \n",
    "\n",
    "This allows me to easily select samples only at/after/between specific time periods.  \n",
    "First I need to first remove NAN values.  \n",
    "ss = \"sub-set\" this is the subset of values corresponding to the time period I choose for the map."
   ]
  },
  {
   "cell_type": "code",
   "execution_count": 9,
   "id": "3813177d",
   "metadata": {},
   "outputs": [
    {
     "name": "stdout",
     "output_type": "stream",
     "text": [
      "Number of samples including nan values:148\n",
      "Number of samples exlcuding nan values:140\n"
     ]
    }
   ],
   "source": [
    "well_summary_gdf_ss = well_summary_gdf.copy()\n",
    "\n",
    "well_summary_gdf_ss = well_summary_gdf_ss[well_summary_gdf_ss['water_level_date'].notna()]\n",
    "\n",
    "print(\"Number of samples including nan values:\" + str(len(well_summary_gdf)))\n",
    "print(\"Number of samples exlcuding nan values:\" + str(len(well_summary_gdf_ss)))\n",
    "\n",
    "well_summary_gdf_ss[\"Datetime\"] = pd.to_datetime(well_summary_gdf_ss[\"water_level_date\"])"
   ]
  },
  {
   "cell_type": "markdown",
   "id": "214f6337",
   "metadata": {},
   "source": [
    "## Only get dates that are this year - so that they are consistent\n"
   ]
  },
  {
   "cell_type": "code",
   "execution_count": 57,
   "id": "bce5122d",
   "metadata": {},
   "outputs": [
    {
     "name": "stdout",
     "output_type": "stream",
     "text": [
      "Total number of measurements, any time period 85\n",
      "Number of measurements after 2021-01-01: 85\n"
     ]
    }
   ],
   "source": [
    "startdate = '2021-01-01 00:00:00'\n",
    "\n",
    "print(\"Total number of measurements, any time period %i\" %(len(well_summary_gdf_ss)))\n",
    "well_summary_gdf_ss = well_summary_gdf_ss[well_summary_gdf_ss['Datetime'] > startdate]\n",
    "print(\"Number of measurements after %s: %i\" %(startdate[0:10], len(well_summary_gdf_ss)))"
   ]
  },
  {
   "cell_type": "markdown",
   "id": "1357ba98",
   "metadata": {},
   "source": [
    "## Filter out empty values that don't have a rswl"
   ]
  },
  {
   "cell_type": "code",
   "execution_count": 67,
   "id": "bf9a15d6",
   "metadata": {},
   "outputs": [
    {
     "name": "stdout",
     "output_type": "stream",
     "text": [
      "Number of measurements after 2021-01-01 & with a rswl measurement: 81\n"
     ]
    }
   ],
   "source": [
    "well_summary_gdf_ss = well_summary_gdf_ss[well_summary_gdf_ss['rswl'].isnull() == False]\n",
    "\n",
    "print(\"Number of measurements after %s & with a rswl measurement: %i\" %(startdate[0:10], len(well_summary_gdf_ss)))"
   ]
  },
  {
   "cell_type": "markdown",
   "id": "73c7ad90",
   "metadata": {},
   "source": [
    "### Plot the location of wells in 2021 with data for rswl"
   ]
  },
  {
   "cell_type": "code",
   "execution_count": 70,
   "id": "edf9c0a0",
   "metadata": {},
   "outputs": [
    {
     "data": {
      "text/plain": [
       "<AxesSubplot:>"
      ]
     },
     "execution_count": 70,
     "metadata": {},
     "output_type": "execute_result"
    },
    {
     "data": {
      "image/png": "[encoded data removed]",
      "text/plain": [
       "<Figure size 432x288 with 2 Axes>"
      ]
     },
     "metadata": {
      "needs_background": "light"
     },
     "output_type": "display_data"
    }
   ],
   "source": [
    "well_summary_gdf_ss.plot(column=\"rswl\", legend=True)"
   ]
  },
  {
   "cell_type": "markdown",
   "id": "8e276299",
   "metadata": {},
   "source": [
    "### Export this dataframe for future reference"
   ]
  },
  {
   "cell_type": "code",
   "execution_count": 71,
   "id": "36e1b0fc",
   "metadata": {},
   "outputs": [],
   "source": [
    "well_summary_gdf_ss.to_csv(os.path.join(outputdatapath, \"well_summary_gdf_ss.csv\"))"
   ]
  },
  {
   "cell_type": "markdown",
   "id": "73660f57",
   "metadata": {},
   "source": [
    "## Create experimental variogram\n",
    "\n",
    "This is going to be to help us to do some form of interpolation with the data."
   ]
  },
  {
   "cell_type": "markdown",
   "id": "5ae7f5aa",
   "metadata": {},
   "source": [
    "### Define the function"
   ]
  },
  {
   "cell_type": "code",
   "execution_count": 80,
   "id": "06c92eca",
   "metadata": {},
   "outputs": [],
   "source": [
    "def make_variogram_wells(df, nbin):\n",
    "\n",
    "    ### Matrix of the difference between distances \n",
    "\n",
    "    xx, xy = np.meshgrid(df[\"mga_easting\"].to_numpy(), \n",
    "                        df[\"mga_easting\"].to_numpy())\n",
    "\n",
    "    dist_x = (xx - xy)**2\n",
    "\n",
    "    #print(dist_x[:10, :10])\n",
    "\n",
    "\n",
    "    yx, yy = np.meshgrid(df[\"mga_northing\"].to_numpy(), \n",
    "                        df[\"mga_northing\"].to_numpy())\n",
    "\n",
    "    dist_y = (yx - yy)**2\n",
    "\n",
    "    dxy = np.tril(np.sqrt(dist_x + dist_y)) \n",
    "\n",
    "    ### Matrix of the difference between values\n",
    "\n",
    "    xv,yv = np.meshgrid(df[\"rswl\"].to_numpy(), \n",
    "                        df[\"rswl\"].to_numpy())\n",
    "\n",
    "    dkv = np.tril(np.sqrt((xv-yv)**2)/2)\n",
    "    #print(dkv[0:3, 0:3])\n",
    "\n",
    "    ### Filter non-zero values and flatten array\n",
    "\n",
    "    mask = np.nonzero(dxy*dkv) # All values in dxy and dkv that are not zero \n",
    "    dxy_masked = dxy[mask]\n",
    "    dkv_masked = dkv[mask]\n",
    "\n",
    "    ### Sort arrays (together)\n",
    "\n",
    "    sort_ix = dxy_masked.argsort()\n",
    "    dxy_sort = dxy_masked[sort_ix]\n",
    "    dkv_sort = dkv_masked[sort_ix]\n",
    "    ssz = int(dxy_masked.size/nbin)\n",
    "\n",
    "    ### Create x and y values for semivariogram\n",
    "\n",
    "    L,x,y = [0.],[],[]\n",
    "    for i in range(int(len(dxy_sort)/ssz)):\n",
    "\n",
    "        x_all = dxy_sort[i*ssz:(i+1)*ssz]    \n",
    "        y_all = dkv_sort[i*ssz:(i+1)*ssz]\n",
    "\n",
    "        x.append( np.sum(x_all)/len(x_all) )\n",
    "        y.append( np.sum(y_all)/len(y_all) )\n",
    "        L.append( x_all[-1] )\n",
    "\n",
    "    x,y = np.array(x),np.array(y)\n",
    "\n",
    "    return x, y, ssz, L"
   ]
  },
  {
   "cell_type": "markdown",
   "id": "422acbd3",
   "metadata": {},
   "source": [
    "### Make the variogram by running the function"
   ]
  },
  {
   "cell_type": "code",
   "execution_count": 81,
   "id": "2366e796",
   "metadata": {},
   "outputs": [],
   "source": [
    "nbin = 100\n",
    "x_wt, y_wt, ssz_wt, L_wt = make_variogram_wells(well_summary_gdf_ss, nbin)"
   ]
  },
  {
   "cell_type": "markdown",
   "id": "49ef1a50",
   "metadata": {},
   "source": [
    "### Plot the \"real\" variogram\n"
   ]
  },
  {
   "cell_type": "code",
   "execution_count": 84,
   "id": "24847199",
   "metadata": {},
   "outputs": [
    {
     "data": {
      "image/png": "[encoded data removed]",
      "text/plain": [
       "<Figure size 453.543x226.772 with 2 Axes>"
      ]
     },
     "metadata": {
      "needs_background": "light"
     },
     "output_type": "display_data"
    }
   ],
   "source": [
    "x = x_wt\n",
    "y = y_wt\n",
    "ssz = ssz_wt\n",
    "L = L_wt\n",
    "\n",
    "figx = 16.\n",
    "f = plt.figure( figsize=[figx/2.54, figx/2.54/2.00] )\n",
    "s = f.add_subplot(1,1,1)\n",
    "s.xaxis.set_ticks_position('bottom')\n",
    "s.yaxis.set_ticks_position('left')\n",
    "\n",
    "# Plot semi-variance\n",
    "s.plot( x, y, 'o-', c='k', ms=2, mec='k', mfc='k' )\n",
    "\n",
    "# Plot autocorrelation\n",
    "s2 = s.twinx()\n",
    "s2.plot( x, 1.-(y/np.var(y)), 'o-', c='b', ms=2, mec='b', mfc='b' )\n",
    "\n",
    "# Plot set up\n",
    "s.xaxis.grid(color='k', linestyle='-', lw=0.2)\n",
    "s.set_xlim( -.001, L[-1]+0.001 ) \n",
    "s.set_xlabel('Lag distance (km)')\n",
    "s.set_ylabel('Semivariance (${\\gamma}$)', color='r')\n",
    "\n",
    "s2.set_ylabel('Autocorrelation', color='b')\n",
    "\n",
    "plt.savefig(os.path.join(figures_directory, \"exp_variogram\"))"
   ]
  },
  {
   "cell_type": "markdown",
   "id": "53e0c830",
   "metadata": {},
   "source": [
    "# Below = MESSY/SCRAPPY"
   ]
  },
  {
   "cell_type": "code",
   "execution_count": 33,
   "id": "2bbc9f58",
   "metadata": {},
   "outputs": [
    {
     "name": "stdout",
     "output_type": "stream",
     "text": [
      "False\n"
     ]
    }
   ],
   "source": [
    "well_summary_gdf['water_level_date']\n",
    "\n",
    "well_summary_gdf_ss = well_summary_gdf.copy()\n",
    "\n",
    "for ix in well_summary_gdf_ss.index:\n",
    "    obs_date = well_summary_gdf_ss.loc[ix, 'water_level_date']\n",
    "    #print(obs_date)\n",
    "    #print(type(obs_date))\n",
    "    #print(pd.isna(obs_date))\n",
    "    \n",
    "print(pd.isna('nan'))"
   ]
  }
 ],
 "metadata": {
  "kernelspec": {
   "display_name": "Python 3 (ipykernel)",
   "language": "python",
   "name": "python3"
  },
  "language_info": {
   "codemirror_mode": {
    "name": "ipython",
    "version": 3
   },
   "file_extension": ".py",
   "mimetype": "text/x-python",
   "name": "python",
   "nbconvert_exporter": "python",
   "pygments_lexer": "ipython3",
   "version": "3.9.7"
  }
 },
 "nbformat": 4,
 "nbformat_minor": 5
}
