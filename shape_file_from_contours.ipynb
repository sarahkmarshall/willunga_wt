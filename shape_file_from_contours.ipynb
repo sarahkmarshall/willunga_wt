{
 "cells": [
  {
   "cell_type": "code",
   "execution_count": 1,
   "id": "4ee3c211",
   "metadata": {},
   "outputs": [],
   "source": [
    "from __future__ import division\n",
    "\n",
    "import affine\n",
    "import contextily\n",
    "import fiona\n",
    "import geopandas as gpd\n",
    "\n",
    "import matplotlib as mpl\n",
    "from matplotlib.colors import LinearSegmentedColormap\n",
    "import matplotlib.pyplot as plt\n",
    "from matplotlib.patches import Patch\n",
    "from matplotlib.ticker import FormatStrFormatter\n",
    "from matplotlib.pyplot import cm                        # color maps\n",
    "from matplotlib.patches import Ellipse                  # plot an ellipse\n",
    "\n",
    "import os\n",
    "import numpy as np\n",
    "import pyproj\n",
    "import pandas as pd\n",
    "\n",
    "import rasterio \n",
    "from rasterio.crs import CRS\n",
    "from rasterio.enums import Resampling\n",
    "from rasterio.features import rasterize\n",
    "import rasterio.mask\n",
    "from rasterio.plot import show\n",
    "from rasterio.transform import from_bounds\n",
    "from rasterio import shutil as rio_shutil\n",
    "from rasterio.vrt import WarpedVRT\n",
    "from rasterio import Affine\n",
    "\n",
    "from requests import Request\n",
    "\n",
    "from scipy.interpolate import interpn\n",
    "from scipy.interpolate import griddata\n",
    "from scipy import stats\n",
    "from scipy.stats import norm\n",
    "from scipy.spatial import Delaunay, ConvexHull\n",
    "from scipy.spatial.distance import cdist\n",
    "\n",
    "import sys\n",
    "import shapely\n",
    "from shapely.geometry import Point\n",
    "from shapely.geometry import mapping, Polygon\n",
    "\n",
    "from owslib.wcs import WebCoverageService\n",
    "\n"
   ]
  },
  {
   "cell_type": "code",
   "execution_count": 39,
   "id": "f9d0bc68",
   "metadata": {},
   "outputs": [
    {
     "name": "stdout",
     "output_type": "stream",
     "text": [
      "ref_GH_01_contours.shp\n"
     ]
    }
   ],
   "source": [
    "name = 'GH_01'\n",
    "\n",
    "shapefilename = \"ref_%s_contours.shp\"%name\n",
    "print(shapefilename)\n",
    "\n",
    "wt_contour_fldr = os.path.join(r'C:\\Users\\mar886\\WaterTableProject\\Willunga\\willunga_wt\\output_data\\wt_drawn_contours',\n",
    "                              shapefilename)\n",
    "wt_contour = gpd.read_file(wt_contour_fldr)\n",
    "\n",
    "crs_wt_contours = 'epsg:4283'"
   ]
  },
  {
   "cell_type": "code",
   "execution_count": 40,
   "id": "a50d2a68",
   "metadata": {},
   "outputs": [
    {
     "data": {
      "text/plain": [
       "<AxesSubplot:>"
      ]
     },
     "execution_count": 40,
     "metadata": {},
     "output_type": "execute_result"
    },
    {
     "data": {
      "image/png": "[encoded data removed]",
      "text/plain": [
       "<Figure size 432x288 with 1 Axes>"
      ]
     },
     "metadata": {
      "needs_background": "light"
     },
     "output_type": "display_data"
    }
   ],
   "source": [
    "fig, ax = plt.subplots(1,1)\n",
    "wt_contour.plot(ax=ax, color=\"k\", alpha=0.5, linewidth=0.5, label=\"All watertable contours\")\n",
    "wt_contour.convex_hull.plot(ax=ax, color=\"green\")\n",
    "wt_contour.boundary.plot(ax=ax)\n"
   ]
  },
  {
   "cell_type": "markdown",
   "id": "1cf76e65",
   "metadata": {},
   "source": [
    "The issue is that it is seeing them all as separate shapefiles I want them all together"
   ]
  },
  {
   "cell_type": "markdown",
   "id": "4c4f38b3",
   "metadata": {},
   "source": [
    "### Create a multi-linestring"
   ]
  },
  {
   "cell_type": "code",
   "execution_count": 41,
   "id": "428b3190",
   "metadata": {},
   "outputs": [
    {
     "name": "stdout",
     "output_type": "stream",
     "text": [
      "<class 'shapely.geometry.multilinestring.MultiLineString'>\n"
     ]
    }
   ],
   "source": [
    "list_of_strings = []\n",
    "for i in range(len(wt_contour.geometry)):\n",
    "    list_of_strings.append(wt_contour.geometry[i])\n",
    "    \n",
    "list_of_strings\n",
    "\n",
    "multlinestring = shapely.geometry.MultiLineString(list_of_strings)\n",
    "print(type(multlinestring))"
   ]
  },
  {
   "cell_type": "code",
   "execution_count": 42,
   "id": "0934cfc8",
   "metadata": {},
   "outputs": [],
   "source": [
    "multlinestring.convex_hull\n",
    "\n",
    "sa_df = pd.DataFrame()\n",
    "sa_df[\"geometry\"] = [multlinestring.convex_hull]\n",
    "sa_gdf = gpd.GeoDataFrame(sa_df, geometry='geometry', crs=crs_wt_contours)"
   ]
  },
  {
   "cell_type": "code",
   "execution_count": 43,
   "id": "5473899a",
   "metadata": {},
   "outputs": [
    {
     "name": "stdout",
     "output_type": "stream",
     "text": [
      "Study area gdf type is: <class 'geopandas.geodataframe.GeoDataFrame'> \n",
      "Water table contour crs: epsg:4283\n",
      "Study are crs: epsg:4283\n"
     ]
    }
   ],
   "source": [
    "print(\"Study area gdf type is: %s \" % type(sa_gdf))\n",
    "print(\"Water table contour crs: %s\" %wt_contour.crs)\n",
    "print(\"Study are crs: %s\" %sa_gdf.crs)"
   ]
  },
  {
   "cell_type": "code",
   "execution_count": 44,
   "id": "8827a5c9",
   "metadata": {},
   "outputs": [
    {
     "name": "stdout",
     "output_type": "stream",
     "text": [
      "studyarea_GH_01.shp\n"
     ]
    }
   ],
   "source": [
    "studyareashapefilename = \"studyarea_%s.shp\"%name\n",
    "print(studyareashapefilename)"
   ]
  },
  {
   "cell_type": "code",
   "execution_count": 45,
   "id": "2167bea7",
   "metadata": {},
   "outputs": [],
   "source": [
    "sa_gdf.to_file(os.path.join(r'C:\\Users\\mar886\\WaterTableProject\\Willunga\\willunga_wt\\output_data\\raster_shapes', \n",
    "                            studyareashapefilename))"
   ]
  }
 ],
 "metadata": {
  "kernelspec": {
   "display_name": "Python 3 (ipykernel)",
   "language": "python",
   "name": "python3"
  },
  "language_info": {
   "codemirror_mode": {
    "name": "ipython",
    "version": 3
   },
   "file_extension": ".py",
   "mimetype": "text/x-python",
   "name": "python",
   "nbconvert_exporter": "python",
   "pygments_lexer": "ipython3",
   "version": "3.9.7"
  }
 },
 "nbformat": 4,
 "nbformat_minor": 5
}
