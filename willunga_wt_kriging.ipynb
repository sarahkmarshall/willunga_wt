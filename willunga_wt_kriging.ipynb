{
 "cells": [
  {
   "cell_type": "code",
   "execution_count": 1,
   "id": "3532c174",
   "metadata": {},
   "outputs": [],
   "source": [
    "import geopandas as gpd\n",
    "import pandas as pd\n",
    "import numpy as np\n",
    "import matplotlib.pyplot as plt\n",
    "import os\n",
    "from scipy.spatial import Delaunay, ConvexHull\n",
    "from scipy.spatial.distance import cdist"
   ]
  },
  {
   "cell_type": "markdown",
   "id": "ad2917f1",
   "metadata": {},
   "source": [
    "Load the data"
   ]
  },
  {
   "cell_type": "code",
   "execution_count": 2,
   "id": "26aa4572",
   "metadata": {},
   "outputs": [
    {
     "data": {
      "text/html": [
       "<div>\n",
       "<style scoped>\n",
       "    .dataframe tbody tr th:only-of-type {\n",
       "        vertical-align: middle;\n",
       "    }\n",
       "\n",
       "    .dataframe tbody tr th {\n",
       "        vertical-align: top;\n",
       "    }\n",
       "\n",
       "    .dataframe thead th {\n",
       "        text-align: right;\n",
       "    }\n",
       "</style>\n",
       "<table border=\"1\" class=\"dataframe\">\n",
       "  <thead>\n",
       "    <tr style=\"text-align: right;\">\n",
       "      <th></th>\n",
       "      <th>DHNO</th>\n",
       "      <th>DHNO.1</th>\n",
       "      <th>Unit_No</th>\n",
       "      <th>Unit_Number</th>\n",
       "      <th>dh_name</th>\n",
       "      <th>network</th>\n",
       "      <th>Obs_No</th>\n",
       "      <th>drillhole_class</th>\n",
       "      <th>water_point_type_code</th>\n",
       "      <th>Aquifer</th>\n",
       "      <th>...</th>\n",
       "      <th>map_2_5k</th>\n",
       "      <th>map_1k</th>\n",
       "      <th>water_info</th>\n",
       "      <th>salinity</th>\n",
       "      <th>water_chemistry</th>\n",
       "      <th>geophys_log</th>\n",
       "      <th>drill_log</th>\n",
       "      <th>lith_log</th>\n",
       "      <th>geometry</th>\n",
       "      <th>Datetime</th>\n",
       "    </tr>\n",
       "  </thead>\n",
       "  <tbody>\n",
       "    <tr>\n",
       "      <th>0</th>\n",
       "      <td>26558</td>\n",
       "      <td>26558</td>\n",
       "      <td>6527-562</td>\n",
       "      <td>652700562</td>\n",
       "      <td>WLG 40</td>\n",
       "      <td>MCL_VALE</td>\n",
       "      <td>WLG040</td>\n",
       "      <td>WW</td>\n",
       "      <td>NaN</td>\n",
       "      <td>Te2</td>\n",
       "      <td>...</td>\n",
       "      <td>l</td>\n",
       "      <td>2</td>\n",
       "      <td>Y</td>\n",
       "      <td>Y</td>\n",
       "      <td>Y</td>\n",
       "      <td>Y</td>\n",
       "      <td>Y</td>\n",
       "      <td>Y</td>\n",
       "      <td>POINT (268941.81 6093083.52)</td>\n",
       "      <td>2021-08-09</td>\n",
       "    </tr>\n",
       "    <tr>\n",
       "      <th>1</th>\n",
       "      <td>26565</td>\n",
       "      <td>26565</td>\n",
       "      <td>6527-569</td>\n",
       "      <td>652700569</td>\n",
       "      <td>NaN</td>\n",
       "      <td>MCL_VALE</td>\n",
       "      <td>WLG044</td>\n",
       "      <td>WW</td>\n",
       "      <td>NaN</td>\n",
       "      <td>Te2</td>\n",
       "      <td>...</td>\n",
       "      <td>d</td>\n",
       "      <td>1</td>\n",
       "      <td>Y</td>\n",
       "      <td>Y</td>\n",
       "      <td>Y</td>\n",
       "      <td>Y</td>\n",
       "      <td>Y</td>\n",
       "      <td>Y</td>\n",
       "      <td>POINT (270906.82 6096136.56)</td>\n",
       "      <td>2021-10-09</td>\n",
       "    </tr>\n",
       "    <tr>\n",
       "      <th>2</th>\n",
       "      <td>26585</td>\n",
       "      <td>26585</td>\n",
       "      <td>6527-589</td>\n",
       "      <td>652700589</td>\n",
       "      <td>NaN</td>\n",
       "      <td>MCL_VALE</td>\n",
       "      <td>WLG019</td>\n",
       "      <td>WW</td>\n",
       "      <td>NaN</td>\n",
       "      <td>Qpa</td>\n",
       "      <td>...</td>\n",
       "      <td>n</td>\n",
       "      <td>3</td>\n",
       "      <td>Y</td>\n",
       "      <td>Y</td>\n",
       "      <td>N</td>\n",
       "      <td>Y</td>\n",
       "      <td>N</td>\n",
       "      <td>N</td>\n",
       "      <td>POINT (272506.29 6097255.78)</td>\n",
       "      <td>2021-10-09</td>\n",
       "    </tr>\n",
       "    <tr>\n",
       "      <th>3</th>\n",
       "      <td>27050</td>\n",
       "      <td>27050</td>\n",
       "      <td>6527-1054</td>\n",
       "      <td>652701054</td>\n",
       "      <td>MAR SITE 12</td>\n",
       "      <td>MCL_VALE</td>\n",
       "      <td>WLG049</td>\n",
       "      <td>WW</td>\n",
       "      <td>NaN</td>\n",
       "      <td>Tomw</td>\n",
       "      <td>...</td>\n",
       "      <td>n</td>\n",
       "      <td>3</td>\n",
       "      <td>Y</td>\n",
       "      <td>Y</td>\n",
       "      <td>Y</td>\n",
       "      <td>N</td>\n",
       "      <td>Y</td>\n",
       "      <td>N</td>\n",
       "      <td>POINT (271897.13 6092138.11)</td>\n",
       "      <td>2021-11-19</td>\n",
       "    </tr>\n",
       "    <tr>\n",
       "      <th>4</th>\n",
       "      <td>27063</td>\n",
       "      <td>27063</td>\n",
       "      <td>6527-1067</td>\n",
       "      <td>652701067</td>\n",
       "      <td>NaN</td>\n",
       "      <td>MCL_VALE</td>\n",
       "      <td>WLG057</td>\n",
       "      <td>WW</td>\n",
       "      <td>NaN</td>\n",
       "      <td>Qpa</td>\n",
       "      <td>...</td>\n",
       "      <td>d</td>\n",
       "      <td>6</td>\n",
       "      <td>Y</td>\n",
       "      <td>Y</td>\n",
       "      <td>Y</td>\n",
       "      <td>Y</td>\n",
       "      <td>Y</td>\n",
       "      <td>Y</td>\n",
       "      <td>POINT (270438.32 6089954.64)</td>\n",
       "      <td>2021-10-09</td>\n",
       "    </tr>\n",
       "  </tbody>\n",
       "</table>\n",
       "<p>5 rows × 63 columns</p>\n",
       "</div>"
      ],
      "text/plain": [
       "    DHNO  DHNO.1    Unit_No  Unit_Number      dh_name   network  Obs_No  \\\n",
       "0  26558   26558   6527-562    652700562       WLG 40  MCL_VALE  WLG040   \n",
       "1  26565   26565   6527-569    652700569          NaN  MCL_VALE  WLG044   \n",
       "2  26585   26585   6527-589    652700589          NaN  MCL_VALE  WLG019   \n",
       "3  27050   27050  6527-1054    652701054  MAR SITE 12  MCL_VALE  WLG049   \n",
       "4  27063   27063  6527-1067    652701067          NaN  MCL_VALE  WLG057   \n",
       "\n",
       "  drillhole_class  water_point_type_code Aquifer  ...  map_2_5k map_1k  \\\n",
       "0              WW                    NaN     Te2  ...         l      2   \n",
       "1              WW                    NaN     Te2  ...         d      1   \n",
       "2              WW                    NaN     Qpa  ...         n      3   \n",
       "3              WW                    NaN    Tomw  ...         n      3   \n",
       "4              WW                    NaN     Qpa  ...         d      6   \n",
       "\n",
       "   water_info salinity  water_chemistry geophys_log  drill_log  lith_log  \\\n",
       "0           Y        Y                Y           Y          Y         Y   \n",
       "1           Y        Y                Y           Y          Y         Y   \n",
       "2           Y        Y                N           Y          N         N   \n",
       "3           Y        Y                Y           N          Y         N   \n",
       "4           Y        Y                Y           Y          Y         Y   \n",
       "\n",
       "                       geometry    Datetime  \n",
       "0  POINT (268941.81 6093083.52)  2021-08-09  \n",
       "1  POINT (270906.82 6096136.56)  2021-10-09  \n",
       "2  POINT (272506.29 6097255.78)  2021-10-09  \n",
       "3  POINT (271897.13 6092138.11)  2021-11-19  \n",
       "4  POINT (270438.32 6089954.64)  2021-10-09  \n",
       "\n",
       "[5 rows x 63 columns]"
      ]
     },
     "execution_count": 2,
     "metadata": {},
     "output_type": "execute_result"
    }
   ],
   "source": [
    "outputdatapath = r'C:\\Users\\mar886\\WaterTableProject\\Willunga\\willunga_wt\\output_data'\n",
    "\n",
    "df = pd.read_csv(os.path.join(outputdatapath, \"well_summary_gdf_ss_a.csv\"))\n",
    "df.head()"
   ]
  },
  {
   "cell_type": "code",
   "execution_count": 3,
   "id": "41b68b41",
   "metadata": {},
   "outputs": [
    {
     "name": "stdout",
     "output_type": "stream",
     "text": [
      "0       4.09\n",
      "1       4.33\n",
      "2      18.22\n",
      "3       5.54\n",
      "4      15.90\n",
      "       ...  \n",
      "68    129.42\n",
      "69    184.26\n",
      "70    131.49\n",
      "71    131.85\n",
      "72    128.99\n",
      "Name: rswl, Length: 73, dtype: float64\n"
     ]
    }
   ],
   "source": [
    "df.columns\n",
    "print(df[\"rswl\"])"
   ]
  },
  {
   "cell_type": "code",
   "execution_count": 4,
   "id": "d1892df7",
   "metadata": {},
   "outputs": [
    {
     "data": {
      "text/plain": [
       "Text(0, 0.5, 'Latitude')"
      ]
     },
     "execution_count": 4,
     "metadata": {},
     "output_type": "execute_result"
    },
    {
     "data": {
      "image/png": "[encoded data removed]",
      "text/plain": [
       "<Figure size 432x288 with 2 Axes>"
      ]
     },
     "metadata": {
      "needs_background": "light"
     },
     "output_type": "display_data"
    }
   ],
   "source": [
    "fig = plt.figure()\n",
    "ax = fig.add_subplot(111)\n",
    "\n",
    "s = ax.scatter(df.decimal_long, df.neg_decimal_lat, c=df.rswl, cmap=\"coolwarm\")\n",
    "cb = plt.colorbar(s)\n",
    "cb.set_label('Water level (m)')\n",
    "\n",
    "plt.xlabel(\"Longitude\")\n",
    "plt.ylabel(\"Latitude\")"
   ]
  },
  {
   "cell_type": "code",
   "execution_count": 5,
   "id": "084602dc",
   "metadata": {},
   "outputs": [],
   "source": [
    "X = df[[\"decimal_long\", \"neg_decimal_lat\"]].values\n",
    "y = df[\"rswl\"].values"
   ]
  },
  {
   "cell_type": "markdown",
   "id": "685d691d",
   "metadata": {},
   "source": [
    "Define a grid within the hull of observed data (just a quick way to make a grid that fits within the extent of the area of interest - could use a shape file or something instead):"
   ]
  },
  {
   "cell_type": "code",
   "execution_count": 6,
   "id": "d4493aa1",
   "metadata": {},
   "outputs": [
    {
     "data": {
      "text/plain": [
       "\"\\nplt.title('Grid no mask')\\nplt.scatter(xi, yi, c='k', alpha=0.5, s=1)\\nhull = ConvexHull(X)\\nplt.plot(X[hull.vertices,0], X[hull.vertices,1], 'r--', lw=2)\\n#plt.show()\\n\""
      ]
     },
     "execution_count": 6,
     "metadata": {},
     "output_type": "execute_result"
    }
   ],
   "source": [
    "n = 50\n",
    "xi = np.linspace(X[:, 0].min(), X[:, 0].max(), n)\n",
    "yi = np.linspace(X[:, 1].min(), X[:, 1].max(), n)\n",
    "xi, yi = np.meshgrid(xi, yi)\n",
    "Xnew = np.vstack((xi.flatten(), yi.flatten())).T\n",
    "'''\n",
    "plt.title('Grid no mask')\n",
    "plt.scatter(xi, yi, c='k', alpha=0.5, s=1)\n",
    "hull = ConvexHull(X)\n",
    "plt.plot(X[hull.vertices,0], X[hull.vertices,1], 'r--', lw=2)\n",
    "#plt.show()\n",
    "'''"
   ]
  },
  {
   "cell_type": "code",
   "execution_count": 7,
   "id": "16a4c8f4",
   "metadata": {},
   "outputs": [
    {
     "name": "stdout",
     "output_type": "stream",
     "text": [
      "[False False False ... False False False]\n"
     ]
    }
   ],
   "source": [
    "mask = Delaunay(X).find_simplex(Xnew)>=0\n",
    "Xnew = Xnew[mask]\n",
    "\n",
    "print(mask)"
   ]
  },
  {
   "cell_type": "code",
   "execution_count": 8,
   "id": "e4a48b1e",
   "metadata": {},
   "outputs": [
    {
     "data": {
      "image/png": "[encoded data removed]",
      "text/plain": [
       "<Figure size 432x288 with 1 Axes>"
      ]
     },
     "metadata": {
      "needs_background": "light"
     },
     "output_type": "display_data"
    }
   ],
   "source": [
    "plt.title('Grid')\n",
    "plt.scatter(Xnew[:, 0], Xnew[:, 1], c='k', alpha=0.5, s=1)\n",
    "hull = ConvexHull(X)\n",
    "plt.plot(X[hull.vertices,0], X[hull.vertices,1], 'r--', lw=2)\n",
    "plt.show()"
   ]
  },
  {
   "cell_type": "markdown",
   "id": "f4786d8b",
   "metadata": {},
   "source": [
    "### Make grid based on shapefile"
   ]
  },
  {
   "cell_type": "code",
   "execution_count": 9,
   "id": "daf53265",
   "metadata": {},
   "outputs": [],
   "source": [
    "study_extent_file = os.path.join(outputdatapath,\n",
    "                               \"study_area_extent.shp\")\n",
    "\n",
    "study_extent_gdf = gpd.read_file(study_extent_file)"
   ]
  },
  {
   "cell_type": "code",
   "execution_count": 10,
   "id": "9874a5f0",
   "metadata": {},
   "outputs": [
    {
     "data": {
      "text/plain": [
       "<AxesSubplot:>"
      ]
     },
     "execution_count": 10,
     "metadata": {},
     "output_type": "execute_result"
    },
    {
     "data": {
      "image/png": "[encoded data removed]",
      "text/plain": [
       "<Figure size 432x288 with 1 Axes>"
      ]
     },
     "metadata": {
      "needs_background": "light"
     },
     "output_type": "display_data"
    }
   ],
   "source": [
    "study_extent_gdf.head()\n",
    "#study_extent_gdf=study_extent_gdf.to_crs('epsg:32755')\n",
    "\n",
    "study_extent_gdf.head()\n",
    "\n",
    "plt.figure()\n",
    "ax=plt.subplot(111)\n",
    "study_extent_gdf.plot(ax=ax, color=\"r\", alpha=0.5, linewidth=2, label=\"Study area\")\n"
   ]
  },
  {
   "cell_type": "code",
   "execution_count": 11,
   "id": "1eef68ac",
   "metadata": {},
   "outputs": [
    {
     "data": {
      "text/plain": [
       "array([138.44244983, -35.35049861, 138.74735324, -35.11842853])"
      ]
     },
     "execution_count": 11,
     "metadata": {},
     "output_type": "execute_result"
    }
   ],
   "source": [
    "study_extent_gdf.total_bounds"
   ]
  },
  {
   "cell_type": "code",
   "execution_count": 12,
   "id": "fe6211d4",
   "metadata": {},
   "outputs": [
    {
     "data": {
      "text/plain": [
       "<AxesSubplot:title={'center':'Grid no mask'}>"
      ]
     },
     "execution_count": 12,
     "metadata": {},
     "output_type": "execute_result"
    },
    {
     "data": {
      "image/png": "[encoded data removed]",
      "text/plain": [
       "<Figure size 432x288 with 1 Axes>"
      ]
     },
     "metadata": {
      "needs_background": "light"
     },
     "output_type": "display_data"
    }
   ],
   "source": [
    "n = 50\n",
    "xi = np.linspace(study_extent_gdf.total_bounds[0], study_extent_gdf.total_bounds[2], n)\n",
    "yi = np.linspace(study_extent_gdf.total_bounds[1], study_extent_gdf.total_bounds[3], n)\n",
    "xi, yi = np.meshgrid(xi, yi)\n",
    "Xnew = np.vstack((xi.flatten(), yi.flatten())).T\n",
    "\n",
    "plt.title('Grid no mask')\n",
    "ax=plt.subplot(111)\n",
    "ax.scatter(xi, yi, c='k', alpha=0.5, s=1)\n",
    "study_extent_gdf.plot(ax=ax,color=\"r\", alpha=0.5, linewidth=2, label=\"Study area\")\n",
    "\n",
    "#plt.show()\n"
   ]
  },
  {
   "cell_type": "code",
   "execution_count": 13,
   "id": "c361171b",
   "metadata": {},
   "outputs": [
    {
     "name": "stdout",
     "output_type": "stream",
     "text": [
      "[[138.44244983 -35.35049861]\n",
      " [138.44867235 -35.35049861]\n",
      " [138.45489487 -35.35049861]\n",
      " ...\n",
      " [138.73490821 -35.11842853]\n",
      " [138.74113072 -35.11842853]\n",
      " [138.74735324 -35.11842853]]\n"
     ]
    }
   ],
   "source": [
    "#print(len(X))\n",
    "#print(len(xi))\n",
    "#print(xi)\n",
    "#print(np.shape(xi))\n",
    "#print(len(yi))\n",
    "#type(Xnew)\n",
    "#np.shape(Xnew)\n",
    "print(Xnew)"
   ]
  },
  {
   "cell_type": "code",
   "execution_count": 14,
   "id": "9fa81267",
   "metadata": {},
   "outputs": [],
   "source": [
    "from shapely.geometry import Polygon, LineString, Point\n",
    "\n",
    "point1 = Point(138.5596182, -35.2239105)\n",
    "point2 = Point(138.5980052, -35.1673645)\n",
    "\n",
    "points = gpd.GeoSeries([point1, point2])\n",
    "points=points.set_crs(study_extent_gdf.crs)"
   ]
  },
  {
   "cell_type": "markdown",
   "id": "b01bcbce",
   "metadata": {},
   "source": [
    "### Turn all points from grid into a geoseries\n",
    "\n",
    "Then they can be used with intersection/geospatial tools to remove points that aren't contained by shapefile"
   ]
  },
  {
   "cell_type": "code",
   "execution_count": 15,
   "id": "2f457bfd",
   "metadata": {},
   "outputs": [
    {
     "data": {
      "text/plain": [
       "0    POINT (138.44245 -35.35050)\n",
       "1    POINT (138.44867 -35.35050)\n",
       "2    POINT (138.45489 -35.35050)\n",
       "3    POINT (138.46112 -35.35050)\n",
       "4    POINT (138.46734 -35.35050)\n",
       "dtype: geometry"
      ]
     },
     "execution_count": 15,
     "metadata": {},
     "output_type": "execute_result"
    }
   ],
   "source": [
    "s = gpd.GeoSeries(map(Point, Xnew))\n",
    "s.head()"
   ]
  },
  {
   "cell_type": "code",
   "execution_count": 16,
   "id": "917e721c",
   "metadata": {},
   "outputs": [
    {
     "name": "stdout",
     "output_type": "stream",
     "text": [
      "None\n",
      "epsg:4283\n"
     ]
    }
   ],
   "source": [
    "print(s.crs)\n",
    "s = s.set_crs(study_extent_gdf.crs)\n",
    "print(s.crs)"
   ]
  },
  {
   "cell_type": "code",
   "execution_count": 17,
   "id": "e1eaba4b",
   "metadata": {},
   "outputs": [
    {
     "name": "stdout",
     "output_type": "stream",
     "text": [
      "<class 'geopandas.geodataframe.GeoDataFrame'>\n",
      "RangeIndex(start=0, stop=1, step=1)\n",
      "Index(['OBJECTID', 'SHAPE_Leng', 'SHAPE_Area', 'geometry'], dtype='object')\n",
      "<class 'geopandas.geoseries.GeoSeries'>\n",
      "RangeIndex(start=0, stop=2500, step=1)\n"
     ]
    }
   ],
   "source": [
    "print(type(study_extent_gdf))\n",
    "print(study_extent_gdf.index)\n",
    "print(study_extent_gdf.columns)\n",
    "print(type(s))\n",
    "print(s.index)"
   ]
  },
  {
   "cell_type": "markdown",
   "id": "0a881127",
   "metadata": {},
   "source": [
    "### Find all grid points that intersect with the study area"
   ]
  },
  {
   "cell_type": "code",
   "execution_count": 18,
   "id": "dd7b5f53",
   "metadata": {},
   "outputs": [
    {
     "name": "stderr",
     "output_type": "stream",
     "text": [
      "C:\\Users\\mar886\\Anaconda3\\envs\\geo_env\\lib\\site-packages\\geopandas\\base.py:31: UserWarning: The indices of the two GeoSeries are different.\n",
      "  warn(\"The indices of the two GeoSeries are different.\")\n"
     ]
    },
    {
     "data": {
      "text/plain": [
       "0    False\n",
       "1    False\n",
       "2    False\n",
       "3    False\n",
       "4    False\n",
       "dtype: bool"
      ]
     },
     "execution_count": 18,
     "metadata": {},
     "output_type": "execute_result"
    }
   ],
   "source": [
    "s_icpt = study_extent_gdf.contains(s, align=True)\n",
    "s_icpt.head()"
   ]
  },
  {
   "cell_type": "code",
   "execution_count": 19,
   "id": "2478775d",
   "metadata": {},
   "outputs": [
    {
     "data": {
      "text/plain": [
       "(2500,)"
      ]
     },
     "execution_count": 19,
     "metadata": {},
     "output_type": "execute_result"
    }
   ],
   "source": [
    "type(s_icpt)\n",
    "np.shape(s_icpt)"
   ]
  },
  {
   "cell_type": "code",
   "execution_count": 20,
   "id": "dc86bf25",
   "metadata": {},
   "outputs": [
    {
     "name": "stdout",
     "output_type": "stream",
     "text": [
      "2500\n",
      "1074\n"
     ]
    }
   ],
   "source": [
    "s_clip = s.clip(study_extent_gdf)\n",
    "s_clip.head()\n",
    "print(len(s))\n",
    "print(len(s_clip))"
   ]
  },
  {
   "cell_type": "code",
   "execution_count": 21,
   "id": "b08550d0",
   "metadata": {},
   "outputs": [
    {
     "data": {
      "text/plain": [
       "<AxesSubplot:>"
      ]
     },
     "execution_count": 21,
     "metadata": {},
     "output_type": "execute_result"
    },
    {
     "data": {
      "image/png": "[encoded data removed]",
      "text/plain": [
       "<Figure size 432x288 with 1 Axes>"
      ]
     },
     "metadata": {
      "needs_background": "light"
     },
     "output_type": "display_data"
    },
    {
     "data": {
      "image/png": "[encoded data removed]",
      "text/plain": [
       "<Figure size 432x288 with 1 Axes>"
      ]
     },
     "metadata": {
      "needs_background": "light"
     },
     "output_type": "display_data"
    }
   ],
   "source": [
    "s_clip.head()\n",
    "s.plot(color=\"r\",markersize=1)\n",
    "s_clip.plot(markersize=1)"
   ]
  },
  {
   "cell_type": "markdown",
   "id": "6989210d",
   "metadata": {},
   "source": [
    "## Save the grid\n",
    "\n",
    "So I can use it for other geospatial stuff"
   ]
  },
  {
   "cell_type": "code",
   "execution_count": 25,
   "id": "d02a202d",
   "metadata": {},
   "outputs": [],
   "source": [
    "s_clip.to_file(os.path.join(outputdatapath,'willunga_regular_grid.shp'))  "
   ]
  },
  {
   "cell_type": "markdown",
   "id": "23f7956c",
   "metadata": {},
   "source": [
    "### Get array of grid locations\n",
    "\n",
    "From the Geoseries"
   ]
  },
  {
   "cell_type": "code",
   "execution_count": 155,
   "id": "6c2dcd1c",
   "metadata": {},
   "outputs": [
    {
     "name": "stdout",
     "output_type": "stream",
     "text": [
      "<class 'geopandas.geoseries.GeoSeries'>\n",
      "(1074,)\n",
      "<class 'numpy.ndarray'>\n",
      "(2500, 2)\n",
      "[138.44244983 -35.35049861]\n"
     ]
    },
    {
     "data": {
      "text/plain": [
       "numpy.ndarray"
      ]
     },
     "execution_count": 155,
     "metadata": {},
     "output_type": "execute_result"
    }
   ],
   "source": [
    "print(type(s_clip))\n",
    "print(np.shape(s_clip))\n",
    "print(type(Xnew))\n",
    "print(np.shape(Xnew))\n",
    "\n",
    "print(Xnew[0])\n",
    "type(Xnew[0])"
   ]
  },
  {
   "cell_type": "code",
   "execution_count": 160,
   "id": "03de0bca",
   "metadata": {},
   "outputs": [],
   "source": [
    "from shapely.geometry import shape\n",
    "\n",
    "s_clip.head()\n",
    "s_clip.y\n",
    "s_clip.x\n",
    "\n",
    "list_sclip = []\n",
    "\n",
    "for i in s_clip.index:\n",
    "    pointval = s_clip.loc[i]\n",
    "    list_sclip.append(np.asarray([pointval.x, pointval.y]))"
   ]
  },
  {
   "cell_type": "code",
   "execution_count": 167,
   "id": "f00363fd",
   "metadata": {},
   "outputs": [
    {
     "name": "stdout",
     "output_type": "stream",
     "text": [
      "[[138.72246317 -35.14684527]\n",
      " [138.71624065 -35.14684527]\n",
      " [138.71624065 -35.14210915]\n",
      " ...\n",
      " [138.4673399  -35.31260962]\n",
      " [138.48600746 -35.31260962]\n",
      " [138.46111738 -35.31260962]]\n",
      "<class 'numpy.ndarray'>\n",
      "[138.72246317 -35.14684527]\n",
      "<class 'numpy.ndarray'>\n",
      "(1074, 2)\n",
      "73\n",
      "73\n"
     ]
    }
   ],
   "source": [
    "arr_sclip = np.asarray(list_sclip)\n",
    "\n",
    "print(arr_sclip)\n",
    "\n",
    "print(type(arr_sclip))\n",
    "print(arr_sclip[0])\n",
    "print(type(arr_sclip[0]))\n",
    "print(np.shape(arr_sclip))\n",
    "\n",
    "print(len(X))\n",
    "print(len(y))"
   ]
  },
  {
   "cell_type": "markdown",
   "id": "15b6f4b1",
   "metadata": {},
   "source": [
    "Define the spherical covariance function:"
   ]
  },
  {
   "cell_type": "code",
   "execution_count": 168,
   "id": "4dca205b",
   "metadata": {},
   "outputs": [],
   "source": [
    "def spherical(X1, X2, a, b):\n",
    "    \"\"\"\n",
    "    Spherical covariance.\n",
    "\n",
    "    Parameters\n",
    "    ----------\n",
    "    X1:array\n",
    "        Array of coordinates.\n",
    "    X2:array\n",
    "        Array of coordinates.\n",
    "    a:float\n",
    "        Range\n",
    "    b:float\n",
    "        Sill\n",
    "\n",
    "    References\n",
    "    -----------\n",
    "    Wackernagel, H., 1995. Geostatistics, in: Multivariate Geostatistics.\n",
    "    Springer Berlin Heidelberg, Berlin, Heidelberg, pp. 74–81.\n",
    "    https://doi.org/10.1007/978-3-662-03098-1_11\n",
    "    \"\"\"\n",
    "    h = cdist(X1, X2)\n",
    "    cv = b * (1 - 3/2 * h/a + 1/2 * h**3 / a**3)\n",
    "    return cv"
   ]
  },
  {
   "cell_type": "markdown",
   "id": "1ce8f388",
   "metadata": {},
   "source": [
    "Define the Ordinary Kriging algorithm:"
   ]
  },
  {
   "cell_type": "code",
   "execution_count": 169,
   "id": "ade44948",
   "metadata": {},
   "outputs": [],
   "source": [
    "def Ordinary(Kii, Kij, Kjj, y):\n",
    "    \"\"\"\n",
    "    The Ordinary kriging algorithm.\n",
    "\n",
    "    Parameters\n",
    "    ----------\n",
    "    Kii:array\n",
    "        (n, n) covariance matrix of observations locations with observations\n",
    "        locations.\n",
    "    Kij:array\n",
    "        (n, m) covariance matrix of observations locations with prediction\n",
    "        locations.\n",
    "    Kjj:array\n",
    "        (m, m) covariance matrix of prediction locations with prediction\n",
    "        locations.\n",
    "    y:array\n",
    "        (1, n) array of the data.\n",
    "\n",
    "    Returns\n",
    "    --------\n",
    "    mu:array\n",
    "        (1, m) array of mean estimates.\n",
    "    cov:array\n",
    "        (m,m) array of covariances.\n",
    "    \"\"\"\n",
    "    n, m = np.size(Kii, axis=0), np.size(Kjj,axis=0)\n",
    "    Cii = np.ones((n + 1, n + 1))\n",
    "    Cii[:n, :n] = Kii\n",
    "    Cii[-1, -1] = 0\n",
    "    Cij = np.ones((n + 1, m))\n",
    "    Cij[:n, :] = Kij\n",
    "    w = np.linalg.solve(Cii, Cij)\n",
    "    cov = Kjj - w.T.dot(Cij)\n",
    "    mu = w[:n].T.dot(y)\n",
    "    return mu, cov"
   ]
  },
  {
   "cell_type": "markdown",
   "id": "763330d8",
   "metadata": {},
   "source": [
    "Use the variogram parameters found in gstat:"
   ]
  },
  {
   "cell_type": "code",
   "execution_count": 170,
   "id": "851102c2",
   "metadata": {},
   "outputs": [],
   "source": [
    "l = 15328.54 #range\n",
    "sigma = 40#16.084945 #sill\n",
    "alpha = 3#3.323137 #nugget/microscale variability"
   ]
  },
  {
   "cell_type": "markdown",
   "id": "392eabbc",
   "metadata": {},
   "source": [
    "Define the covariance:"
   ]
  },
  {
   "cell_type": "code",
   "execution_count": 171,
   "id": "60abbf67",
   "metadata": {},
   "outputs": [],
   "source": [
    "Kii = spherical(X, X, l, sigma) + np.eye(y.size) * alpha #covariance between observation locations (with regularisation added to the diagonal of the matrix)\n",
    "Kij = spherical(X, arr_sclip, l, sigma)    #covariance between and prediction locations\n",
    "Kjj = spherical(arr_sclip, arr_sclip, l, sigma) #covariance between prediction locations"
   ]
  },
  {
   "cell_type": "code",
   "execution_count": 172,
   "id": "4e00fe31",
   "metadata": {},
   "outputs": [],
   "source": [
    "mu, cov = Ordinary(Kii, Kij, Kjj, y) #krige\n",
    "var = np.diag(cov) #get the variance from the diagonal of the covariance matrix"
   ]
  },
  {
   "cell_type": "markdown",
   "id": "151c0ac3",
   "metadata": {},
   "source": [
    "Plot mean"
   ]
  },
  {
   "cell_type": "code",
   "execution_count": 183,
   "id": "c8e64fb7",
   "metadata": {},
   "outputs": [
    {
     "data": {
      "image/png": "[encoded data removed]",
      "text/plain": [
       "<Figure size 432x288 with 2 Axes>"
      ]
     },
     "metadata": {
      "needs_background": "light"
     },
     "output_type": "display_data"
    }
   ],
   "source": [
    "plt.title('Mean')\n",
    "plt.scatter(arr_sclip[:, 0], arr_sclip[:, 1], c=mu, cmap=\"coolwarm\")\n",
    "plt.colorbar(label='Mean (m)')\n",
    "plt.show()"
   ]
  },
  {
   "cell_type": "markdown",
   "id": "ac6b88e0",
   "metadata": {},
   "source": [
    "Plot variance"
   ]
  },
  {
   "cell_type": "code",
   "execution_count": 182,
   "id": "56be733f",
   "metadata": {},
   "outputs": [
    {
     "data": {
      "image/png": "[encoded data removed]",
      "text/plain": [
       "<Figure size 432x288 with 2 Axes>"
      ]
     },
     "metadata": {
      "needs_background": "light"
     },
     "output_type": "display_data"
    }
   ],
   "source": [
    "plt.title('Variance')\n",
    "plt.scatter(arr_sclip[:, 0], arr_sclip[:, 1], c=var)\n",
    "\n",
    "s = plt.scatter(df.decimal_long, df.neg_decimal_lat, c=\"k\", s=1)\n",
    "\n",
    "plt.colorbar(label='Variance (m$^2$)')\n",
    "plt.show()"
   ]
  }
 ],
 "metadata": {
  "kernelspec": {
   "display_name": "Python 3",
   "language": "python",
   "name": "python3"
  },
  "language_info": {
   "codemirror_mode": {
    "name": "ipython",
    "version": 3
   },
   "file_extension": ".py",
   "mimetype": "text/x-python",
   "name": "python",
   "nbconvert_exporter": "python",
   "pygments_lexer": "ipython3",
   "version": "3.6.13"
  }
 },
 "nbformat": 4,
 "nbformat_minor": 5
}
